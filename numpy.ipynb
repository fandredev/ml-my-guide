{
 "cells": [
  {
   "cell_type": "markdown",
   "id": "48dd212d",
   "metadata": {},
   "source": [
    "### Array de 1 dimensão [Unidimensional]"
   ]
  },
  {
   "cell_type": "code",
   "execution_count": 58,
   "id": "9b4a5db0",
   "metadata": {},
   "outputs": [],
   "source": [
    "import numpy as np"
   ]
  },
  {
   "cell_type": "code",
   "execution_count": 59,
   "id": "59ffa565",
   "metadata": {},
   "outputs": [
    {
     "data": {
      "text/plain": [
       "array([ 1,  4,  8, 10])"
      ]
     },
     "execution_count": 59,
     "metadata": {},
     "output_type": "execute_result"
    }
   ],
   "source": [
    "numeros = np.array([1, 4, 8, 10])\n",
    "\n",
    "numeros"
   ]
  },
  {
   "cell_type": "code",
   "execution_count": 60,
   "id": "c7e6e170",
   "metadata": {},
   "outputs": [
    {
     "data": {
      "text/plain": [
       "np.int64(1)"
      ]
     },
     "execution_count": 60,
     "metadata": {},
     "output_type": "execute_result"
    }
   ],
   "source": [
    "numeros[0]"
   ]
  },
  {
   "cell_type": "code",
   "execution_count": 61,
   "id": "a90ef70b",
   "metadata": {},
   "outputs": [
    {
     "data": {
      "text/plain": [
       "numpy.ndarray"
      ]
     },
     "execution_count": 61,
     "metadata": {},
     "output_type": "execute_result"
    }
   ],
   "source": [
    "type(numeros)"
   ]
  },
  {
   "cell_type": "code",
   "execution_count": 62,
   "id": "2f526127",
   "metadata": {},
   "outputs": [
    {
     "data": {
      "text/plain": [
       "dtype('int64')"
      ]
     },
     "execution_count": 62,
     "metadata": {},
     "output_type": "execute_result"
    }
   ],
   "source": [
    "numeros.dtype"
   ]
  },
  {
   "cell_type": "code",
   "execution_count": 63,
   "id": "915993c1",
   "metadata": {},
   "outputs": [],
   "source": [
    "numeros[0] = 3"
   ]
  },
  {
   "cell_type": "code",
   "execution_count": 64,
   "id": "da98f6a6",
   "metadata": {},
   "outputs": [
    {
     "data": {
      "text/plain": [
       "array([ 3,  4,  8, 10])"
      ]
     },
     "execution_count": 64,
     "metadata": {},
     "output_type": "execute_result"
    }
   ],
   "source": [
    "numeros"
   ]
  },
  {
   "cell_type": "markdown",
   "id": "4b6c30d5",
   "metadata": {},
   "source": [
    "### Array de duas dimensões [Bidimensional]"
   ]
  },
  {
   "cell_type": "code",
   "execution_count": 65,
   "id": "46e65080",
   "metadata": {},
   "outputs": [
    {
     "data": {
      "text/plain": [
       "array([[1, 3, 5],\n",
       "       [2, 4, 6],\n",
       "       [3, 5, 7]])"
      ]
     },
     "execution_count": 65,
     "metadata": {},
     "output_type": "execute_result"
    }
   ],
   "source": [
    "m = np.array([[1, 3, 5], [2, 4, 6], [3,5,7]])\n",
    "\n",
    "m"
   ]
  },
  {
   "cell_type": "code",
   "execution_count": 66,
   "id": "f8276e60",
   "metadata": {},
   "outputs": [
    {
     "data": {
      "text/plain": [
       "np.int64(3)"
      ]
     },
     "execution_count": 66,
     "metadata": {},
     "output_type": "execute_result"
    }
   ],
   "source": [
    "m[0][1]"
   ]
  },
  {
   "cell_type": "code",
   "execution_count": 67,
   "id": "836edc6b",
   "metadata": {},
   "outputs": [],
   "source": [
    "m[0][1] = 10"
   ]
  },
  {
   "cell_type": "code",
   "execution_count": 68,
   "id": "e7e9ed8f",
   "metadata": {},
   "outputs": [
    {
     "data": {
      "text/plain": [
       "array([[ 1, 10,  5],\n",
       "       [ 2,  4,  6],\n",
       "       [ 3,  5,  7]])"
      ]
     },
     "execution_count": 68,
     "metadata": {},
     "output_type": "execute_result"
    }
   ],
   "source": [
    "m"
   ]
  },
  {
   "cell_type": "code",
   "execution_count": 69,
   "id": "40f3ae92",
   "metadata": {},
   "outputs": [
    {
     "name": "stdout",
     "output_type": "stream",
     "text": [
      "Primeira coluna [1 2 3]\n",
      "Segunda coluna [10  4  5]\n"
     ]
    }
   ],
   "source": [
    "# Visualizar uma coluna inteira\n",
    "\n",
    "print('Primeira coluna', m[:, 0])\n",
    "print('Segunda coluna', m[:, 1])"
   ]
  },
  {
   "cell_type": "code",
   "execution_count": 70,
   "id": "15d201ae",
   "metadata": {},
   "outputs": [
    {
     "name": "stdout",
     "output_type": "stream",
     "text": [
      "Primeira linha [ 1 10  5]\n",
      "Segunda linha [2 4 6]\n"
     ]
    }
   ],
   "source": [
    "# Visualizar linha inteira\n",
    "\n",
    "print('Primeira linha', m[0, :])\n",
    "print('Segunda linha', m[1, :])"
   ]
  },
  {
   "cell_type": "code",
   "execution_count": 71,
   "id": "fe01fabc",
   "metadata": {},
   "outputs": [
    {
     "data": {
      "text/plain": [
       "(1, 2)"
      ]
     },
     "execution_count": 71,
     "metadata": {},
     "output_type": "execute_result"
    }
   ],
   "source": [
    "# Numero de dimensões de um array\n",
    "\n",
    "numeros.ndim, m.ndim"
   ]
  },
  {
   "cell_type": "code",
   "execution_count": 72,
   "id": "66d21e1b",
   "metadata": {},
   "outputs": [
    {
     "data": {
      "text/plain": [
       "((4,), (3, 3))"
      ]
     },
     "execution_count": 72,
     "metadata": {},
     "output_type": "execute_result"
    }
   ],
   "source": [
    "# Tamanho de um array\n",
    "\n",
    "numeros.shape, m.shape"
   ]
  },
  {
   "cell_type": "code",
   "execution_count": 73,
   "id": "7b621b42",
   "metadata": {},
   "outputs": [
    {
     "data": {
      "text/plain": [
       "(4, 9)"
      ]
     },
     "execution_count": 73,
     "metadata": {},
     "output_type": "execute_result"
    }
   ],
   "source": [
    "# Número de elementos de um array\n",
    "\n",
    "numeros.size, m.size"
   ]
  },
  {
   "cell_type": "markdown",
   "id": "82002824",
   "metadata": {},
   "source": [
    "### Array de 3 dimensões [Tridimensional] (3D)"
   ]
  },
  {
   "cell_type": "code",
   "execution_count": 74,
   "id": "189a4a6c",
   "metadata": {},
   "outputs": [
    {
     "data": {
      "text/plain": [
       "array([[[ 1,  2,  3],\n",
       "        [ 4,  5,  6],\n",
       "        [ 7,  8,  9]],\n",
       "\n",
       "       [[10, 11, 12],\n",
       "        [13, 14, 15],\n",
       "        [16, 17, 18]],\n",
       "\n",
       "       [[19, 20, 21],\n",
       "        [22, 23, 24],\n",
       "        [25, 26, 27]]])"
      ]
     },
     "execution_count": 74,
     "metadata": {},
     "output_type": "execute_result"
    }
   ],
   "source": [
    "# Criar um array tridimensional (3D)\n",
    "cubo = np.array([\n",
    "    [\n",
    "        [1, 2, 3],\n",
    "        [4, 5, 6],\n",
    "        [7, 8, 9]\n",
    "    ],\n",
    "    [\n",
    "        [10, 11, 12],\n",
    "        [13, 14, 15],\n",
    "        [16, 17, 18]\n",
    "    ],\n",
    "    [\n",
    "        [19, 20, 21],\n",
    "        [22, 23, 24],\n",
    "        [25, 26, 27]\n",
    "    ]\n",
    "])\n",
    "\n",
    "cubo"
   ]
  },
  {
   "cell_type": "code",
   "execution_count": 75,
   "id": "021da20d",
   "metadata": {},
   "outputs": [],
   "source": [
    "import matplotlib.pyplot as plt\n",
    "from mpl_toolkits.mplot3d import Axes3D"
   ]
  },
  {
   "cell_type": "code",
   "execution_count": 76,
   "id": "248eba3d",
   "metadata": {},
   "outputs": [
    {
     "data": {
      "image/png": "[encoded data removed]",
      "text/plain": [
       "<Figure size 800x800 with 1 Axes>"
      ]
     },
     "metadata": {},
     "output_type": "display_data"
    }
   ],
   "source": [
    "# Visualizar o array 3D 'cubo'\n",
    "fig = plt.figure(figsize=(8, 8))\n",
    "ax = fig.add_subplot(111, projection='3d')\n",
    "\n",
    "# Obter as coordenadas x, y, z e os valores do cubo\n",
    "x, y, z = np.indices(cubo.shape)\n",
    "values = cubo.flatten()\n",
    "\n",
    "# Plotar os pontos do cubo\n",
    "for i, value in enumerate(values):\n",
    "    ax.text(x.flatten()[i], y.flatten()[i], z.flatten()[i], str(value), color='blue', fontsize=10, ha='center')\n",
    "\n",
    "ax.set_xlabel('X')\n",
    "ax.set_ylabel('Y')\n",
    "ax.set_zlabel('Z')\n",
    "ax.set_title('Visualização do Array 3D (Cubo)')\n",
    "\n",
    "plt.show()"
   ]
  },
  {
   "cell_type": "code",
   "execution_count": 77,
   "id": "b01ccf3b",
   "metadata": {},
   "outputs": [
    {
     "name": "stdout",
     "output_type": "stream",
     "text": [
      "Item na posição (0, 0, 0): 1\n",
      "Item na posição (1, 1, 1): 14\n",
      "Item na posição (2, 2, 2): 27\n",
      "Item na posição (0, 1, 2): 6\n",
      "Item na posição (2, 0, 1): 20\n"
     ]
    }
   ],
   "source": [
    "# Visualizar itens específicos do array 3D 'cubo'\n",
    "print('Item na posição (0, 0, 0):', cubo[0, 0, 0])\n",
    "print('Item na posição (1, 1, 1):', cubo[1, 1, 1])\n",
    "print('Item na posição (2, 2, 2):', cubo[2, 2, 2])\n",
    "print('Item na posição (0, 1, 2):', cubo[0, 1, 2])\n",
    "print('Item na posição (2, 0, 1):', cubo[2, 0, 1])"
   ]
  },
  {
   "cell_type": "code",
   "execution_count": 78,
   "id": "e76fd0c3",
   "metadata": {},
   "outputs": [
    {
     "name": "stdout",
     "output_type": "stream",
     "text": [
      "Número de dimensões do cubo: 3\n",
      "Tamanho do array do cubo: (3, 3, 3)\n",
      "Número total de elementos do cubo: 27\n"
     ]
    }
   ],
   "source": [
    "# Número de dimensões do array 'cubo'\n",
    "print('Número de dimensões do cubo:', cubo.ndim)\n",
    "\n",
    "# Tamanho do array 'cubo'\n",
    "print('Tamanho do array do cubo:', cubo.shape)\n",
    "\n",
    "# Número total de elementos do array 'cubo'\n",
    "print('Número total de elementos do cubo:', cubo.size)"
   ]
  },
  {
   "cell_type": "markdown",
   "id": "207a89e4",
   "metadata": {},
   "source": [
    "## Prenchimento de arrays"
   ]
  },
  {
   "cell_type": "code",
   "execution_count": 79,
   "id": "d15d0607",
   "metadata": {},
   "outputs": [
    {
     "data": {
      "text/plain": [
       "array([  0,   2,   4,   6,   8,  10,  12,  14,  16,  18,  20,  22,  24,\n",
       "        26,  28,  30,  32,  34,  36,  38,  40,  42,  44,  46,  48,  50,\n",
       "        52,  54,  56,  58,  60,  62,  64,  66,  68,  70,  72,  74,  76,\n",
       "        78,  80,  82,  84,  86,  88,  90,  92,  94,  96,  98, 100])"
      ]
     },
     "execution_count": 79,
     "metadata": {},
     "output_type": "execute_result"
    }
   ],
   "source": [
    "### Criar um array com os números pares de 0 a 100\n",
    "\n",
    "pares = np.arange(0, 101, 2)\n",
    "pares"
   ]
  },
  {
   "cell_type": "markdown",
   "id": "3a789086",
   "metadata": {},
   "source": [
    "### Preencher arrays com zeros, uns ou valores especificos"
   ]
  },
  {
   "cell_type": "markdown",
   "id": "f8b9194f",
   "metadata": {},
   "source": [
    "##### Método 'zeros'"
   ]
  },
  {
   "cell_type": "code",
   "execution_count": 80,
   "id": "d0013444",
   "metadata": {},
   "outputs": [
    {
     "data": {
      "text/plain": [
       "array([0., 0., 0., 0., 0., 0., 0., 0., 0., 0.])"
      ]
     },
     "execution_count": 80,
     "metadata": {},
     "output_type": "execute_result"
    }
   ],
   "source": [
    "### Criar arrays com 10 elementos iguais a 0\n",
    "\n",
    "zeros = np.zeros(10)\n",
    "zeros"
   ]
  },
  {
   "cell_type": "code",
   "execution_count": 92,
   "id": "8fcc2dad",
   "metadata": {},
   "outputs": [
    {
     "name": "stdout",
     "output_type": "stream",
     "text": [
      "Tipo de dados do array zeros: float64\n"
     ]
    }
   ],
   "source": [
    "# Verificar o tipo de dados do array 'zeros'\n",
    "print('Tipo de dados do array zeros:', zeros.dtype)"
   ]
  },
  {
   "cell_type": "code",
   "execution_count": 88,
   "id": "834f222a",
   "metadata": {},
   "outputs": [
    {
     "data": {
      "text/plain": [
       "array([0, 0, 0, 0, 0, 0, 0, 0, 0, 0])"
      ]
     },
     "execution_count": 88,
     "metadata": {},
     "output_type": "execute_result"
    }
   ],
   "source": [
    "### Criar array com 10 elementos iguais a 0 com o tipo de dado int\n",
    "\n",
    "zeros_int = np.zeros(10, dtype=int)\n",
    "zeros_int"
   ]
  },
  {
   "cell_type": "code",
   "execution_count": null,
   "id": "c9a8c561",
   "metadata": {},
   "outputs": [
    {
     "name": "stdout",
     "output_type": "stream",
     "text": [
      "Tipo de dados do array zeros: int64\n"
     ]
    }
   ],
   "source": [
    "# Verificar o tipo de dado do array 'zeros_int'\n",
    "\n",
    "print('Tipo de dados do array zeros_int:', zeros_int.dtype)"
   ]
  },
  {
   "cell_type": "code",
   "execution_count": 104,
   "id": "44814a89",
   "metadata": {},
   "outputs": [
    {
     "data": {
      "text/plain": [
       "array([[0, 0, 0, 0, 0],\n",
       "       [0, 0, 0, 0, 0],\n",
       "       [0, 0, 0, 0, 0],\n",
       "       [0, 0, 0, 0, 0],\n",
       "       [0, 0, 0, 0, 0],\n",
       "       [0, 0, 0, 0, 0],\n",
       "       [0, 0, 0, 0, 0],\n",
       "       [0, 0, 0, 0, 0],\n",
       "       [0, 0, 0, 0, 0],\n",
       "       [0, 0, 0, 0, 0]])"
      ]
     },
     "execution_count": 104,
     "metadata": {},
     "output_type": "execute_result"
    }
   ],
   "source": [
    "# Criando um array bidimensional com 10 linhas e 5 colunas\n",
    "linhas = 10\n",
    "colunas = 5\n",
    "array_bidimensional = np.zeros((linhas, colunas), dtype=int)\n",
    "array_bidimensional"
   ]
  },
  {
   "cell_type": "markdown",
   "id": "950c680d",
   "metadata": {},
   "source": [
    "##### Método 'ones'"
   ]
  },
  {
   "cell_type": "code",
   "execution_count": 87,
   "id": "422a60f6",
   "metadata": {},
   "outputs": [
    {
     "data": {
      "text/plain": [
       "array([1., 1., 1., 1., 1., 1., 1., 1., 1., 1., 1., 1., 1., 1., 1.])"
      ]
     },
     "execution_count": 87,
     "metadata": {},
     "output_type": "execute_result"
    }
   ],
   "source": [
    "### Criar arrays com 15 elementos iguais a 1\n",
    "\n",
    "uns = np.ones(15)\n",
    "uns"
   ]
  },
  {
   "cell_type": "code",
   "execution_count": 95,
   "id": "7290b33a",
   "metadata": {},
   "outputs": [
    {
     "name": "stdout",
     "output_type": "stream",
     "text": [
      "Tipo de dados do array uns: float64\n"
     ]
    }
   ],
   "source": [
    "print('Tipo de dados do array uns:', uns.dtype)"
   ]
  },
  {
   "cell_type": "code",
   "execution_count": 89,
   "id": "4e94c6be",
   "metadata": {},
   "outputs": [
    {
     "data": {
      "text/plain": [
       "array([1, 1, 1, 1, 1, 1, 1, 1, 1, 1])"
      ]
     },
     "execution_count": 89,
     "metadata": {},
     "output_type": "execute_result"
    }
   ],
   "source": [
    "### Criar array com 10 elementos iguais a 1 com o tipo de dado int\n",
    "\n",
    "uns_int = np.ones(10, dtype=int)\n",
    "uns_int"
   ]
  },
  {
   "cell_type": "code",
   "execution_count": 94,
   "id": "8726f1f5",
   "metadata": {},
   "outputs": [
    {
     "name": "stdout",
     "output_type": "stream",
     "text": [
      "Tipo de dados do array uns_int: int64\n"
     ]
    }
   ],
   "source": [
    "# Visualizar o tipo de dado do array 'uns_int'\n",
    "print('Tipo de dados do array uns_int:', uns_int.dtype)"
   ]
  },
  {
   "cell_type": "code",
   "execution_count": null,
   "id": "795e5511",
   "metadata": {},
   "outputs": [
    {
     "data": {
      "text/plain": [
       "array([[0., 0., 0., 0., 0.],\n",
       "       [0., 0., 0., 0., 0.],\n",
       "       [0., 0., 0., 0., 0.],\n",
       "       [0., 0., 0., 0., 0.],\n",
       "       [0., 0., 0., 0., 0.],\n",
       "       [0., 0., 0., 0., 0.],\n",
       "       [0., 0., 0., 0., 0.],\n",
       "       [0., 0., 0., 0., 0.],\n",
       "       [0., 0., 0., 0., 0.],\n",
       "       [0., 0., 0., 0., 0.]])"
      ]
     },
     "execution_count": 106,
     "metadata": {},
     "output_type": "execute_result"
    }
   ],
   "source": [
    "# Criando um array bidimensional com 10 linhas e 5 colunas\n",
    "linhas = 10\n",
    "colunas = 5\n",
    "array_bidimensional = np.zeros((linhas, colunas))\n",
    "array_bidimensional"
   ]
  },
  {
   "cell_type": "markdown",
   "id": "357a24d2",
   "metadata": {},
   "source": [
    "##### Método 'full'"
   ]
  },
  {
   "cell_type": "code",
   "execution_count": 97,
   "id": "6fd34d3d",
   "metadata": {},
   "outputs": [
    {
     "data": {
      "text/plain": [
       "array([5, 5, 5, 5, 5, 5, 5, 5, 5])"
      ]
     },
     "execution_count": 97,
     "metadata": {},
     "output_type": "execute_result"
    }
   ],
   "source": [
    "### Criar um array com 9 elementos iguais a 5\n",
    "five_arrays = np.full(9, 5)\n",
    "five_arrays"
   ]
  },
  {
   "cell_type": "code",
   "execution_count": null,
   "id": "6232657b",
   "metadata": {},
   "outputs": [
    {
     "name": "stdout",
     "output_type": "stream",
     "text": [
      "Tipo de dados do array five_arrays: int64\n"
     ]
    }
   ],
   "source": [
    "# Visualizar o tipo de dado do array 'five_arrays'\n",
    "\n",
    "print('Tipo de dados do array five_arrays:', five_arrays.dtype)"
   ]
  },
  {
   "cell_type": "code",
   "execution_count": 101,
   "id": "f13ef58d",
   "metadata": {},
   "outputs": [
    {
     "data": {
      "text/plain": [
       "array([5., 5., 5., 5., 5., 5., 5., 5., 5.])"
      ]
     },
     "execution_count": 101,
     "metadata": {},
     "output_type": "execute_result"
    }
   ],
   "source": [
    "### Criar um array com 9 elementos iguais a 5 com o tipo de dado int\n",
    "\n",
    "five_arrays_int = np.full(9, 5, dtype=float)\n",
    "five_arrays_int"
   ]
  },
  {
   "cell_type": "code",
   "execution_count": 102,
   "id": "c06133cf",
   "metadata": {},
   "outputs": [
    {
     "name": "stdout",
     "output_type": "stream",
     "text": [
      "Tipo de dados do array five_arrays_int: float64\n"
     ]
    }
   ],
   "source": [
    "# Visualizar o tipo de dado do array 'five_arrays_int'\n",
    "print('Tipo de dados do array five_arrays_int:', five_arrays_int.dtype)"
   ]
  },
  {
   "cell_type": "code",
   "execution_count": 111,
   "id": "01590912",
   "metadata": {},
   "outputs": [
    {
     "data": {
      "text/plain": [
       "array([[99, 99, 99, 99, 99],\n",
       "       [99, 99, 99, 99, 99],\n",
       "       [99, 99, 99, 99, 99],\n",
       "       [99, 99, 99, 99, 99],\n",
       "       [99, 99, 99, 99, 99],\n",
       "       [99, 99, 99, 99, 99],\n",
       "       [99, 99, 99, 99, 99],\n",
       "       [99, 99, 99, 99, 99],\n",
       "       [99, 99, 99, 99, 99],\n",
       "       [99, 99, 99, 99, 99]])"
      ]
     },
     "execution_count": 111,
     "metadata": {},
     "output_type": "execute_result"
    }
   ],
   "source": [
    "# Criando um array bidimensional com 10 linhas e 5 colunas\n",
    "linhas = 10\n",
    "colunas = 5\n",
    "array_bidimensional = np.full((linhas, colunas), 99)\n",
    "array_bidimensional"
   ]
  },
  {
   "cell_type": "markdown",
   "id": "3982e389",
   "metadata": {},
   "source": [
    "##### Criar array a partir de faixas de valores: métodos ```arange``` e ```linspace```"
   ]
  },
  {
   "cell_type": "markdown",
   "id": "4942d3f8",
   "metadata": {},
   "source": [
    "##### Arrange"
   ]
  },
  {
   "cell_type": "code",
   "execution_count": 112,
   "id": "2bd930a0",
   "metadata": {},
   "outputs": [
    {
     "data": {
      "text/plain": [
       "array([0, 1, 2, 3, 4, 5, 6, 7, 8, 9])"
      ]
     },
     "execution_count": 112,
     "metadata": {},
     "output_type": "execute_result"
    }
   ],
   "source": [
    "# Arrays com 10 elementos, números de 0 a 9\n",
    "numeros_0_a_9 = np.arange(10)\n",
    "numeros_0_a_9"
   ]
  },
  {
   "cell_type": "code",
   "execution_count": 113,
   "id": "69dc7ced",
   "metadata": {},
   "outputs": [
    {
     "data": {
      "text/plain": [
       "array([0., 1., 2., 3., 4., 5., 6., 7., 8., 9.])"
      ]
     },
     "execution_count": 113,
     "metadata": {},
     "output_type": "execute_result"
    }
   ],
   "source": [
    "# Arrays com 10 elementos, números float de 0 a 9\n",
    "numeros_float_0_a_9 = np.arange(10, dtype=float)\n",
    "numeros_float_0_a_9"
   ]
  },
  {
   "cell_type": "code",
   "execution_count": 114,
   "id": "2ac8dcd8",
   "metadata": {},
   "outputs": [
    {
     "data": {
      "text/plain": [
       "array([ 5,  6,  7,  8,  9, 10, 11, 12, 13, 14, 15])"
      ]
     },
     "execution_count": 114,
     "metadata": {},
     "output_type": "execute_result"
    }
   ],
   "source": [
    "# Arrays com valores no intervalo de 5 a 15\n",
    "numeros_5_a_15 = np.arange(5, 16)\n",
    "numeros_5_a_15"
   ]
  },
  {
   "cell_type": "code",
   "execution_count": 115,
   "id": "6a8ab086",
   "metadata": {},
   "outputs": [
    {
     "data": {
      "text/plain": [
       "array([100,  99,  98,  97,  96,  95,  94,  93,  92,  91,  90,  89,  88,\n",
       "        87,  86,  85,  84,  83,  82,  81,  80,  79,  78,  77,  76,  75,\n",
       "        74,  73,  72,  71,  70,  69,  68,  67,  66,  65,  64,  63,  62,\n",
       "        61,  60,  59,  58,  57,  56,  55,  54,  53,  52,  51,  50,  49,\n",
       "        48,  47,  46,  45,  44,  43,  42,  41,  40,  39,  38,  37,  36,\n",
       "        35,  34,  33,  32,  31,  30,  29,  28,  27,  26,  25,  24,  23,\n",
       "        22,  21,  20,  19,  18,  17,  16,  15,  14,  13,  12,  11,  10,\n",
       "         9,   8,   7,   6,   5,   4,   3,   2,   1])"
      ]
     },
     "execution_count": 115,
     "metadata": {},
     "output_type": "execute_result"
    }
   ],
   "source": [
    "# Arrays com valores no intervalo de 100 a 1, com passo -1\n",
    "numeros_100_a_1 = np.arange(100, 0, -1)\n",
    "numeros_100_a_1"
   ]
  },
  {
   "cell_type": "markdown",
   "id": "fab3cf18",
   "metadata": {},
   "source": [
    "##### Linspace"
   ]
  }
 ],
 "metadata": {
  "kernelspec": {
   "display_name": "my-ml-guide",
   "language": "python",
   "name": "python3"
  },
  "language_info": {
   "codemirror_mode": {
    "name": "ipython",
    "version": 3
   },
   "file_extension": ".py",
   "mimetype": "text/x-python",
   "name": "python",
   "nbconvert_exporter": "python",
   "pygments_lexer": "ipython3",
   "version": "3.13.2"
  }
 },
 "nbformat": 4,
 "nbformat_minor": 5
}
