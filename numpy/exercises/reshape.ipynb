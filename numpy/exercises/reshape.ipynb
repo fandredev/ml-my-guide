{
 "cells": [
  {
   "cell_type": "code",
   "execution_count": 92,
   "id": "f86a1090",
   "metadata": {},
   "outputs": [],
   "source": [
    "import numpy as np"
   ]
  },
  {
   "cell_type": "markdown",
   "id": "cb9eef30",
   "metadata": {},
   "source": [
    "##### Exercício 1 – Transformar um vetor em uma matriz 2D\n",
    "\n",
    "Tarefa: Transforme esse vetor em uma matriz 2D com 2 linhas e 5 colunas."
   ]
  },
  {
   "cell_type": "code",
   "execution_count": 93,
   "id": "f44864c3",
   "metadata": {},
   "outputs": [
    {
     "data": {
      "text/plain": [
       "1"
      ]
     },
     "execution_count": 93,
     "metadata": {},
     "output_type": "execute_result"
    }
   ],
   "source": [
    "vetor = np.array([10, 20, 30, 40, 50, 60, 70, 80, 90, 100])\n",
    "\n",
    "vetor.ndim"
   ]
  },
  {
   "cell_type": "code",
   "execution_count": 94,
   "id": "b0cc6b28",
   "metadata": {},
   "outputs": [
    {
     "data": {
      "text/plain": [
       "10"
      ]
     },
     "execution_count": 94,
     "metadata": {},
     "output_type": "execute_result"
    }
   ],
   "source": [
    "len(vetor)"
   ]
  },
  {
   "cell_type": "code",
   "execution_count": 95,
   "id": "8af518f5",
   "metadata": {},
   "outputs": [],
   "source": [
    "# Internamente vai ser feita uma multiplicação\n",
    "\n",
    "vetor = vetor.reshape(2,5)"
   ]
  },
  {
   "cell_type": "code",
   "execution_count": 96,
   "id": "5bfbd66c",
   "metadata": {},
   "outputs": [
    {
     "data": {
      "text/plain": [
       "(array([[ 10,  20,  30,  40,  50],\n",
       "        [ 60,  70,  80,  90, 100]]),\n",
       " 2)"
      ]
     },
     "execution_count": 96,
     "metadata": {},
     "output_type": "execute_result"
    }
   ],
   "source": [
    "vetor, vetor.ndim"
   ]
  },
  {
   "cell_type": "markdown",
   "id": "d6dc0e45",
   "metadata": {},
   "source": [
    "##### Exercício 2 – Transformar para 3D\n",
    "\n",
    "Tarefa: Transforme esse vetor em uma matriz 3D com 2 blocos, 2 linhas e 4 colunas."
   ]
  },
  {
   "cell_type": "code",
   "execution_count": 97,
   "id": "112e06f6",
   "metadata": {},
   "outputs": [],
   "source": [
    "vetor = np.array([1, 2, 3, 4, 5, 6, 7, 8, 9, 10, 11, 12, 13, 14, 15, 16])\n",
    "\n",
    "vetor = vetor.reshape(2, 2, 4)"
   ]
  },
  {
   "cell_type": "code",
   "execution_count": 98,
   "id": "3357cf2f",
   "metadata": {},
   "outputs": [
    {
     "data": {
      "text/plain": [
       "(array([[[ 1,  2,  3,  4],\n",
       "         [ 5,  6,  7,  8]],\n",
       " \n",
       "        [[ 9, 10, 11, 12],\n",
       "         [13, 14, 15, 16]]]),\n",
       " 3)"
      ]
     },
     "execution_count": 98,
     "metadata": {},
     "output_type": "execute_result"
    }
   ],
   "source": [
    "vetor, vetor.ndim"
   ]
  },
  {
   "cell_type": "markdown",
   "id": "3c61126f",
   "metadata": {},
   "source": [
    "##### Exercício 3 – Achatar uma matriz 2D\n",
    "\n",
    "Tarefa: Use reshape para \"achatar\" essa matriz em um vetor 1D.\n",
    "\n"
   ]
  },
  {
   "cell_type": "code",
   "execution_count": 99,
   "id": "7ca5e296",
   "metadata": {},
   "outputs": [
    {
     "data": {
      "text/plain": [
       "array([[1, 2, 3],\n",
       "       [4, 5, 6],\n",
       "       [7, 8, 9]])"
      ]
     },
     "execution_count": 99,
     "metadata": {},
     "output_type": "execute_result"
    }
   ],
   "source": [
    "matriz_2d = np.array([[1, 2, 3], [4, 5, 6], [7, 8, 9]])\n",
    "\n",
    "matriz_2d"
   ]
  },
  {
   "cell_type": "code",
   "execution_count": 100,
   "id": "91835819",
   "metadata": {},
   "outputs": [
    {
     "data": {
      "text/plain": [
       "(array([1, 2, 3, 4, 5, 6, 7, 8, 9]), 1)"
      ]
     },
     "execution_count": 100,
     "metadata": {},
     "output_type": "execute_result"
    }
   ],
   "source": [
    "matriz_2d = matriz_2d.reshape(-1)\n",
    "matriz_2d, matriz_2d.ndim"
   ]
  },
  {
   "cell_type": "markdown",
   "id": "5611ab54",
   "metadata": {},
   "source": [
    "##### Exercício 4 – Utilizar o -1 para inferir uma dimensão\n",
    "\n",
    "Tarefa: Use o reshape para transformar esse vetor em uma matriz de 3 linhas e automaticamente calcule o número de colunas utilizando -1.\n"
   ]
  },
  {
   "cell_type": "code",
   "execution_count": 101,
   "id": "c84d8b23",
   "metadata": {},
   "outputs": [
    {
     "data": {
      "text/plain": [
       "(array([ 5, 10, 15, 20, 25, 30, 35, 40, 45, 50, 55, 60, 65, 70, 75, 80, 85,\n",
       "        90]),\n",
       " 1)"
      ]
     },
     "execution_count": 101,
     "metadata": {},
     "output_type": "execute_result"
    }
   ],
   "source": [
    "vetor = np.array([5, 10, 15, 20, 25, 30, 35, 40, 45, 50, 55, 60, 65, 70, 75, 80, 85, 90])\n",
    "\n",
    "vetor, vetor.ndim"
   ]
  },
  {
   "cell_type": "code",
   "execution_count": 102,
   "id": "af3ed091",
   "metadata": {},
   "outputs": [
    {
     "data": {
      "text/plain": [
       "(array([[ 5, 10, 15, 20, 25, 30],\n",
       "        [35, 40, 45, 50, 55, 60],\n",
       "        [65, 70, 75, 80, 85, 90]]),\n",
       " 2)"
      ]
     },
     "execution_count": 102,
     "metadata": {},
     "output_type": "execute_result"
    }
   ],
   "source": [
    "vetor = vetor.reshape(3, -1)\n",
    "\n",
    "vetor, vetor.ndim"
   ]
  },
  {
   "cell_type": "markdown",
   "id": "98667117",
   "metadata": {},
   "source": [
    "##### 5. Exercício 5 – Erro de reshape\n"
   ]
  },
  {
   "cell_type": "code",
   "execution_count": 103,
   "id": "4ddf7c6c",
   "metadata": {},
   "outputs": [
    {
     "data": {
      "text/plain": [
       "(array([10, 20, 30, 40]), 1, 4)"
      ]
     },
     "execution_count": 103,
     "metadata": {},
     "output_type": "execute_result"
    }
   ],
   "source": [
    "vetor = np.array([10, 20, 30, 40])\n",
    "\n",
    "vetor, vetor.ndim, vetor.size"
   ]
  },
  {
   "cell_type": "code",
   "execution_count": 104,
   "id": "620bf2d2",
   "metadata": {},
   "outputs": [
    {
     "ename": "ValueError",
     "evalue": "cannot reshape array of size 4 into shape (3,3)",
     "output_type": "error",
     "traceback": [
      "\u001b[31m---------------------------------------------------------------------------\u001b[39m",
      "\u001b[31mValueError\u001b[39m                                Traceback (most recent call last)",
      "\u001b[36mCell\u001b[39m\u001b[36m \u001b[39m\u001b[32mIn[104]\u001b[39m\u001b[32m, line 5\u001b[39m\n\u001b[32m      1\u001b[39m \u001b[38;5;66;03m# Isso vai dar erro, pois vetor tem size de 4. 3x3 = 9\u001b[39;00m\n\u001b[32m      2\u001b[39m \n\u001b[32m      3\u001b[39m \u001b[38;5;66;03m# ❌ 9 posições ≠ 4 elementos\u001b[39;00m\n\u001b[32m----> \u001b[39m\u001b[32m5\u001b[39m vetor = \u001b[43mvetor\u001b[49m\u001b[43m.\u001b[49m\u001b[43mreshape\u001b[49m\u001b[43m(\u001b[49m\u001b[32;43m3\u001b[39;49m\u001b[43m,\u001b[49m\u001b[43m \u001b[49m\u001b[32;43m3\u001b[39;49m\u001b[43m)\u001b[49m\n\u001b[32m      7\u001b[39m vetor\n",
      "\u001b[31mValueError\u001b[39m: cannot reshape array of size 4 into shape (3,3)"
     ]
    }
   ],
   "source": [
    "# Isso vai dar erro, pois vetor tem size de 4. 3x3 = 9\n",
    "\n",
    "# ❌ 9 posições ≠ 4 elementos\n",
    "\n",
    "vetor = vetor.reshape(3, 3)\n",
    "\n",
    "vetor"
   ]
  }
 ],
 "metadata": {
  "kernelspec": {
   "display_name": "my-ml-guide",
   "language": "python",
   "name": "python3"
  },
  "language_info": {
   "codemirror_mode": {
    "name": "ipython",
    "version": 3
   },
   "file_extension": ".py",
   "mimetype": "text/x-python",
   "name": "python",
   "nbconvert_exporter": "python",
   "pygments_lexer": "ipython3",
   "version": "3.13.2"
  }
 },
 "nbformat": 4,
 "nbformat_minor": 5
}
