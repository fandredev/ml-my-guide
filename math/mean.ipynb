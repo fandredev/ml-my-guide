{
 "cells": [
  {
   "cell_type": "markdown",
   "id": "aa87b555",
   "metadata": {},
   "source": [
    "## Cálculo da Média Aritmética com NumPy\n",
    "Este notebook demonstra como calcular a média de um array utilizando a biblioteca NumPy.\n",
    "\n",
    "- A função .mean sempre usa a média aritmética (Soma dos valores / Número de valores)"
   ]
  },
  {
   "cell_type": "code",
   "execution_count": 2,
   "id": "29c5b535",
   "metadata": {},
   "outputs": [],
   "source": [
    "# Importando a biblioteca NumPy\n",
    "import numpy as np"
   ]
  },
  {
   "cell_type": "markdown",
   "id": "5f91bb48",
   "metadata": {},
   "source": [
    "### Gerando um Array Aleatório\n",
    "Utilizamos a função `np.random.randint` para criar um array de números inteiros aleatórios."
   ]
  },
  {
   "cell_type": "code",
   "execution_count": 3,
   "id": "8d4561ab",
   "metadata": {},
   "outputs": [
    {
     "data": {
      "text/plain": [
       "array([ 5, 11, 12,  8,  9])"
      ]
     },
     "execution_count": 3,
     "metadata": {},
     "output_type": "execute_result"
    }
   ],
   "source": [
    "# Definindo a semente para reprodutibilidade\n",
    "np.random.seed(1)\n",
    "\n",
    "random_array = np.random.randint(30, size=(5))\n",
    "random_array"
   ]
  },
  {
   "cell_type": "markdown",
   "id": "2b89d56b",
   "metadata": {},
   "source": [
    "### Cálculo Manual da Média\n",
    "A média é calculada somando todos os valores e dividindo pelo número total de elementos."
   ]
  },
  {
   "cell_type": "code",
   "execution_count": 4,
   "id": "41358bcd",
   "metadata": {},
   "outputs": [
    {
     "data": {
      "text/plain": [
       "9.0"
      ]
     },
     "execution_count": 4,
     "metadata": {},
     "output_type": "execute_result"
    }
   ],
   "source": [
    "# Calculando a média manualmente\n",
    "# Soma dos valores: 5 + 11 + 12 + 8 + 9\n",
    "# Dividido pelo número de elementos: len(random_array)\n",
    "(5 + 11 + 12 + 8 + 9) / len(random_array)"
   ]
  },
  {
   "cell_type": "markdown",
   "id": "375fd5e8",
   "metadata": {},
   "source": [
    "### Cálculo da Média com NumPy\n",
    "Utilizamos o método `.mean()` do NumPy para calcular a média de forma mais eficiente."
   ]
  },
  {
   "cell_type": "code",
   "execution_count": 5,
   "id": "48ac4788",
   "metadata": {},
   "outputs": [
    {
     "data": {
      "text/plain": [
       "np.float64(9.0)"
      ]
     },
     "execution_count": 5,
     "metadata": {},
     "output_type": "execute_result"
    }
   ],
   "source": [
    "# Calculando a média utilizando o método .mean() do NumPy\n",
    "random_array.mean()"
   ]
  }
 ],
 "metadata": {
  "kernelspec": {
   "display_name": "my-ml-guide",
   "language": "python",
   "name": "python3"
  },
  "language_info": {
   "codemirror_mode": {
    "name": "ipython",
    "version": 3
   },
   "file_extension": ".py",
   "mimetype": "text/x-python",
   "name": "python",
   "nbconvert_exporter": "python",
   "pygments_lexer": "ipython3",
   "version": "3.13.2"
  }
 },
 "nbformat": 4,
 "nbformat_minor": 5
}
