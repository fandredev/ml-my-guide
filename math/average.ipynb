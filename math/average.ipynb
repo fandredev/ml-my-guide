{
 "cells": [
  {
   "cell_type": "markdown",
   "id": "30e2560c",
   "metadata": {},
   "source": [
    "## Cálculo da Média Aritmética Ponderada com NumPy\n",
    "Este notebook demonstra como calcular a média aritmética ponderada de um array utilizando a biblioteca NumPy.\n",
    "\n",
    "- A função `.average` sempre usa a média aritmética (Multiplicação dos valores + Soma dos valores / Soma dos pesos)"
   ]
  },
  {
   "cell_type": "code",
   "execution_count": null,
   "id": "f8563e09",
   "metadata": {},
   "outputs": [],
   "source": [
    "import numpy as np"
   ]
  },
  {
   "cell_type": "code",
   "execution_count": null,
   "id": "bdc650cd",
   "metadata": {},
   "outputs": [
    {
     "data": {
      "text/plain": [
       "array([5, 8, 9])"
      ]
     },
     "execution_count": 38,
     "metadata": {},
     "output_type": "execute_result"
    }
   ],
   "source": [
    "# Define uma semente para o gerador de números aleatórios para garantir reprodutibilidade.\n",
    "np.random.seed(1)\n",
    "\n",
    "# Gera um array de 3 números inteiros aleatórios entre 0 e 9.\n",
    "r = np.random.randint(10, size=(3))\n",
    "\n",
    "r"
   ]
  },
  {
   "cell_type": "code",
   "execution_count": null,
   "id": "efa281f2",
   "metadata": {},
   "outputs": [],
   "source": [
    "# Define os pesos para o cálculo da média ponderada.\n",
    "weights = [3, 3, 3]"
   ]
  },
  {
   "cell_type": "code",
   "execution_count": null,
   "id": "742292da",
   "metadata": {},
   "outputs": [],
   "source": [
    "# Calcula a soma ponderada dos elementos do array com base nos pesos.\n",
    "sum_array_with_weight_position = r[0] * weights[0] + r[1] * weights[1] + r[2] * weights[2]"
   ]
  },
  {
   "cell_type": "code",
   "execution_count": null,
   "id": "3b618128",
   "metadata": {},
   "outputs": [
    {
     "data": {
      "text/plain": [
       "np.float64(7.333333333333333)"
      ]
     },
     "execution_count": 46,
     "metadata": {},
     "output_type": "execute_result"
    }
   ],
   "source": [
    "# Divide a soma ponderada pela soma dos pesos para obter a média ponderada.\n",
    "sum_array_with_weight_position / sum(weights)"
   ]
  },
  {
   "cell_type": "code",
   "execution_count": null,
   "id": "8c774d55",
   "metadata": {},
   "outputs": [
    {
     "data": {
      "text/plain": [
       "np.float64(7.333333333333333)"
      ]
     },
     "execution_count": 44,
     "metadata": {},
     "output_type": "execute_result"
    }
   ],
   "source": [
    "# Utiliza a função np.average para calcular diretamente a média ponderada.\n",
    "np.average(r, weights=weights)"
   ]
  }
 ],
 "metadata": {
  "kernelspec": {
   "display_name": "my-ml-guide",
   "language": "python",
   "name": "python3"
  },
  "language_info": {
   "codemirror_mode": {
    "name": "ipython",
    "version": 3
   },
   "file_extension": ".py",
   "mimetype": "text/x-python",
   "name": "python",
   "nbconvert_exporter": "python",
   "pygments_lexer": "ipython3",
   "version": "3.13.2"
  }
 },
 "nbformat": 4,
 "nbformat_minor": 5
}
