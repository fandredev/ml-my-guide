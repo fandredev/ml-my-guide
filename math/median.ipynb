{
 "cells": [
  {
   "cell_type": "code",
   "execution_count": 72,
   "id": "537ef90f",
   "metadata": {},
   "outputs": [],
   "source": [
    "import numpy as np"
   ]
  },
  {
   "cell_type": "markdown",
   "id": "043522b6",
   "metadata": {},
   "source": [
    "### Calculo da Mediana"
   ]
  },
  {
   "cell_type": "markdown",
   "id": "77d86837",
   "metadata": {},
   "source": [
    "#### Se o número for ímpar"
   ]
  },
  {
   "cell_type": "code",
   "execution_count": 73,
   "id": "2a55ed30",
   "metadata": {},
   "outputs": [
    {
     "data": {
      "text/plain": [
       "array([8, 7, 6, 5, 4, 3, 2])"
      ]
     },
     "execution_count": 73,
     "metadata": {},
     "output_type": "execute_result"
    }
   ],
   "source": [
    "array_impar = np.arange(8, 1, -1)\n",
    "array_impar"
   ]
  },
  {
   "cell_type": "code",
   "execution_count": 74,
   "id": "67a407df",
   "metadata": {},
   "outputs": [
    {
     "data": {
      "text/plain": [
       "array([2, 3, 4, 5, 6, 7, 8])"
      ]
     },
     "execution_count": 74,
     "metadata": {},
     "output_type": "execute_result"
    }
   ],
   "source": [
    "# 1. Coloque os valores de maneira crescente\n",
    "\n",
    "sorted_number = np.sort(array_impar)\n",
    "\n",
    "sorted_number"
   ]
  },
  {
   "cell_type": "code",
   "execution_count": 75,
   "id": "35bd5396",
   "metadata": {},
   "outputs": [
    {
     "data": {
      "text/plain": [
       "np.float64(5.0)"
      ]
     },
     "execution_count": 75,
     "metadata": {},
     "output_type": "execute_result"
    }
   ],
   "source": [
    "# 2. Se for impar, o valor central do len dos números é a mediana\n",
    "\n",
    "# 2, 3, 4, 5, 6, 7, 8\n",
    "np.median(sorted_number)"
   ]
  },
  {
   "cell_type": "markdown",
   "id": "58b93215",
   "metadata": {},
   "source": [
    "#### Se o número for par"
   ]
  },
  {
   "cell_type": "code",
   "execution_count": 76,
   "id": "050ca090",
   "metadata": {},
   "outputs": [
    {
     "data": {
      "text/plain": [
       "array([17, 16, 15, 14, 13, 12, 11, 10,  9,  8,  7,  6,  5,  4,  3,  2])"
      ]
     },
     "execution_count": 76,
     "metadata": {},
     "output_type": "execute_result"
    }
   ],
   "source": [
    "array_par = np.arange(17, 1, -1)\n",
    "\n",
    "array_par"
   ]
  },
  {
   "cell_type": "code",
   "execution_count": 77,
   "id": "dc3f2fb2",
   "metadata": {},
   "outputs": [
    {
     "data": {
      "text/plain": [
       "array([ 2,  3,  4,  5,  6,  7,  8,  9, 10, 11, 12, 13, 14, 15, 16, 17])"
      ]
     },
     "execution_count": 77,
     "metadata": {},
     "output_type": "execute_result"
    }
   ],
   "source": [
    "# 1. Coloque os valores de maneira crescente\n",
    "\n",
    "sorted_number = np.sort(array_par)\n",
    "\n",
    "sorted_number"
   ]
  },
  {
   "cell_type": "code",
   "execution_count": 78,
   "id": "642bded4",
   "metadata": {},
   "outputs": [
    {
     "data": {
      "text/plain": [
       "16"
      ]
     },
     "execution_count": 78,
     "metadata": {},
     "output_type": "execute_result"
    }
   ],
   "source": [
    "len(sorted_number)"
   ]
  },
  {
   "cell_type": "code",
   "execution_count": 79,
   "id": "cb70f022",
   "metadata": {},
   "outputs": [
    {
     "data": {
      "text/plain": [
       "9.5"
      ]
     },
     "execution_count": 79,
     "metadata": {},
     "output_type": "execute_result"
    }
   ],
   "source": [
    "(10 + 9) / 2"
   ]
  },
  {
   "cell_type": "code",
   "execution_count": 80,
   "id": "39212bce",
   "metadata": {},
   "outputs": [
    {
     "data": {
      "text/plain": [
       "np.float64(9.5)"
      ]
     },
     "execution_count": 80,
     "metadata": {},
     "output_type": "execute_result"
    }
   ],
   "source": [
    "# 2. Se for par, os dois valores centrais somados / 2 é a média\n",
    "\n",
    "#[2, 3, 4, 5, 6, 7, 8, 9, 10, 11, 12, 13, 14, 15, 16, 17]\n",
    "\n",
    "# Valores centrais: (10 + 9) / 2\n",
    "\n",
    "\n",
    "np.median(sorted_number)"
   ]
  }
 ],
 "metadata": {
  "kernelspec": {
   "display_name": "my-ml-guide",
   "language": "python",
   "name": "python3"
  },
  "language_info": {
   "codemirror_mode": {
    "name": "ipython",
    "version": 3
   },
   "file_extension": ".py",
   "mimetype": "text/x-python",
   "name": "python",
   "nbconvert_exporter": "python",
   "pygments_lexer": "ipython3",
   "version": "3.13.2"
  }
 },
 "nbformat": 4,
 "nbformat_minor": 5
}
