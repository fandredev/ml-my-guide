{
  "cells": [
    {
      "cell_type": "markdown",
      "metadata": {
        "id": "_0dT5cGUJLoq"
      },
      "source": [
        "# Exploração inicial: Ver as colunas do dataset"
      ]
    },
    {
      "cell_type": "code",
      "execution_count": 3,
      "metadata": {
        "colab": {
          "base_uri": "https://localhost:8080/",
          "height": 585
        },
        "id": "Vmhu6i4FJJci",
        "outputId": "5ae54f93-3697-4c42-cdd7-7e73e1d66193"
      },
      "outputs": [
        {
          "data": {
            "text/html": [
              "<div>\n",
              "<style scoped>\n",
              "    .dataframe tbody tr th:only-of-type {\n",
              "        vertical-align: middle;\n",
              "    }\n",
              "\n",
              "    .dataframe tbody tr th {\n",
              "        vertical-align: top;\n",
              "    }\n",
              "\n",
              "    .dataframe thead th {\n",
              "        text-align: right;\n",
              "    }\n",
              "</style>\n",
              "<table border=\"1\" class=\"dataframe\">\n",
              "  <thead>\n",
              "    <tr style=\"text-align: right;\">\n",
              "      <th></th>\n",
              "      <th>Linha ID</th>\n",
              "      <th>Ordem ID</th>\n",
              "      <th>Data Ordem</th>\n",
              "      <th>Data Envio</th>\n",
              "      <th>Modo Envio</th>\n",
              "      <th>Cliente ID</th>\n",
              "      <th>Nome Cliente</th>\n",
              "      <th>Segmento</th>\n",
              "      <th>PaÃ­s</th>\n",
              "      <th>Cidade</th>\n",
              "      <th>...</th>\n",
              "      <th>Codigo Postal</th>\n",
              "      <th>Regiao</th>\n",
              "      <th>Produto ID</th>\n",
              "      <th>Categoria</th>\n",
              "      <th>Sub-Categoria</th>\n",
              "      <th>Nome Produto</th>\n",
              "      <th>Vendas</th>\n",
              "      <th>Quantidade</th>\n",
              "      <th>Desconto</th>\n",
              "      <th>Lucro</th>\n",
              "    </tr>\n",
              "  </thead>\n",
              "  <tbody>\n",
              "    <tr>\n",
              "      <th>0</th>\n",
              "      <td>1</td>\n",
              "      <td>CA-2016-152156</td>\n",
              "      <td>11/8/2016</td>\n",
              "      <td>11/11/2016</td>\n",
              "      <td>Second Class</td>\n",
              "      <td>CG-12520</td>\n",
              "      <td>Claire Gute</td>\n",
              "      <td>Consumer</td>\n",
              "      <td>United States</td>\n",
              "      <td>Henderson</td>\n",
              "      <td>...</td>\n",
              "      <td>42420</td>\n",
              "      <td>South</td>\n",
              "      <td>FUR-BO-10001798</td>\n",
              "      <td>Furniture</td>\n",
              "      <td>Bookcases</td>\n",
              "      <td>Bush Somerset Collection Bookcase</td>\n",
              "      <td>261.9600</td>\n",
              "      <td>2</td>\n",
              "      <td>0.00</td>\n",
              "      <td>41.9136</td>\n",
              "    </tr>\n",
              "    <tr>\n",
              "      <th>1</th>\n",
              "      <td>2</td>\n",
              "      <td>CA-2016-152156</td>\n",
              "      <td>11/8/2016</td>\n",
              "      <td>11/11/2016</td>\n",
              "      <td>Second Class</td>\n",
              "      <td>CG-12520</td>\n",
              "      <td>Claire Gute</td>\n",
              "      <td>Consumer</td>\n",
              "      <td>United States</td>\n",
              "      <td>Henderson</td>\n",
              "      <td>...</td>\n",
              "      <td>42420</td>\n",
              "      <td>South</td>\n",
              "      <td>FUR-CH-10000454</td>\n",
              "      <td>Furniture</td>\n",
              "      <td>Chairs</td>\n",
              "      <td>Hon Deluxe Fabric Upholstered Stacking Chairs,...</td>\n",
              "      <td>731.9400</td>\n",
              "      <td>3</td>\n",
              "      <td>0.00</td>\n",
              "      <td>219.5820</td>\n",
              "    </tr>\n",
              "    <tr>\n",
              "      <th>2</th>\n",
              "      <td>3</td>\n",
              "      <td>CA-2016-138688</td>\n",
              "      <td>6/12/2016</td>\n",
              "      <td>6/16/2016</td>\n",
              "      <td>Second Class</td>\n",
              "      <td>DV-13045</td>\n",
              "      <td>Darrin Van Huff</td>\n",
              "      <td>Corporate</td>\n",
              "      <td>United States</td>\n",
              "      <td>Los Angeles</td>\n",
              "      <td>...</td>\n",
              "      <td>90036</td>\n",
              "      <td>West</td>\n",
              "      <td>OFF-LA-10000240</td>\n",
              "      <td>Office Supplies</td>\n",
              "      <td>Labels</td>\n",
              "      <td>Self-Adhesive Address Labels for Typewriters b...</td>\n",
              "      <td>14.6200</td>\n",
              "      <td>2</td>\n",
              "      <td>0.00</td>\n",
              "      <td>6.8714</td>\n",
              "    </tr>\n",
              "    <tr>\n",
              "      <th>3</th>\n",
              "      <td>4</td>\n",
              "      <td>US-2015-108966</td>\n",
              "      <td>10/11/2015</td>\n",
              "      <td>10/18/2015</td>\n",
              "      <td>Standard Class</td>\n",
              "      <td>SO-20335</td>\n",
              "      <td>Sean O'Donnell</td>\n",
              "      <td>Consumer</td>\n",
              "      <td>United States</td>\n",
              "      <td>Fort Lauderdale</td>\n",
              "      <td>...</td>\n",
              "      <td>33311</td>\n",
              "      <td>South</td>\n",
              "      <td>FUR-TA-10000577</td>\n",
              "      <td>Furniture</td>\n",
              "      <td>Tables</td>\n",
              "      <td>Bretford CR4500 Series Slim Rectangular Table</td>\n",
              "      <td>957.5775</td>\n",
              "      <td>5</td>\n",
              "      <td>0.45</td>\n",
              "      <td>-383.0310</td>\n",
              "    </tr>\n",
              "    <tr>\n",
              "      <th>4</th>\n",
              "      <td>5</td>\n",
              "      <td>US-2015-108966</td>\n",
              "      <td>10/11/2015</td>\n",
              "      <td>10/18/2015</td>\n",
              "      <td>Standard Class</td>\n",
              "      <td>SO-20335</td>\n",
              "      <td>Sean O'Donnell</td>\n",
              "      <td>Consumer</td>\n",
              "      <td>United States</td>\n",
              "      <td>Fort Lauderdale</td>\n",
              "      <td>...</td>\n",
              "      <td>33311</td>\n",
              "      <td>South</td>\n",
              "      <td>OFF-ST-10000760</td>\n",
              "      <td>Office Supplies</td>\n",
              "      <td>Storage</td>\n",
              "      <td>Eldon Fold 'N Roll Cart System</td>\n",
              "      <td>22.3680</td>\n",
              "      <td>2</td>\n",
              "      <td>0.20</td>\n",
              "      <td>2.5164</td>\n",
              "    </tr>\n",
              "  </tbody>\n",
              "</table>\n",
              "<p>5 rows × 21 columns</p>\n",
              "</div>"
            ],
            "text/plain": [
              "   Linha ID        Ordem ID  Data Ordem  Data Envio      Modo Envio  \\\n",
              "0         1  CA-2016-152156   11/8/2016  11/11/2016    Second Class   \n",
              "1         2  CA-2016-152156   11/8/2016  11/11/2016    Second Class   \n",
              "2         3  CA-2016-138688   6/12/2016   6/16/2016    Second Class   \n",
              "3         4  US-2015-108966  10/11/2015  10/18/2015  Standard Class   \n",
              "4         5  US-2015-108966  10/11/2015  10/18/2015  Standard Class   \n",
              "\n",
              "  Cliente ID     Nome Cliente   Segmento          PaÃ­s           Cidade  ...  \\\n",
              "0   CG-12520      Claire Gute   Consumer  United States        Henderson  ...   \n",
              "1   CG-12520      Claire Gute   Consumer  United States        Henderson  ...   \n",
              "2   DV-13045  Darrin Van Huff  Corporate  United States      Los Angeles  ...   \n",
              "3   SO-20335   Sean O'Donnell   Consumer  United States  Fort Lauderdale  ...   \n",
              "4   SO-20335   Sean O'Donnell   Consumer  United States  Fort Lauderdale  ...   \n",
              "\n",
              "  Codigo Postal  Regiao       Produto ID        Categoria Sub-Categoria  \\\n",
              "0         42420   South  FUR-BO-10001798        Furniture     Bookcases   \n",
              "1         42420   South  FUR-CH-10000454        Furniture        Chairs   \n",
              "2         90036    West  OFF-LA-10000240  Office Supplies        Labels   \n",
              "3         33311   South  FUR-TA-10000577        Furniture        Tables   \n",
              "4         33311   South  OFF-ST-10000760  Office Supplies       Storage   \n",
              "\n",
              "                                        Nome Produto    Vendas  Quantidade  \\\n",
              "0                  Bush Somerset Collection Bookcase  261.9600           2   \n",
              "1  Hon Deluxe Fabric Upholstered Stacking Chairs,...  731.9400           3   \n",
              "2  Self-Adhesive Address Labels for Typewriters b...   14.6200           2   \n",
              "3      Bretford CR4500 Series Slim Rectangular Table  957.5775           5   \n",
              "4                     Eldon Fold 'N Roll Cart System   22.3680           2   \n",
              "\n",
              "   Desconto     Lucro  \n",
              "0      0.00   41.9136  \n",
              "1      0.00  219.5820  \n",
              "2      0.00    6.8714  \n",
              "3      0.45 -383.0310  \n",
              "4      0.20    2.5164  \n",
              "\n",
              "[5 rows x 21 columns]"
            ]
          },
          "execution_count": 3,
          "metadata": {},
          "output_type": "execute_result"
        }
      ],
      "source": [
        "import pandas as pd\n",
        "\n",
        "# Carregar o dataset\n",
        "df = pd.read_csv('https://raw.githubusercontent.com/alura-cursos/Praticando-dados-estruturas-operacoes/refs/heads/main/superstore.csv', encoding='ISO-8859-1')\n",
        "\n",
        "# Exibir as primeiras linhas do dataset para inspecionar\n",
        "df.head()\n",
        "\n"
      ]
    },
    {
      "cell_type": "code",
      "execution_count": 4,
      "metadata": {
        "colab": {
          "base_uri": "https://localhost:8080/"
        },
        "id": "-bFSkSPYJN8u",
        "outputId": "7699020f-b262-4cee-ded8-b6c492b0dd58"
      },
      "outputs": [
        {
          "data": {
            "text/plain": [
              "Index(['Linha ID', 'Ordem ID', 'Data Ordem', 'Data Envio', 'Modo Envio',\n",
              "       'Cliente ID', 'Nome Cliente', 'Segmento', 'PaÃ­s', 'Cidade', 'Estado',\n",
              "       'Codigo Postal', 'Regiao', 'Produto ID', 'Categoria', 'Sub-Categoria',\n",
              "       'Nome Produto', 'Vendas', 'Quantidade', 'Desconto', 'Lucro'],\n",
              "      dtype='object')"
            ]
          },
          "execution_count": 4,
          "metadata": {},
          "output_type": "execute_result"
        }
      ],
      "source": [
        "# Exibir as colunas do dataset\n",
        "df.columns"
      ]
    },
    {
      "cell_type": "markdown",
      "metadata": {
        "id": "bGJZftZskxQo"
      },
      "source": [
        "# Estatísticas descritivas"
      ]
    },
    {
      "cell_type": "code",
      "execution_count": 5,
      "metadata": {
        "colab": {
          "base_uri": "https://localhost:8080/",
          "height": 300
        },
        "id": "Ly-Wxw-xJhvL",
        "outputId": "f1b05ef2-63b9-45d5-8fc9-2776c9e4073c"
      },
      "outputs": [
        {
          "data": {
            "text/html": [
              "<div>\n",
              "<style scoped>\n",
              "    .dataframe tbody tr th:only-of-type {\n",
              "        vertical-align: middle;\n",
              "    }\n",
              "\n",
              "    .dataframe tbody tr th {\n",
              "        vertical-align: top;\n",
              "    }\n",
              "\n",
              "    .dataframe thead th {\n",
              "        text-align: right;\n",
              "    }\n",
              "</style>\n",
              "<table border=\"1\" class=\"dataframe\">\n",
              "  <thead>\n",
              "    <tr style=\"text-align: right;\">\n",
              "      <th></th>\n",
              "      <th>Linha ID</th>\n",
              "      <th>Codigo Postal</th>\n",
              "      <th>Vendas</th>\n",
              "      <th>Quantidade</th>\n",
              "      <th>Desconto</th>\n",
              "      <th>Lucro</th>\n",
              "    </tr>\n",
              "  </thead>\n",
              "  <tbody>\n",
              "    <tr>\n",
              "      <th>count</th>\n",
              "      <td>9994.000000</td>\n",
              "      <td>9994.000000</td>\n",
              "      <td>9994.000000</td>\n",
              "      <td>9994.000000</td>\n",
              "      <td>9994.000000</td>\n",
              "      <td>9994.000000</td>\n",
              "    </tr>\n",
              "    <tr>\n",
              "      <th>mean</th>\n",
              "      <td>4997.500000</td>\n",
              "      <td>55190.379428</td>\n",
              "      <td>229.858001</td>\n",
              "      <td>3.789574</td>\n",
              "      <td>0.156203</td>\n",
              "      <td>28.656896</td>\n",
              "    </tr>\n",
              "    <tr>\n",
              "      <th>std</th>\n",
              "      <td>2885.163629</td>\n",
              "      <td>32063.693350</td>\n",
              "      <td>623.245101</td>\n",
              "      <td>2.225110</td>\n",
              "      <td>0.206452</td>\n",
              "      <td>234.260108</td>\n",
              "    </tr>\n",
              "    <tr>\n",
              "      <th>min</th>\n",
              "      <td>1.000000</td>\n",
              "      <td>1040.000000</td>\n",
              "      <td>0.444000</td>\n",
              "      <td>1.000000</td>\n",
              "      <td>0.000000</td>\n",
              "      <td>-6599.978000</td>\n",
              "    </tr>\n",
              "    <tr>\n",
              "      <th>25%</th>\n",
              "      <td>2499.250000</td>\n",
              "      <td>23223.000000</td>\n",
              "      <td>17.280000</td>\n",
              "      <td>2.000000</td>\n",
              "      <td>0.000000</td>\n",
              "      <td>1.728750</td>\n",
              "    </tr>\n",
              "    <tr>\n",
              "      <th>50%</th>\n",
              "      <td>4997.500000</td>\n",
              "      <td>56430.500000</td>\n",
              "      <td>54.490000</td>\n",
              "      <td>3.000000</td>\n",
              "      <td>0.200000</td>\n",
              "      <td>8.666500</td>\n",
              "    </tr>\n",
              "    <tr>\n",
              "      <th>75%</th>\n",
              "      <td>7495.750000</td>\n",
              "      <td>90008.000000</td>\n",
              "      <td>209.940000</td>\n",
              "      <td>5.000000</td>\n",
              "      <td>0.200000</td>\n",
              "      <td>29.364000</td>\n",
              "    </tr>\n",
              "    <tr>\n",
              "      <th>max</th>\n",
              "      <td>9994.000000</td>\n",
              "      <td>99301.000000</td>\n",
              "      <td>22638.480000</td>\n",
              "      <td>14.000000</td>\n",
              "      <td>0.800000</td>\n",
              "      <td>8399.976000</td>\n",
              "    </tr>\n",
              "  </tbody>\n",
              "</table>\n",
              "</div>"
            ],
            "text/plain": [
              "          Linha ID  Codigo Postal        Vendas   Quantidade     Desconto  \\\n",
              "count  9994.000000    9994.000000   9994.000000  9994.000000  9994.000000   \n",
              "mean   4997.500000   55190.379428    229.858001     3.789574     0.156203   \n",
              "std    2885.163629   32063.693350    623.245101     2.225110     0.206452   \n",
              "min       1.000000    1040.000000      0.444000     1.000000     0.000000   \n",
              "25%    2499.250000   23223.000000     17.280000     2.000000     0.000000   \n",
              "50%    4997.500000   56430.500000     54.490000     3.000000     0.200000   \n",
              "75%    7495.750000   90008.000000    209.940000     5.000000     0.200000   \n",
              "max    9994.000000   99301.000000  22638.480000    14.000000     0.800000   \n",
              "\n",
              "             Lucro  \n",
              "count  9994.000000  \n",
              "mean     28.656896  \n",
              "std     234.260108  \n",
              "min   -6599.978000  \n",
              "25%       1.728750  \n",
              "50%       8.666500  \n",
              "75%      29.364000  \n",
              "max    8399.976000  "
            ]
          },
          "execution_count": 5,
          "metadata": {},
          "output_type": "execute_result"
        }
      ],
      "source": [
        "df.describe()"
      ]
    },
    {
      "cell_type": "markdown",
      "metadata": {
        "id": "2ArFEkNzgbF3"
      },
      "source": [
        "> Dica do Allan: O método `describe` é usado para gerar estatísticas descritivas de um DataFrame ou de uma Série. Ele fornece um resumo estatístico útil das colunas numéricas ou categóricas, dependendo do contexto.\n",
        "\n",
        "#### O que ele retorna para colunas **numéricas**:\n",
        "- **count**: Quantidade de valores não nulos.\n",
        "- **mean**: Média dos valores.\n",
        "- **std**: Desvio padrão.\n",
        "- **min**: Valor mínimo.\n",
        "- **25%**: Primeiro quartil (25% dos dados abaixo deste valor).\n",
        "- **50%**: Mediana (50% dos dados abaixo deste valor).\n",
        "- **75%**: Terceiro quartil (75% dos dados abaixo deste valor).\n",
        "- **max**: Valor máximo.\n",
        "\n",
        "\n",
        "\n",
        "O método `describe` é excelente para obter uma visão geral rápida de seus dados e identificar tendências ou possíveis problemas (como valores ausentes ou outliers)."
      ]
    },
    {
      "cell_type": "markdown",
      "metadata": {
        "id": "QnHG6lblsng3"
      },
      "source": [
        "# Operações nos DataFrames"
      ]
    },
    {
      "cell_type": "code",
      "execution_count": 6,
      "metadata": {
        "id": "VHhyx1iAsaF5"
      },
      "outputs": [],
      "source": [
        "# Dividir o DataFrame em dois subconjuntos por região\n",
        "df_west = df[df['Regiao'] == 'West']\n",
        "df_south = df[df['Regiao'] == 'South']"
      ]
    },
    {
      "cell_type": "code",
      "execution_count": 7,
      "metadata": {
        "id": "55-jTKF8s0WE"
      },
      "outputs": [],
      "source": [
        "# Somar as vendas ('Vendas') por região\n",
        "sales_west = df_west['Vendas'].sum()\n",
        "sales_south = df_south['Vendas'].sum()"
      ]
    },
    {
      "cell_type": "code",
      "execution_count": 8,
      "metadata": {
        "colab": {
          "base_uri": "https://localhost:8080/"
        },
        "id": "M-vaA5N_s5vS",
        "outputId": "bad6d547-f9e1-4262-d943-678abd596129"
      },
      "outputs": [
        {
          "data": {
            "text/plain": [
              "np.float64(725457.8245)"
            ]
          },
          "execution_count": 8,
          "metadata": {},
          "output_type": "execute_result"
        }
      ],
      "source": [
        "sales_west"
      ]
    },
    {
      "cell_type": "code",
      "execution_count": 9,
      "metadata": {
        "colab": {
          "base_uri": "https://localhost:8080/"
        },
        "id": "tNm-vVHds7gI",
        "outputId": "542dda76-4d84-4cf8-e247-13c96725307e"
      },
      "outputs": [
        {
          "data": {
            "text/plain": [
              "np.float64(391721.905)"
            ]
          },
          "execution_count": 9,
          "metadata": {},
          "output_type": "execute_result"
        }
      ],
      "source": [
        "sales_south"
      ]
    },
    {
      "cell_type": "markdown",
      "metadata": {
        "id": "_-6jCnIftiL-"
      },
      "source": [
        "# Operações condicionais para criar colunas derivadas"
      ]
    },
    {
      "cell_type": "code",
      "execution_count": 10,
      "metadata": {
        "colab": {
          "base_uri": "https://localhost:8080/",
          "height": 241
        },
        "id": "msotTRAPtVQT",
        "outputId": "e6d1901a-d739-4d38-d046-d7483eb20c21"
      },
      "outputs": [
        {
          "name": "stdout",
          "output_type": "stream",
          "text": [
            "\n",
            "Nova coluna 'Desconto_aplicado':\n"
          ]
        },
        {
          "data": {
            "text/html": [
              "<div>\n",
              "<style scoped>\n",
              "    .dataframe tbody tr th:only-of-type {\n",
              "        vertical-align: middle;\n",
              "    }\n",
              "\n",
              "    .dataframe tbody tr th {\n",
              "        vertical-align: top;\n",
              "    }\n",
              "\n",
              "    .dataframe thead th {\n",
              "        text-align: right;\n",
              "    }\n",
              "</style>\n",
              "<table border=\"1\" class=\"dataframe\">\n",
              "  <thead>\n",
              "    <tr style=\"text-align: right;\">\n",
              "      <th></th>\n",
              "      <th>Desconto</th>\n",
              "      <th>Desconto_Aplicado</th>\n",
              "    </tr>\n",
              "  </thead>\n",
              "  <tbody>\n",
              "    <tr>\n",
              "      <th>0</th>\n",
              "      <td>0.00</td>\n",
              "      <td>False</td>\n",
              "    </tr>\n",
              "    <tr>\n",
              "      <th>1</th>\n",
              "      <td>0.00</td>\n",
              "      <td>False</td>\n",
              "    </tr>\n",
              "    <tr>\n",
              "      <th>2</th>\n",
              "      <td>0.00</td>\n",
              "      <td>False</td>\n",
              "    </tr>\n",
              "    <tr>\n",
              "      <th>3</th>\n",
              "      <td>0.45</td>\n",
              "      <td>True</td>\n",
              "    </tr>\n",
              "    <tr>\n",
              "      <th>4</th>\n",
              "      <td>0.20</td>\n",
              "      <td>True</td>\n",
              "    </tr>\n",
              "  </tbody>\n",
              "</table>\n",
              "</div>"
            ],
            "text/plain": [
              "   Desconto  Desconto_Aplicado\n",
              "0      0.00              False\n",
              "1      0.00              False\n",
              "2      0.00              False\n",
              "3      0.45               True\n",
              "4      0.20               True"
            ]
          },
          "execution_count": 10,
          "metadata": {},
          "output_type": "execute_result"
        }
      ],
      "source": [
        "# Criar uma coluna indicando se houve desconto\n",
        "df['Desconto_Aplicado'] = df['Desconto'] > 0\n",
        "\n",
        "# Exibir as primeiras linhas com a nova coluna\n",
        "print(\"\\nNova coluna 'Desconto_aplicado':\")\n",
        "df[['Desconto', 'Desconto_Aplicado']].head()\n"
      ]
    },
    {
      "cell_type": "markdown",
      "metadata": {
        "id": "z7GNZypqsQwh"
      },
      "source": [
        "# Criação de novas colunas"
      ]
    },
    {
      "cell_type": "code",
      "execution_count": 11,
      "metadata": {
        "id": "AwTQUqUhrQN9"
      },
      "outputs": [],
      "source": [
        "# Criar uma nova coluna de \"Lucro por Unidade\" (Lucro / Quantidade)\n",
        "df['Lucro por Unidade'] = df['Lucro'] / df['Quantidade']"
      ]
    },
    {
      "cell_type": "code",
      "execution_count": 12,
      "metadata": {
        "colab": {
          "base_uri": "https://localhost:8080/",
          "height": 206
        },
        "id": "0SMyljWosYFG",
        "outputId": "28eaf5b8-168e-491d-e7ad-8d7b05a6cccd"
      },
      "outputs": [
        {
          "data": {
            "text/html": [
              "<div>\n",
              "<style scoped>\n",
              "    .dataframe tbody tr th:only-of-type {\n",
              "        vertical-align: middle;\n",
              "    }\n",
              "\n",
              "    .dataframe tbody tr th {\n",
              "        vertical-align: top;\n",
              "    }\n",
              "\n",
              "    .dataframe thead th {\n",
              "        text-align: right;\n",
              "    }\n",
              "</style>\n",
              "<table border=\"1\" class=\"dataframe\">\n",
              "  <thead>\n",
              "    <tr style=\"text-align: right;\">\n",
              "      <th></th>\n",
              "      <th>Lucro</th>\n",
              "      <th>Quantidade</th>\n",
              "      <th>Lucro por Unidade</th>\n",
              "    </tr>\n",
              "  </thead>\n",
              "  <tbody>\n",
              "    <tr>\n",
              "      <th>0</th>\n",
              "      <td>41.9136</td>\n",
              "      <td>2</td>\n",
              "      <td>20.9568</td>\n",
              "    </tr>\n",
              "    <tr>\n",
              "      <th>1</th>\n",
              "      <td>219.5820</td>\n",
              "      <td>3</td>\n",
              "      <td>73.1940</td>\n",
              "    </tr>\n",
              "    <tr>\n",
              "      <th>2</th>\n",
              "      <td>6.8714</td>\n",
              "      <td>2</td>\n",
              "      <td>3.4357</td>\n",
              "    </tr>\n",
              "    <tr>\n",
              "      <th>3</th>\n",
              "      <td>-383.0310</td>\n",
              "      <td>5</td>\n",
              "      <td>-76.6062</td>\n",
              "    </tr>\n",
              "    <tr>\n",
              "      <th>4</th>\n",
              "      <td>2.5164</td>\n",
              "      <td>2</td>\n",
              "      <td>1.2582</td>\n",
              "    </tr>\n",
              "  </tbody>\n",
              "</table>\n",
              "</div>"
            ],
            "text/plain": [
              "      Lucro  Quantidade  Lucro por Unidade\n",
              "0   41.9136           2            20.9568\n",
              "1  219.5820           3            73.1940\n",
              "2    6.8714           2             3.4357\n",
              "3 -383.0310           5           -76.6062\n",
              "4    2.5164           2             1.2582"
            ]
          },
          "execution_count": 12,
          "metadata": {},
          "output_type": "execute_result"
        }
      ],
      "source": [
        "df[['Lucro', 'Quantidade', 'Lucro por Unidade']].head()"
      ]
    },
    {
      "cell_type": "markdown",
      "metadata": {
        "id": "iMUu12NCtQsv"
      },
      "source": [
        "# Funções customizadas com .apply()"
      ]
    },
    {
      "cell_type": "markdown",
      "metadata": {
        "id": "i6lFMUx9t9Vv"
      },
      "source": [
        "> Dica do Allan: O método `apply` do pandas é uma ferramenta poderosa para aplicar funções personalizadas a colunas ou linhas de um DataFrame. Ele é especialmente útil quando você precisa realizar transformações ou cálculos que não estão disponíveis diretamente nos métodos nativos da biblioteca. Por exemplo, você pode usar `apply` para aplicar uma função lambda a cada elemento de uma coluna específica, como calcular a raiz quadrada de valores numéricos ou formatar strings. Para aplicá-lo em colunas, utilize o parâmetro `axis=0` (comportamento padrão), e para linhas, defina `axis=1`. Apesar de sua flexibilidade, é importante usá-lo com cautela em grandes conjuntos de dados, pois pode ser mais lento em comparação com métodos vetorizados do pandas, que são otimizados para desempenho."
      ]
    },
    {
      "cell_type": "code",
      "execution_count": 13,
      "metadata": {
        "colab": {
          "base_uri": "https://localhost:8080/",
          "height": 458
        },
        "id": "J4mfycEstaHA",
        "outputId": "9bda501a-e518-4ab8-b8e7-08eaa11e9046"
      },
      "outputs": [
        {
          "data": {
            "text/plain": [
              "0        41.9136\n",
              "1       219.5820\n",
              "2         6.8714\n",
              "3      -383.0310\n",
              "4         2.5164\n",
              "          ...   \n",
              "9989      4.1028\n",
              "9990     15.6332\n",
              "9991     19.3932\n",
              "9992     13.3200\n",
              "9993     72.9480\n",
              "Name: Lucro, Length: 9994, dtype: float64"
            ]
          },
          "execution_count": 13,
          "metadata": {},
          "output_type": "execute_result"
        }
      ],
      "source": [
        "df['Lucro']"
      ]
    },
    {
      "cell_type": "code",
      "execution_count": 14,
      "metadata": {
        "colab": {
          "base_uri": "https://localhost:8080/",
          "height": 206
        },
        "id": "Plj1lMc7tBnR",
        "outputId": "2882bafa-ab80-4707-c471-938811aa93d4"
      },
      "outputs": [
        {
          "data": {
            "text/html": [
              "<div>\n",
              "<style scoped>\n",
              "    .dataframe tbody tr th:only-of-type {\n",
              "        vertical-align: middle;\n",
              "    }\n",
              "\n",
              "    .dataframe tbody tr th {\n",
              "        vertical-align: top;\n",
              "    }\n",
              "\n",
              "    .dataframe thead th {\n",
              "        text-align: right;\n",
              "    }\n",
              "</style>\n",
              "<table border=\"1\" class=\"dataframe\">\n",
              "  <thead>\n",
              "    <tr style=\"text-align: right;\">\n",
              "      <th></th>\n",
              "      <th>Lucro</th>\n",
              "      <th>Categoria_Lucro</th>\n",
              "    </tr>\n",
              "  </thead>\n",
              "  <tbody>\n",
              "    <tr>\n",
              "      <th>0</th>\n",
              "      <td>41.9136</td>\n",
              "      <td>Margem positiva</td>\n",
              "    </tr>\n",
              "    <tr>\n",
              "      <th>1</th>\n",
              "      <td>219.5820</td>\n",
              "      <td>Alta margem</td>\n",
              "    </tr>\n",
              "    <tr>\n",
              "      <th>2</th>\n",
              "      <td>6.8714</td>\n",
              "      <td>Margem positiva</td>\n",
              "    </tr>\n",
              "    <tr>\n",
              "      <th>3</th>\n",
              "      <td>-383.0310</td>\n",
              "      <td>Prejuízo</td>\n",
              "    </tr>\n",
              "    <tr>\n",
              "      <th>4</th>\n",
              "      <td>2.5164</td>\n",
              "      <td>Margem positiva</td>\n",
              "    </tr>\n",
              "  </tbody>\n",
              "</table>\n",
              "</div>"
            ],
            "text/plain": [
              "      Lucro  Categoria_Lucro\n",
              "0   41.9136  Margem positiva\n",
              "1  219.5820      Alta margem\n",
              "2    6.8714  Margem positiva\n",
              "3 -383.0310         Prejuízo\n",
              "4    2.5164  Margem positiva"
            ]
          },
          "execution_count": 14,
          "metadata": {},
          "output_type": "execute_result"
        }
      ],
      "source": [
        "# Criar uma função para categorizar o lucro\n",
        "def categoriza_lucro(lucro):\n",
        "    if lucro > 50:\n",
        "        return 'Alta margem'\n",
        "    elif lucro > 0:\n",
        "        return 'Margem positiva'\n",
        "    else:\n",
        "        return 'Prejuízo'\n",
        "\n",
        "# Aplicar a função\n",
        "df['Categoria_Lucro'] = df['Lucro'].apply(categoriza_lucro)\n",
        "\n",
        "# Exibir as primeiras linhas com a nova coluna\n",
        "df[['Lucro', 'Categoria_Lucro']].head()\n"
      ]
    },
    {
      "cell_type": "markdown",
      "metadata": {
        "id": "dpocMcM2iUDH"
      },
      "source": [
        "# Função lambda"
      ]
    },
    {
      "cell_type": "code",
      "execution_count": 15,
      "metadata": {
        "colab": {
          "base_uri": "https://localhost:8080/",
          "height": 458
        },
        "id": "jzQQz31miWeX",
        "outputId": "d2293f51-8dd1-4d86-efb4-3c7ab470dcc5"
      },
      "outputs": [
        {
          "data": {
            "text/plain": [
              "0       16.00\n",
              "1       30.00\n",
              "2       47.00\n",
              "3      -40.00\n",
              "4       11.25\n",
              "        ...  \n",
              "9989    16.25\n",
              "9990    17.00\n",
              "9991     7.50\n",
              "9992    45.00\n",
              "9993    30.00\n",
              "Name: Margem Lucro (%), Length: 9994, dtype: float64"
            ]
          },
          "execution_count": 15,
          "metadata": {},
          "output_type": "execute_result"
        }
      ],
      "source": [
        "#Calculando a margem de lucro como porcentagem.\n",
        "df['Margem Lucro (%)'] = df.apply(lambda x: (x['Lucro'] / x['Vendas']) * 100, axis=1)\n",
        "df['Margem Lucro (%)']\n"
      ]
    },
    {
      "cell_type": "code",
      "execution_count": 16,
      "metadata": {
        "colab": {
          "base_uri": "https://localhost:8080/",
          "height": 458
        },
        "id": "yZsB1X_0ijyE",
        "outputId": "c378c0f9-809f-4cab-a7a1-a1928de11eb5"
      },
      "outputs": [
        {
          "data": {
            "text/plain": [
              "0       Baixa\n",
              "1        Alta\n",
              "2       Baixa\n",
              "3        Alta\n",
              "4       Baixa\n",
              "        ...  \n",
              "9989    Baixa\n",
              "9990    Baixa\n",
              "9991    Baixa\n",
              "9992    Baixa\n",
              "9993    Baixa\n",
              "Name: Nivel Vendas, Length: 9994, dtype: object"
            ]
          },
          "execution_count": 16,
          "metadata": {},
          "output_type": "execute_result"
        }
      ],
      "source": [
        "df['Nivel Vendas'] = df['Vendas'].apply(lambda x: 'Alta' if x > 500 else 'Baixa')\n",
        "df['Nivel Vendas']"
      ]
    },
    {
      "cell_type": "code",
      "execution_count": 17,
      "metadata": {
        "colab": {
          "base_uri": "https://localhost:8080/",
          "height": 458
        },
        "id": "8e56f2JXlex4",
        "outputId": "7536c9f0-ea6d-47a8-c216-0510fa17d0fe"
      },
      "outputs": [
        {
          "data": {
            "text/plain": [
              "0       False\n",
              "1       False\n",
              "2       False\n",
              "3        True\n",
              "4       False\n",
              "        ...  \n",
              "9989    False\n",
              "9990    False\n",
              "9991    False\n",
              "9992    False\n",
              "9993    False\n",
              "Name: Desconto Elevado, Length: 9994, dtype: bool"
            ]
          },
          "execution_count": 17,
          "metadata": {},
          "output_type": "execute_result"
        }
      ],
      "source": [
        "df['Desconto Elevado'] = df['Desconto'].apply(lambda x: True if x > 0.2 else False)\n",
        "df['Desconto Elevado']"
      ]
    },
    {
      "cell_type": "code",
      "execution_count": null,
      "metadata": {
        "id": "Brju4wQbliRM"
      },
      "outputs": [],
      "source": []
    }
  ],
  "metadata": {
    "colab": {
      "provenance": []
    },
    "kernelspec": {
      "display_name": "my-ml-guide",
      "language": "python",
      "name": "python3"
    },
    "language_info": {
      "codemirror_mode": {
        "name": "ipython",
        "version": 3
      },
      "file_extension": ".py",
      "mimetype": "text/x-python",
      "name": "python",
      "nbconvert_exporter": "python",
      "pygments_lexer": "ipython3",
      "version": "3.13.2"
    }
  },
  "nbformat": 4,
  "nbformat_minor": 0
}
