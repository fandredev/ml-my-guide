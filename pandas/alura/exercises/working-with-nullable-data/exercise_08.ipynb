{
 "cells": [
  {
   "cell_type": "markdown",
   "id": "53a8a020",
   "metadata": {},
   "source": [
    "Verônica está avaliando um conjunto de dados relacionados ao cadastro de eventos que terão a cobertura da empresa em que ela trabalha. Ao observar o conjunto ela percebeu que algumas linhas das colunas 'Data' e 'Local' estavam sem informações.\n",
    "\n",
    "\n",
    "Para o planejamento da cobertura dos eventos, é essencial que as informações de 'Data' e 'Local' estejam preenchidas, pois são fundamentais para identificar quando e onde o evento ocorrerá. Outras colunas podem ser opcionais.\n",
    "\n",
    "Para que Verônica consiga avaliar adequadamente o conjunto de dados e planejar a cobertura, ela precisa ter apenas os eventos com informações completas em 'Data' e 'Local'. Como ela pode fazer isso?"
   ]
  },
  {
   "cell_type": "code",
   "execution_count": null,
   "id": "180fc873",
   "metadata": {},
   "outputs": [],
   "source": [
    "import pandas as pd"
   ]
  },
  {
   "cell_type": "code",
   "execution_count": null,
   "id": "b4fff269",
   "metadata": {},
   "outputs": [
    {
     "data": {
      "text/html": [
       "<div>\n",
       "<style scoped>\n",
       "    .dataframe tbody tr th:only-of-type {\n",
       "        vertical-align: middle;\n",
       "    }\n",
       "\n",
       "    .dataframe tbody tr th {\n",
       "        vertical-align: top;\n",
       "    }\n",
       "\n",
       "    .dataframe thead th {\n",
       "        text-align: right;\n",
       "    }\n",
       "</style>\n",
       "<table border=\"1\" class=\"dataframe\">\n",
       "  <thead>\n",
       "    <tr style=\"text-align: right;\">\n",
       "      <th></th>\n",
       "      <th>ID_Evento</th>\n",
       "      <th>Nome_Evento</th>\n",
       "      <th>Data</th>\n",
       "      <th>Local</th>\n",
       "      <th>Participantes</th>\n",
       "    </tr>\n",
       "  </thead>\n",
       "  <tbody>\n",
       "    <tr>\n",
       "      <th>0</th>\n",
       "      <td>1</td>\n",
       "      <td>Show de Rock</td>\n",
       "      <td>2025-02-01</td>\n",
       "      <td>São Paulo</td>\n",
       "      <td>500.0</td>\n",
       "    </tr>\n",
       "    <tr>\n",
       "      <th>1</th>\n",
       "      <td>2</td>\n",
       "      <td>Feira de Tecnologia</td>\n",
       "      <td>NaN</td>\n",
       "      <td>NaN</td>\n",
       "      <td>2000.0</td>\n",
       "    </tr>\n",
       "    <tr>\n",
       "      <th>2</th>\n",
       "      <td>3</td>\n",
       "      <td>NaN</td>\n",
       "      <td>2025-02-10</td>\n",
       "      <td>Rio de Janeiro</td>\n",
       "      <td>NaN</td>\n",
       "    </tr>\n",
       "    <tr>\n",
       "      <th>3</th>\n",
       "      <td>4</td>\n",
       "      <td>Maratona</td>\n",
       "      <td>NaN</td>\n",
       "      <td>NaN</td>\n",
       "      <td>300.0</td>\n",
       "    </tr>\n",
       "    <tr>\n",
       "      <th>4</th>\n",
       "      <td>5</td>\n",
       "      <td>Seminário</td>\n",
       "      <td>2025-03-05</td>\n",
       "      <td>Belo Horizonte</td>\n",
       "      <td>NaN</td>\n",
       "    </tr>\n",
       "    <tr>\n",
       "      <th>5</th>\n",
       "      <td>6</td>\n",
       "      <td>NaN</td>\n",
       "      <td>2025-03-15</td>\n",
       "      <td>Curitiba</td>\n",
       "      <td>150.0</td>\n",
       "    </tr>\n",
       "  </tbody>\n",
       "</table>\n",
       "</div>"
      ],
      "text/plain": [
       "   ID_Evento          Nome_Evento        Data           Local  Participantes\n",
       "0          1         Show de Rock  2025-02-01       São Paulo          500.0\n",
       "1          2  Feira de Tecnologia         NaN             NaN         2000.0\n",
       "2          3                  NaN  2025-02-10  Rio de Janeiro            NaN\n",
       "3          4             Maratona         NaN             NaN          300.0\n",
       "4          5            Seminário  2025-03-05  Belo Horizonte            NaN\n",
       "5          6                  NaN  2025-03-15        Curitiba          150.0"
      ]
     },
     "execution_count": 2,
     "metadata": {},
     "output_type": "execute_result"
    }
   ],
   "source": [
    "df = pd.read_csv('../../../../data/activities_8.csv')\n",
    "\n",
    "df"
   ]
  },
  {
   "cell_type": "code",
   "execution_count": null,
   "id": "e7f6f48e",
   "metadata": {},
   "outputs": [],
   "source": [
    "# Removendo linhas que contêm valores nulos nas colunas 'Data' e 'Local'\n",
    "# subset=['Data', 'Local'] especifica as colunas que devem ser consideradas\n",
    "# inplace=True significa que a modificação será feita diretamente no DataFrame original\n",
    "df.dropna(subset=['Data', 'Local'], inplace=True)"
   ]
  },
  {
   "cell_type": "code",
   "execution_count": null,
   "id": "28442280",
   "metadata": {},
   "outputs": [
    {
     "data": {
      "text/html": [
       "<div>\n",
       "<style scoped>\n",
       "    .dataframe tbody tr th:only-of-type {\n",
       "        vertical-align: middle;\n",
       "    }\n",
       "\n",
       "    .dataframe tbody tr th {\n",
       "        vertical-align: top;\n",
       "    }\n",
       "\n",
       "    .dataframe thead th {\n",
       "        text-align: right;\n",
       "    }\n",
       "</style>\n",
       "<table border=\"1\" class=\"dataframe\">\n",
       "  <thead>\n",
       "    <tr style=\"text-align: right;\">\n",
       "      <th></th>\n",
       "      <th>ID_Evento</th>\n",
       "      <th>Nome_Evento</th>\n",
       "      <th>Data</th>\n",
       "      <th>Local</th>\n",
       "      <th>Participantes</th>\n",
       "    </tr>\n",
       "  </thead>\n",
       "  <tbody>\n",
       "    <tr>\n",
       "      <th>0</th>\n",
       "      <td>1</td>\n",
       "      <td>Show de Rock</td>\n",
       "      <td>2025-02-01</td>\n",
       "      <td>São Paulo</td>\n",
       "      <td>500.0</td>\n",
       "    </tr>\n",
       "    <tr>\n",
       "      <th>2</th>\n",
       "      <td>3</td>\n",
       "      <td>NaN</td>\n",
       "      <td>2025-02-10</td>\n",
       "      <td>Rio de Janeiro</td>\n",
       "      <td>NaN</td>\n",
       "    </tr>\n",
       "    <tr>\n",
       "      <th>4</th>\n",
       "      <td>5</td>\n",
       "      <td>Seminário</td>\n",
       "      <td>2025-03-05</td>\n",
       "      <td>Belo Horizonte</td>\n",
       "      <td>NaN</td>\n",
       "    </tr>\n",
       "    <tr>\n",
       "      <th>5</th>\n",
       "      <td>6</td>\n",
       "      <td>NaN</td>\n",
       "      <td>2025-03-15</td>\n",
       "      <td>Curitiba</td>\n",
       "      <td>150.0</td>\n",
       "    </tr>\n",
       "  </tbody>\n",
       "</table>\n",
       "</div>"
      ],
      "text/plain": [
       "   ID_Evento   Nome_Evento        Data           Local  Participantes\n",
       "0          1  Show de Rock  2025-02-01       São Paulo          500.0\n",
       "2          3           NaN  2025-02-10  Rio de Janeiro            NaN\n",
       "4          5     Seminário  2025-03-05  Belo Horizonte            NaN\n",
       "5          6           NaN  2025-03-15        Curitiba          150.0"
      ]
     },
     "execution_count": 5,
     "metadata": {},
     "output_type": "execute_result"
    }
   ],
   "source": [
    "df"
   ]
  }
 ],
 "metadata": {
  "kernelspec": {
   "display_name": "my-ml-guide",
   "language": "python",
   "name": "python3"
  },
  "language_info": {
   "codemirror_mode": {
    "name": "ipython",
    "version": 3
   },
   "file_extension": ".py",
   "mimetype": "text/x-python",
   "name": "python",
   "nbconvert_exporter": "python",
   "pygments_lexer": "ipython3",
   "version": "3.13.2"
  }
 },
 "nbformat": 4,
 "nbformat_minor": 5
}
