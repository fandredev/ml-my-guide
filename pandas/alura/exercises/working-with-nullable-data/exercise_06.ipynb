{
 "cells": [
  {
   "cell_type": "markdown",
   "id": "09c07c6c",
   "metadata": {},
   "source": [
    "Isadora está avaliando dados relacionados à visitas em um Parque Turístico ao longo de 10 dias para avaliar a eficiência das ações de marketing executadas. Ao verificar os dados, ela percebeu que faltavam alguns valores no registro.\n",
    "\n",
    "\n",
    "Isadora acompanhou todos os dias de visitas ao parque e coleta de dados, ela sabe que a quantidade de visitantes variava suavemente entre os dias consecutivos. Portanto, ela entendeu que a forma ideal de garantir uma continuidade linear nos dados é substituindo os valores ausentes por meio de uma técnica de interpolação linear.\n",
    "\n",
    "Como Isadora poderia realizar essa substituição?\n",
    "\n",
    "Como uma extensão da atividade, realize a plotagem do número de visitantes por dia no Parque Turístico que Isadora trabalha."
   ]
  },
  {
   "cell_type": "markdown",
   "id": "fc870f1d",
   "metadata": {},
   "source": [
    "## Solução de Interpolação de Dados\n",
    "\n",
    "Este notebook demonstra como lidar com valores ausentes nos dados de visitantes usando interpolação do pandas:\n",
    "\n",
    "1. Primeiro, interpolamos os valores ausentes na coluna 'Visitantes' usando interpolação linear\n",
    "2. Em seguida, criamos uma visualização para mostrar a tendência de visitantes ao longo do tempo\n",
    "\n",
    "A interpolação linear foi escolhida porque sabemos que o número de visitantes varia suavemente entre dias consecutivos, tornando-a um método apropriado para este conjunto de dados."
   ]
  },
  {
   "cell_type": "code",
   "execution_count": 12,
   "id": "12789230",
   "metadata": {},
   "outputs": [],
   "source": [
    "import pandas as pd"
   ]
  },
  {
   "cell_type": "code",
   "execution_count": 13,
   "id": "e1d3755d",
   "metadata": {},
   "outputs": [
    {
     "data": {
      "text/html": [
       "<div>\n",
       "<style scoped>\n",
       "    .dataframe tbody tr th:only-of-type {\n",
       "        vertical-align: middle;\n",
       "    }\n",
       "\n",
       "    .dataframe tbody tr th {\n",
       "        vertical-align: top;\n",
       "    }\n",
       "\n",
       "    .dataframe thead th {\n",
       "        text-align: right;\n",
       "    }\n",
       "</style>\n",
       "<table border=\"1\" class=\"dataframe\">\n",
       "  <thead>\n",
       "    <tr style=\"text-align: right;\">\n",
       "      <th></th>\n",
       "      <th>Data</th>\n",
       "      <th>Visitantes</th>\n",
       "    </tr>\n",
       "  </thead>\n",
       "  <tbody>\n",
       "    <tr>\n",
       "      <th>0</th>\n",
       "      <td>2025-01-01</td>\n",
       "      <td>120.0</td>\n",
       "    </tr>\n",
       "    <tr>\n",
       "      <th>1</th>\n",
       "      <td>2025-01-02</td>\n",
       "      <td>NaN</td>\n",
       "    </tr>\n",
       "    <tr>\n",
       "      <th>2</th>\n",
       "      <td>2025-01-03</td>\n",
       "      <td>150.0</td>\n",
       "    </tr>\n",
       "    <tr>\n",
       "      <th>3</th>\n",
       "      <td>2025-01-04</td>\n",
       "      <td>NaN</td>\n",
       "    </tr>\n",
       "    <tr>\n",
       "      <th>4</th>\n",
       "      <td>2025-01-05</td>\n",
       "      <td>NaN</td>\n",
       "    </tr>\n",
       "    <tr>\n",
       "      <th>5</th>\n",
       "      <td>2025-01-06</td>\n",
       "      <td>200.0</td>\n",
       "    </tr>\n",
       "    <tr>\n",
       "      <th>6</th>\n",
       "      <td>2025-01-07</td>\n",
       "      <td>NaN</td>\n",
       "    </tr>\n",
       "    <tr>\n",
       "      <th>7</th>\n",
       "      <td>2025-01-08</td>\n",
       "      <td>250.0</td>\n",
       "    </tr>\n",
       "    <tr>\n",
       "      <th>8</th>\n",
       "      <td>2025-01-09</td>\n",
       "      <td>NaN</td>\n",
       "    </tr>\n",
       "    <tr>\n",
       "      <th>9</th>\n",
       "      <td>2025-01-10</td>\n",
       "      <td>300.0</td>\n",
       "    </tr>\n",
       "  </tbody>\n",
       "</table>\n",
       "</div>"
      ],
      "text/plain": [
       "         Data  Visitantes\n",
       "0  2025-01-01       120.0\n",
       "1  2025-01-02         NaN\n",
       "2  2025-01-03       150.0\n",
       "3  2025-01-04         NaN\n",
       "4  2025-01-05         NaN\n",
       "5  2025-01-06       200.0\n",
       "6  2025-01-07         NaN\n",
       "7  2025-01-08       250.0\n",
       "8  2025-01-09         NaN\n",
       "9  2025-01-10       300.0"
      ]
     },
     "execution_count": 13,
     "metadata": {},
     "output_type": "execute_result"
    }
   ],
   "source": [
    "df = pd.read_csv('../../../../data/activities_6.csv')\n",
    "\n",
    "df"
   ]
  },
  {
   "cell_type": "code",
   "execution_count": 14,
   "id": "91881c16",
   "metadata": {},
   "outputs": [
    {
     "data": {
      "text/html": [
       "<div>\n",
       "<style scoped>\n",
       "    .dataframe tbody tr th:only-of-type {\n",
       "        vertical-align: middle;\n",
       "    }\n",
       "\n",
       "    .dataframe tbody tr th {\n",
       "        vertical-align: top;\n",
       "    }\n",
       "\n",
       "    .dataframe thead th {\n",
       "        text-align: right;\n",
       "    }\n",
       "</style>\n",
       "<table border=\"1\" class=\"dataframe\">\n",
       "  <thead>\n",
       "    <tr style=\"text-align: right;\">\n",
       "      <th></th>\n",
       "      <th>Data</th>\n",
       "      <th>Visitantes</th>\n",
       "    </tr>\n",
       "  </thead>\n",
       "  <tbody>\n",
       "    <tr>\n",
       "      <th>0</th>\n",
       "      <td>2025-01-01</td>\n",
       "      <td>120.000000</td>\n",
       "    </tr>\n",
       "    <tr>\n",
       "      <th>1</th>\n",
       "      <td>2025-01-02</td>\n",
       "      <td>135.000000</td>\n",
       "    </tr>\n",
       "    <tr>\n",
       "      <th>2</th>\n",
       "      <td>2025-01-03</td>\n",
       "      <td>150.000000</td>\n",
       "    </tr>\n",
       "    <tr>\n",
       "      <th>3</th>\n",
       "      <td>2025-01-04</td>\n",
       "      <td>166.666667</td>\n",
       "    </tr>\n",
       "    <tr>\n",
       "      <th>4</th>\n",
       "      <td>2025-01-05</td>\n",
       "      <td>183.333333</td>\n",
       "    </tr>\n",
       "    <tr>\n",
       "      <th>5</th>\n",
       "      <td>2025-01-06</td>\n",
       "      <td>200.000000</td>\n",
       "    </tr>\n",
       "    <tr>\n",
       "      <th>6</th>\n",
       "      <td>2025-01-07</td>\n",
       "      <td>225.000000</td>\n",
       "    </tr>\n",
       "    <tr>\n",
       "      <th>7</th>\n",
       "      <td>2025-01-08</td>\n",
       "      <td>250.000000</td>\n",
       "    </tr>\n",
       "    <tr>\n",
       "      <th>8</th>\n",
       "      <td>2025-01-09</td>\n",
       "      <td>275.000000</td>\n",
       "    </tr>\n",
       "    <tr>\n",
       "      <th>9</th>\n",
       "      <td>2025-01-10</td>\n",
       "      <td>300.000000</td>\n",
       "    </tr>\n",
       "  </tbody>\n",
       "</table>\n",
       "</div>"
      ],
      "text/plain": [
       "         Data  Visitantes\n",
       "0  2025-01-01  120.000000\n",
       "1  2025-01-02  135.000000\n",
       "2  2025-01-03  150.000000\n",
       "3  2025-01-04  166.666667\n",
       "4  2025-01-05  183.333333\n",
       "5  2025-01-06  200.000000\n",
       "6  2025-01-07  225.000000\n",
       "7  2025-01-08  250.000000\n",
       "8  2025-01-09  275.000000\n",
       "9  2025-01-10  300.000000"
      ]
     },
     "execution_count": 14,
     "metadata": {},
     "output_type": "execute_result"
    }
   ],
   "source": [
    "# Realizando interpolação linear nos valores ausentes\n",
    "df['Visitantes'] = df['Visitantes'].interpolate(method='linear')\n",
    "df"
   ]
  },
  {
   "cell_type": "code",
   "execution_count": 15,
   "id": "ddd98bea",
   "metadata": {},
   "outputs": [
    {
     "data": {
      "image/png": "[encoded data removed]",
      "text/plain": [
       "<Figure size 1000x600 with 1 Axes>"
      ]
     },
     "metadata": {},
     "output_type": "display_data"
    }
   ],
   "source": [
    "# Importando biblioteca para visualização\n",
    "import matplotlib.pyplot as plt\n",
    "\n",
    "# Configurando o tamanho da figura\n",
    "plt.figure(figsize=(10, 6))\n",
    "\n",
    "# Criando o gráfico de linha com marcadores\n",
    "plt.plot(pd.to_datetime(df['Data']), df['Visitantes'], marker='o')\n",
    "\n",
    "# Configurando títulos e rótulos\n",
    "plt.title('Número de Visitantes ao Longo do Tempo\\n', pad=20)\n",
    "plt.xlabel('\\nData\\n', labelpad=10)\n",
    "plt.ylabel('Número de Visitantes\\n', labelpad=10)\n",
    "\n",
    "# Adicionando grade e ajustando a visualização\n",
    "plt.grid(True)\n",
    "plt.xticks(rotation=45)\n",
    "plt.margins(x=0.1)\n",
    "plt.tight_layout()\n",
    "\n",
    "# Exibindo o gráfico\n",
    "plt.show()"
   ]
  }
 ],
 "metadata": {
  "kernelspec": {
   "display_name": "my-ml-guide",
   "language": "python",
   "name": "python3"
  },
  "language_info": {
   "codemirror_mode": {
    "name": "ipython",
    "version": 3
   },
   "file_extension": ".py",
   "mimetype": "text/x-python",
   "name": "python",
   "nbconvert_exporter": "python",
   "pygments_lexer": "ipython3",
   "version": "3.13.2"
  }
 },
 "nbformat": 4,
 "nbformat_minor": 5
}
