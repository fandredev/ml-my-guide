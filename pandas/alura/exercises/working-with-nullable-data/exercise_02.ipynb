{
 "cells": [
  {
   "cell_type": "markdown",
   "id": "011b941e",
   "metadata": {},
   "source": [
    "Anteriormente, você praticou como identificar valores nulos e também descobriu como observar as linhas onde estão os valores nulos. Agora, você precisa avançar um pouco mais na identificação dos dados nulos para a manipulação deles com Pandas.\n",
    "\n",
    "Com o mesmo conjunto de dados do exercício anterior, como você conseguiria identificar quantos valores nulos esse conjunto de dados tem em cada coluna? E como contar a quantidade total de nulos presentes no DataFrame?"
   ]
  },
  {
   "cell_type": "code",
   "execution_count": 1,
   "id": "64fc6e7c",
   "metadata": {},
   "outputs": [
    {
     "data": {
      "text/html": [
       "<div>\n",
       "<style scoped>\n",
       "    .dataframe tbody tr th:only-of-type {\n",
       "        vertical-align: middle;\n",
       "    }\n",
       "\n",
       "    .dataframe tbody tr th {\n",
       "        vertical-align: top;\n",
       "    }\n",
       "\n",
       "    .dataframe thead th {\n",
       "        text-align: right;\n",
       "    }\n",
       "</style>\n",
       "<table border=\"1\" class=\"dataframe\">\n",
       "  <thead>\n",
       "    <tr style=\"text-align: right;\">\n",
       "      <th></th>\n",
       "      <th>OrderID</th>\n",
       "      <th>CustomerName</th>\n",
       "      <th>Product</th>\n",
       "      <th>Quantity</th>\n",
       "      <th>PricePerUnit</th>\n",
       "      <th>TotalPrice</th>\n",
       "      <th>CustomerRating</th>\n",
       "      <th>OrderDate</th>\n",
       "    </tr>\n",
       "  </thead>\n",
       "  <tbody>\n",
       "    <tr>\n",
       "      <th>0</th>\n",
       "      <td>101</td>\n",
       "      <td>Ana Silva</td>\n",
       "      <td>Smartphone</td>\n",
       "      <td>1</td>\n",
       "      <td>1500</td>\n",
       "      <td>1500</td>\n",
       "      <td>5.0</td>\n",
       "      <td>2025-01-01</td>\n",
       "    </tr>\n",
       "    <tr>\n",
       "      <th>1</th>\n",
       "      <td>102</td>\n",
       "      <td>João Santos</td>\n",
       "      <td>Notebook</td>\n",
       "      <td>2</td>\n",
       "      <td>3000</td>\n",
       "      <td>6000</td>\n",
       "      <td>NaN</td>\n",
       "      <td>2025-01-02</td>\n",
       "    </tr>\n",
       "    <tr>\n",
       "      <th>2</th>\n",
       "      <td>103</td>\n",
       "      <td>NaN</td>\n",
       "      <td>Headphone</td>\n",
       "      <td>1</td>\n",
       "      <td>200</td>\n",
       "      <td>200</td>\n",
       "      <td>5.0</td>\n",
       "      <td>2025-01-03</td>\n",
       "    </tr>\n",
       "    <tr>\n",
       "      <th>3</th>\n",
       "      <td>104</td>\n",
       "      <td>Lucas Pereira</td>\n",
       "      <td>Smartwatch</td>\n",
       "      <td>1</td>\n",
       "      <td>1200</td>\n",
       "      <td>1200</td>\n",
       "      <td>3.0</td>\n",
       "      <td>2025-01-04</td>\n",
       "    </tr>\n",
       "    <tr>\n",
       "      <th>4</th>\n",
       "      <td>105</td>\n",
       "      <td>Fernanda Lima</td>\n",
       "      <td>Mouse</td>\n",
       "      <td>3</td>\n",
       "      <td>100</td>\n",
       "      <td>300</td>\n",
       "      <td>4.0</td>\n",
       "      <td>2025-01-05</td>\n",
       "    </tr>\n",
       "  </tbody>\n",
       "</table>\n",
       "</div>"
      ],
      "text/plain": [
       "   OrderID   CustomerName     Product  Quantity  PricePerUnit  TotalPrice  \\\n",
       "0      101      Ana Silva  Smartphone         1          1500        1500   \n",
       "1      102    João Santos    Notebook         2          3000        6000   \n",
       "2      103            NaN   Headphone         1           200         200   \n",
       "3      104  Lucas Pereira  Smartwatch         1          1200        1200   \n",
       "4      105  Fernanda Lima       Mouse         3           100         300   \n",
       "\n",
       "   CustomerRating   OrderDate  \n",
       "0             5.0  2025-01-01  \n",
       "1             NaN  2025-01-02  \n",
       "2             5.0  2025-01-03  \n",
       "3             3.0  2025-01-04  \n",
       "4             4.0  2025-01-05  "
      ]
     },
     "execution_count": 1,
     "metadata": {},
     "output_type": "execute_result"
    }
   ],
   "source": [
    "import pandas as pd\n",
    "\n",
    "df = pd.read_csv('../../../../data/activities_1_2_3.csv')\n",
    "df.head()"
   ]
  },
  {
   "cell_type": "code",
   "execution_count": null,
   "id": "0d8f6e96",
   "metadata": {},
   "outputs": [
    {
     "data": {
      "text/plain": [
       "OrderID           0\n",
       "CustomerName      4\n",
       "Product           0\n",
       "Quantity          0\n",
       "PricePerUnit      0\n",
       "TotalPrice        0\n",
       "CustomerRating    5\n",
       "OrderDate         0\n",
       "dtype: int64"
      ]
     },
     "execution_count": 2,
     "metadata": {},
     "output_type": "execute_result"
    }
   ],
   "source": [
    "# Quantidade de valores nulos por coluna\n",
    "df.isnull().sum()"
   ]
  },
  {
   "cell_type": "code",
   "execution_count": 4,
   "id": "c29d9984",
   "metadata": {},
   "outputs": [
    {
     "data": {
      "text/plain": [
       "np.int64(9)"
      ]
     },
     "execution_count": 4,
     "metadata": {},
     "output_type": "execute_result"
    }
   ],
   "source": [
    "# Contando a quantidade de conjunto de dados nulos por coluna\n",
    "\n",
    "df.isnull().sum().sum()"
   ]
  }
 ],
 "metadata": {
  "kernelspec": {
   "display_name": "my-ml-guide",
   "language": "python",
   "name": "python3"
  },
  "language_info": {
   "codemirror_mode": {
    "name": "ipython",
    "version": 3
   },
   "file_extension": ".py",
   "mimetype": "text/x-python",
   "name": "python",
   "nbconvert_exporter": "python",
   "pygments_lexer": "ipython3",
   "version": "3.13.2"
  }
 },
 "nbformat": 4,
 "nbformat_minor": 5
}
