{
 "cells": [
  {
   "cell_type": "markdown",
   "id": "b10ada01",
   "metadata": {},
   "source": [
    "Chegou a hora de pôr em prática tudo o que aprendemos durante as aulas. Preparei dois projetos extras para desenvolvermos durante o curso, para garantir que possamos praticar bastante! Para isso, vamos trabalhar com 2 novos conjuntos de dados, mas que dessa vez serão bem menores. As bases de dados estão disponíveis para download abaixo:\n",
    "\n",
    "- Projeto desafio 1: vendas online - dados_vendas_clientes.json;\n",
    "- Projeto desafio 2: administração de condomínios - dados_locacao_imoveis.json."
   ]
  },
  {
   "cell_type": "markdown",
   "id": "60d701e3",
   "metadata": {
    "jp-MarkdownHeadingCollapsed": true
   },
   "source": [
    "### Etapa 1: Vendas online\n",
    "\n",
    "\n",
    "O objetivo desse projeto é realizar uma análise dos resultados de um evento com os clientes de uma empresa de vendas online. Foi coletado um conjunto de dados que contém os clientes que mais gastaram com produtos dentro de 5 dias de vendas, que é o período de duração do evento. Essa análise vai identificar o cliente com a maior compra na semana, que irá receber um prêmio da loja, e posteriormente, ela pode ajudar a empresa a criar novas estratégias para atrair mais clientes.\n",
    "\n",
    "A base de dados utilizada nessa análise é a dados_vendas_clientes.json e contém informações importantes sobre os clientes como, o nome de cadastro do cliente, o valor total pago na compra e o dia da compra.\n",
    "\n",
    "Sabendo essas informações, o desafio do projeto 1: vendas online será abrir a base de dados com Pandas e aplicar o json_normalize."
   ]
  },
  {
   "cell_type": "code",
   "execution_count": 63,
   "id": "5574ebf4",
   "metadata": {},
   "outputs": [],
   "source": [
    "import pandas as pd\n",
    "import requests\n",
    "from http import HTTPStatus"
   ]
  },
  {
   "cell_type": "code",
   "execution_count": 64,
   "id": "5c5761f8",
   "metadata": {},
   "outputs": [
    {
     "data": {
      "text/html": [
       "<div>\n",
       "<style scoped>\n",
       "    .dataframe tbody tr th:only-of-type {\n",
       "        vertical-align: middle;\n",
       "    }\n",
       "\n",
       "    .dataframe tbody tr th {\n",
       "        vertical-align: top;\n",
       "    }\n",
       "\n",
       "    .dataframe thead th {\n",
       "        text-align: right;\n",
       "    }\n",
       "</style>\n",
       "<table border=\"1\" class=\"dataframe\">\n",
       "  <thead>\n",
       "    <tr style=\"text-align: right;\">\n",
       "      <th></th>\n",
       "      <th>Data de venda</th>\n",
       "      <th>Cliente</th>\n",
       "      <th>Valor da compra</th>\n",
       "    </tr>\n",
       "  </thead>\n",
       "  <tbody>\n",
       "    <tr>\n",
       "      <th>0</th>\n",
       "      <td>06/06/2022</td>\n",
       "      <td>[@ANA _LUCIA 321, DieGO ARMANDIU 210, DieGO AR...</td>\n",
       "      <td>[R$ 836,5, R$ 573,33, R$ 392,8, R$ 512,34]</td>\n",
       "    </tr>\n",
       "    <tr>\n",
       "      <th>1</th>\n",
       "      <td>07/06/2022</td>\n",
       "      <td>[Isabely JOanes 738, Isabely JOanes 738, Isabe...</td>\n",
       "      <td>[R$ 825,31, R$ 168,07, R$ 339,18, R$ 314,69]</td>\n",
       "    </tr>\n",
       "    <tr>\n",
       "      <th>2</th>\n",
       "      <td>08/06/2022</td>\n",
       "      <td>[Isabely JOanes 738, JOãO Gabriel 671, Julya m...</td>\n",
       "      <td>[R$ 682,05, R$ 386,34, R$ 622,65, R$ 630,79]</td>\n",
       "    </tr>\n",
       "    <tr>\n",
       "      <th>3</th>\n",
       "      <td>09/06/2022</td>\n",
       "      <td>[Julya meireles 914, MaRIA Julia 444, MaRIA Ju...</td>\n",
       "      <td>[R$ 390,3, R$ 759,16, R$ 334,47, R$ 678,78]</td>\n",
       "    </tr>\n",
       "    <tr>\n",
       "      <th>4</th>\n",
       "      <td>10/06/2022</td>\n",
       "      <td>[MaRIA Julia 444, PEDRO PASCO 812, Paulo castr...</td>\n",
       "      <td>[R$ 314,24, R$ 311,15, R$ 899,16, R$ 885,24]</td>\n",
       "    </tr>\n",
       "  </tbody>\n",
       "</table>\n",
       "</div>"
      ],
      "text/plain": [
       "  Data de venda                                            Cliente  \\\n",
       "0    06/06/2022  [@ANA _LUCIA 321, DieGO ARMANDIU 210, DieGO AR...   \n",
       "1    07/06/2022  [Isabely JOanes 738, Isabely JOanes 738, Isabe...   \n",
       "2    08/06/2022  [Isabely JOanes 738, JOãO Gabriel 671, Julya m...   \n",
       "3    09/06/2022  [Julya meireles 914, MaRIA Julia 444, MaRIA Ju...   \n",
       "4    10/06/2022  [MaRIA Julia 444, PEDRO PASCO 812, Paulo castr...   \n",
       "\n",
       "                                Valor da compra  \n",
       "0    [R$ 836,5, R$ 573,33, R$ 392,8, R$ 512,34]  \n",
       "1  [R$ 825,31, R$ 168,07, R$ 339,18, R$ 314,69]  \n",
       "2  [R$ 682,05, R$ 386,34, R$ 622,65, R$ 630,79]  \n",
       "3   [R$ 390,3, R$ 759,16, R$ 334,47, R$ 678,78]  \n",
       "4  [R$ 314,24, R$ 311,15, R$ 899,16, R$ 885,24]  "
      ]
     },
     "execution_count": 64,
     "metadata": {},
     "output_type": "execute_result"
    }
   ],
   "source": [
    "r = requests.get('https://cdn3.gnarususercontent.com.br/2928-transformacao-manipulacao-dados/dados_vendas_clientes.json')\n",
    "\n",
    "if r.status_code == HTTPStatus.OK:\n",
    "  df_sales_clients = pd.DataFrame(r.json())\n",
    "  df_sales_clients = pd.json_normalize(df_sales_clients['dados_vendas'])\n",
    "\n",
    "\n",
    "df_sales_clients.head()"
   ]
  },
  {
   "cell_type": "markdown",
   "id": "5f229d8c",
   "metadata": {
    "jp-MarkdownHeadingCollapsed": true
   },
   "source": [
    "### Etapa 2: administração de condomínios\n",
    "\n",
    "\n",
    "A administração de condomínios é uma tarefa que requer muita atenção e organização. Entre as diversas responsabilidades da gestão está o recebimento dos aluguéis dos locatários. Para garantir uma boa saúde financeira do empreendimento, é fundamental que esses pagamentos sejam feitos de forma regular e pontual. No entanto, sabemos que nem sempre isso acontece.\n",
    "\n",
    "Pensando nisso, proponho um desafio de tratamento de dados com o objetivo de analisar o atraso no pagamento de aluguéis no condomínio de alguns moradores. Disponibilizo a base de dados dados_locacao_imoveis.json, que contém informações sobre o apartamento dos locatários, o dia acordado para o pagamento do aluguel, o dia da efetivação do pagamento de aluguel e o valor do aluguel.\n",
    "\n",
    "Com essas informações, o desafio do projeto 2: administração de condomínios será similar ao desafio do projeto 1, abrir a base de dados com Pandas e aplicar o json_normalize no DataFrame."
   ]
  },
  {
   "cell_type": "code",
   "execution_count": 65,
   "id": "1d926cad",
   "metadata": {},
   "outputs": [
    {
     "data": {
      "text/html": [
       "<div>\n",
       "<style scoped>\n",
       "    .dataframe tbody tr th:only-of-type {\n",
       "        vertical-align: middle;\n",
       "    }\n",
       "\n",
       "    .dataframe tbody tr th {\n",
       "        vertical-align: top;\n",
       "    }\n",
       "\n",
       "    .dataframe thead th {\n",
       "        text-align: right;\n",
       "    }\n",
       "</style>\n",
       "<table border=\"1\" class=\"dataframe\">\n",
       "  <thead>\n",
       "    <tr style=\"text-align: right;\">\n",
       "      <th></th>\n",
       "      <th>apartamento</th>\n",
       "      <th>datas_combinadas_pagamento</th>\n",
       "      <th>datas_de_pagamento</th>\n",
       "      <th>valor_aluguel</th>\n",
       "    </tr>\n",
       "  </thead>\n",
       "  <tbody>\n",
       "    <tr>\n",
       "      <th>0</th>\n",
       "      <td>A101 (blocoAP)</td>\n",
       "      <td>[01/06/2022, 01/07/2022]</td>\n",
       "      <td>[05/06/2022, 03/07/2022]</td>\n",
       "      <td>[$ 1000,0 reais, $ 2500,0 reais]</td>\n",
       "    </tr>\n",
       "    <tr>\n",
       "      <th>1</th>\n",
       "      <td>A102 (blocoAP)</td>\n",
       "      <td>[02/06/2022, 02/07/2022]</td>\n",
       "      <td>[02/06/2022, 06/07/2022]</td>\n",
       "      <td>[$ 1100,0 reais, $ 2600,0 reais]</td>\n",
       "    </tr>\n",
       "    <tr>\n",
       "      <th>2</th>\n",
       "      <td>B201 (blocoAP)</td>\n",
       "      <td>[03/06/2022, 03/07/2022]</td>\n",
       "      <td>[07/06/2022, 03/07/2022]</td>\n",
       "      <td>[$ 1200,0 reais, $ 2700,0 reais]</td>\n",
       "    </tr>\n",
       "    <tr>\n",
       "      <th>3</th>\n",
       "      <td>B202 (blocoAP)</td>\n",
       "      <td>[04/06/2022, 04/07/2022]</td>\n",
       "      <td>[07/06/2022, 05/07/2022]</td>\n",
       "      <td>[$ 1300,0 reais, $ 2800,0 reais]</td>\n",
       "    </tr>\n",
       "    <tr>\n",
       "      <th>4</th>\n",
       "      <td>C301 (blocoAP)</td>\n",
       "      <td>[05/06/2022, 05/07/2022]</td>\n",
       "      <td>[10/06/2022, 09/07/2022]</td>\n",
       "      <td>[$ 1400,0 reais, $ 2900,0 reais]</td>\n",
       "    </tr>\n",
       "  </tbody>\n",
       "</table>\n",
       "</div>"
      ],
      "text/plain": [
       "      apartamento datas_combinadas_pagamento        datas_de_pagamento  \\\n",
       "0  A101 (blocoAP)   [01/06/2022, 01/07/2022]  [05/06/2022, 03/07/2022]   \n",
       "1  A102 (blocoAP)   [02/06/2022, 02/07/2022]  [02/06/2022, 06/07/2022]   \n",
       "2  B201 (blocoAP)   [03/06/2022, 03/07/2022]  [07/06/2022, 03/07/2022]   \n",
       "3  B202 (blocoAP)   [04/06/2022, 04/07/2022]  [07/06/2022, 05/07/2022]   \n",
       "4  C301 (blocoAP)   [05/06/2022, 05/07/2022]  [10/06/2022, 09/07/2022]   \n",
       "\n",
       "                      valor_aluguel  \n",
       "0  [$ 1000,0 reais, $ 2500,0 reais]  \n",
       "1  [$ 1100,0 reais, $ 2600,0 reais]  \n",
       "2  [$ 1200,0 reais, $ 2700,0 reais]  \n",
       "3  [$ 1300,0 reais, $ 2800,0 reais]  \n",
       "4  [$ 1400,0 reais, $ 2900,0 reais]  "
      ]
     },
     "execution_count": 65,
     "metadata": {},
     "output_type": "execute_result"
    }
   ],
   "source": [
    "r = requests.get('https://cdn3.gnarususercontent.com.br/2928-transformacao-manipulacao-dados/dados_locacao_imoveis.json')\n",
    "\n",
    "if r.status_code == HTTPStatus.OK:\n",
    "  df_location_real_estate = pd.DataFrame(r.json())\n",
    "\n",
    "  df_location_real_estate = pd.json_normalize(df_location_real_estate['dados_locacao'])\n",
    "\n",
    "  \n",
    "df_location_real_estate.head()"
   ]
  },
  {
   "cell_type": "markdown",
   "id": "8d8cf4d4",
   "metadata": {},
   "source": [
    "### Etapa 3\n",
    "\n",
    "- Projeto desafio 1: vendas online\n",
    "\n",
    "Na etapa 2, trabalhamos na transformação dos dados numéricos. Agora, podemos trabalhar com valores textuais.\n",
    "\n",
    "\n",
    "Devido a uma instabilidade no site da empresa, tivemos problemas com os nomes dos clientes durante o salvamento. Isso resultou em uma coluna de nomes de clientes com uma mistura de letras, maiúsculas e minúsculas, números e outros caracteres.\n",
    "\n",
    "Sabendo disso, manipule os textos presentes na coluna Cliente para que seja obtido como resultado os nomes dos clientes em letras minúsculas, com a ausência de caracteres especiais ou números."
   ]
  },
  {
   "cell_type": "code",
   "execution_count": 66,
   "id": "4e912696",
   "metadata": {},
   "outputs": [
    {
     "data": {
      "text/html": [
       "<div>\n",
       "<style scoped>\n",
       "    .dataframe tbody tr th:only-of-type {\n",
       "        vertical-align: middle;\n",
       "    }\n",
       "\n",
       "    .dataframe tbody tr th {\n",
       "        vertical-align: top;\n",
       "    }\n",
       "\n",
       "    .dataframe thead th {\n",
       "        text-align: right;\n",
       "    }\n",
       "</style>\n",
       "<table border=\"1\" class=\"dataframe\">\n",
       "  <thead>\n",
       "    <tr style=\"text-align: right;\">\n",
       "      <th></th>\n",
       "      <th>Data de venda</th>\n",
       "      <th>Cliente</th>\n",
       "      <th>Valor da compra</th>\n",
       "    </tr>\n",
       "  </thead>\n",
       "  <tbody>\n",
       "    <tr>\n",
       "      <th>0</th>\n",
       "      <td>06/06/2022</td>\n",
       "      <td>[@ANA _LUCIA 321, DieGO ARMANDIU 210, DieGO AR...</td>\n",
       "      <td>[R$ 836,5, R$ 573,33, R$ 392,8, R$ 512,34]</td>\n",
       "    </tr>\n",
       "    <tr>\n",
       "      <th>1</th>\n",
       "      <td>07/06/2022</td>\n",
       "      <td>[Isabely JOanes 738, Isabely JOanes 738, Isabe...</td>\n",
       "      <td>[R$ 825,31, R$ 168,07, R$ 339,18, R$ 314,69]</td>\n",
       "    </tr>\n",
       "    <tr>\n",
       "      <th>2</th>\n",
       "      <td>08/06/2022</td>\n",
       "      <td>[Isabely JOanes 738, JOãO Gabriel 671, Julya m...</td>\n",
       "      <td>[R$ 682,05, R$ 386,34, R$ 622,65, R$ 630,79]</td>\n",
       "    </tr>\n",
       "    <tr>\n",
       "      <th>3</th>\n",
       "      <td>09/06/2022</td>\n",
       "      <td>[Julya meireles 914, MaRIA Julia 444, MaRIA Ju...</td>\n",
       "      <td>[R$ 390,3, R$ 759,16, R$ 334,47, R$ 678,78]</td>\n",
       "    </tr>\n",
       "    <tr>\n",
       "      <th>4</th>\n",
       "      <td>10/06/2022</td>\n",
       "      <td>[MaRIA Julia 444, PEDRO PASCO 812, Paulo castr...</td>\n",
       "      <td>[R$ 314,24, R$ 311,15, R$ 899,16, R$ 885,24]</td>\n",
       "    </tr>\n",
       "  </tbody>\n",
       "</table>\n",
       "</div>"
      ],
      "text/plain": [
       "  Data de venda                                            Cliente  \\\n",
       "0    06/06/2022  [@ANA _LUCIA 321, DieGO ARMANDIU 210, DieGO AR...   \n",
       "1    07/06/2022  [Isabely JOanes 738, Isabely JOanes 738, Isabe...   \n",
       "2    08/06/2022  [Isabely JOanes 738, JOãO Gabriel 671, Julya m...   \n",
       "3    09/06/2022  [Julya meireles 914, MaRIA Julia 444, MaRIA Ju...   \n",
       "4    10/06/2022  [MaRIA Julia 444, PEDRO PASCO 812, Paulo castr...   \n",
       "\n",
       "                                Valor da compra  \n",
       "0    [R$ 836,5, R$ 573,33, R$ 392,8, R$ 512,34]  \n",
       "1  [R$ 825,31, R$ 168,07, R$ 339,18, R$ 314,69]  \n",
       "2  [R$ 682,05, R$ 386,34, R$ 622,65, R$ 630,79]  \n",
       "3   [R$ 390,3, R$ 759,16, R$ 334,47, R$ 678,78]  \n",
       "4  [R$ 314,24, R$ 311,15, R$ 899,16, R$ 885,24]  "
      ]
     },
     "execution_count": 66,
     "metadata": {},
     "output_type": "execute_result"
    }
   ],
   "source": [
    "df_sales_clients"
   ]
  },
  {
   "cell_type": "markdown",
   "id": "2ffa6942",
   "metadata": {},
   "source": [
    "#### Removendo caracteres especiais e numeros"
   ]
  },
  {
   "cell_type": "code",
   "execution_count": 67,
   "id": "1122adb2",
   "metadata": {},
   "outputs": [],
   "source": [
    "df_sales_clients['Cliente'] = df_sales_clients['Cliente'].astype('string')"
   ]
  },
  {
   "cell_type": "code",
   "execution_count": 68,
   "id": "7ccaaf60",
   "metadata": {},
   "outputs": [],
   "source": [
    "df_sales_clients['Cliente'] = (\n",
    "    df_sales_clients['Cliente']\n",
    "    .str.replace(r'[^a-zA-Z\\s]', '', regex=True) \n",
    "    .str.lower() \n",
    "    .str.strip()\n",
    ")"
   ]
  },
  {
   "cell_type": "code",
   "execution_count": 69,
   "id": "e4e9b2ce",
   "metadata": {},
   "outputs": [
    {
     "data": {
      "text/html": [
       "<div>\n",
       "<style scoped>\n",
       "    .dataframe tbody tr th:only-of-type {\n",
       "        vertical-align: middle;\n",
       "    }\n",
       "\n",
       "    .dataframe tbody tr th {\n",
       "        vertical-align: top;\n",
       "    }\n",
       "\n",
       "    .dataframe thead th {\n",
       "        text-align: right;\n",
       "    }\n",
       "</style>\n",
       "<table border=\"1\" class=\"dataframe\">\n",
       "  <thead>\n",
       "    <tr style=\"text-align: right;\">\n",
       "      <th></th>\n",
       "      <th>Data de venda</th>\n",
       "      <th>Cliente</th>\n",
       "      <th>Valor da compra</th>\n",
       "    </tr>\n",
       "  </thead>\n",
       "  <tbody>\n",
       "    <tr>\n",
       "      <th>0</th>\n",
       "      <td>06/06/2022</td>\n",
       "      <td>ana lucia  diego armandiu  diego armandiu  die...</td>\n",
       "      <td>[R$ 836,5, R$ 573,33, R$ 392,8, R$ 512,34]</td>\n",
       "    </tr>\n",
       "    <tr>\n",
       "      <th>1</th>\n",
       "      <td>07/06/2022</td>\n",
       "      <td>isabely joanes  isabely joanes  isabely joanes...</td>\n",
       "      <td>[R$ 825,31, R$ 168,07, R$ 339,18, R$ 314,69]</td>\n",
       "    </tr>\n",
       "    <tr>\n",
       "      <th>2</th>\n",
       "      <td>08/06/2022</td>\n",
       "      <td>isabely joanes  joo gabriel  julya meireles  j...</td>\n",
       "      <td>[R$ 682,05, R$ 386,34, R$ 622,65, R$ 630,79]</td>\n",
       "    </tr>\n",
       "    <tr>\n",
       "      <th>3</th>\n",
       "      <td>09/06/2022</td>\n",
       "      <td>julya meireles  maria julia  maria julia  mari...</td>\n",
       "      <td>[R$ 390,3, R$ 759,16, R$ 334,47, R$ 678,78]</td>\n",
       "    </tr>\n",
       "    <tr>\n",
       "      <th>4</th>\n",
       "      <td>10/06/2022</td>\n",
       "      <td>maria julia  pedro pasco  paulo castro  thiago...</td>\n",
       "      <td>[R$ 314,24, R$ 311,15, R$ 899,16, R$ 885,24]</td>\n",
       "    </tr>\n",
       "  </tbody>\n",
       "</table>\n",
       "</div>"
      ],
      "text/plain": [
       "  Data de venda                                            Cliente  \\\n",
       "0    06/06/2022  ana lucia  diego armandiu  diego armandiu  die...   \n",
       "1    07/06/2022  isabely joanes  isabely joanes  isabely joanes...   \n",
       "2    08/06/2022  isabely joanes  joo gabriel  julya meireles  j...   \n",
       "3    09/06/2022  julya meireles  maria julia  maria julia  mari...   \n",
       "4    10/06/2022  maria julia  pedro pasco  paulo castro  thiago...   \n",
       "\n",
       "                                Valor da compra  \n",
       "0    [R$ 836,5, R$ 573,33, R$ 392,8, R$ 512,34]  \n",
       "1  [R$ 825,31, R$ 168,07, R$ 339,18, R$ 314,69]  \n",
       "2  [R$ 682,05, R$ 386,34, R$ 622,65, R$ 630,79]  \n",
       "3   [R$ 390,3, R$ 759,16, R$ 334,47, R$ 678,78]  \n",
       "4  [R$ 314,24, R$ 311,15, R$ 899,16, R$ 885,24]  "
      ]
     },
     "execution_count": 69,
     "metadata": {},
     "output_type": "execute_result"
    }
   ],
   "source": [
    "df_sales_clients"
   ]
  },
  {
   "cell_type": "markdown",
   "id": "cc4f9f01",
   "metadata": {},
   "source": []
  },
  {
   "cell_type": "markdown",
   "id": "0d552ca9",
   "metadata": {},
   "source": [
    "#### Removendo (blocoAP) do Dataframe"
   ]
  },
  {
   "cell_type": "markdown",
   "id": "4a50c6b9",
   "metadata": {},
   "source": [
    "Buscando explicar a organização da identificação dos apartamentos, durante a criação do conjunto de dados, foi adicionado o texto (blocoAP). Esse texto informa que os nomes dos apartamentos estão organizados com a letra do bloco seguida do número do apartamento. No entanto, isso não traz nenhuma informação para nossos dados, sendo interessante realizar a remoção desse texto no conjunto de dados.\n",
    "\n",
    "Com isso, manipule os textos na coluna apartamento para remover o texto (blocoAP) do DataFrame."
   ]
  },
  {
   "cell_type": "code",
   "execution_count": 70,
   "id": "a5680a20",
   "metadata": {},
   "outputs": [],
   "source": [
    "df_location_real_estate['apartamento'] = df_location_real_estate['apartamento'].astype('string')"
   ]
  },
  {
   "cell_type": "code",
   "execution_count": 71,
   "id": "579a8a59",
   "metadata": {},
   "outputs": [],
   "source": [
    "df_location_real_estate['apartamento'] = df_location_real_estate['apartamento'].str.replace('(blocoAP)', '').str.strip()"
   ]
  },
  {
   "cell_type": "code",
   "execution_count": 72,
   "id": "889e74cc",
   "metadata": {},
   "outputs": [
    {
     "data": {
      "text/html": [
       "<div>\n",
       "<style scoped>\n",
       "    .dataframe tbody tr th:only-of-type {\n",
       "        vertical-align: middle;\n",
       "    }\n",
       "\n",
       "    .dataframe tbody tr th {\n",
       "        vertical-align: top;\n",
       "    }\n",
       "\n",
       "    .dataframe thead th {\n",
       "        text-align: right;\n",
       "    }\n",
       "</style>\n",
       "<table border=\"1\" class=\"dataframe\">\n",
       "  <thead>\n",
       "    <tr style=\"text-align: right;\">\n",
       "      <th></th>\n",
       "      <th>apartamento</th>\n",
       "      <th>datas_combinadas_pagamento</th>\n",
       "      <th>datas_de_pagamento</th>\n",
       "      <th>valor_aluguel</th>\n",
       "    </tr>\n",
       "  </thead>\n",
       "  <tbody>\n",
       "    <tr>\n",
       "      <th>0</th>\n",
       "      <td>A101</td>\n",
       "      <td>[01/06/2022, 01/07/2022]</td>\n",
       "      <td>[05/06/2022, 03/07/2022]</td>\n",
       "      <td>[$ 1000,0 reais, $ 2500,0 reais]</td>\n",
       "    </tr>\n",
       "    <tr>\n",
       "      <th>1</th>\n",
       "      <td>A102</td>\n",
       "      <td>[02/06/2022, 02/07/2022]</td>\n",
       "      <td>[02/06/2022, 06/07/2022]</td>\n",
       "      <td>[$ 1100,0 reais, $ 2600,0 reais]</td>\n",
       "    </tr>\n",
       "    <tr>\n",
       "      <th>2</th>\n",
       "      <td>B201</td>\n",
       "      <td>[03/06/2022, 03/07/2022]</td>\n",
       "      <td>[07/06/2022, 03/07/2022]</td>\n",
       "      <td>[$ 1200,0 reais, $ 2700,0 reais]</td>\n",
       "    </tr>\n",
       "    <tr>\n",
       "      <th>3</th>\n",
       "      <td>B202</td>\n",
       "      <td>[04/06/2022, 04/07/2022]</td>\n",
       "      <td>[07/06/2022, 05/07/2022]</td>\n",
       "      <td>[$ 1300,0 reais, $ 2800,0 reais]</td>\n",
       "    </tr>\n",
       "    <tr>\n",
       "      <th>4</th>\n",
       "      <td>C301</td>\n",
       "      <td>[05/06/2022, 05/07/2022]</td>\n",
       "      <td>[10/06/2022, 09/07/2022]</td>\n",
       "      <td>[$ 1400,0 reais, $ 2900,0 reais]</td>\n",
       "    </tr>\n",
       "    <tr>\n",
       "      <th>5</th>\n",
       "      <td>C302</td>\n",
       "      <td>[06/06/2022, 06/07/2022]</td>\n",
       "      <td>[08/06/2022, 12/07/2022]</td>\n",
       "      <td>[$ 1500,0 reais, $ 1200,0 reais]</td>\n",
       "    </tr>\n",
       "    <tr>\n",
       "      <th>6</th>\n",
       "      <td>D401</td>\n",
       "      <td>[07/06/2022, 07/07/2022]</td>\n",
       "      <td>[07/06/2022, 09/07/2022]</td>\n",
       "      <td>[$ 1600,0 reais, $ 1300,0 reais]</td>\n",
       "    </tr>\n",
       "    <tr>\n",
       "      <th>7</th>\n",
       "      <td>D402</td>\n",
       "      <td>[08/06/2022, 08/07/2022]</td>\n",
       "      <td>[10/06/2022, 14/07/2022]</td>\n",
       "      <td>[$ 1700,0 reais, $ 1400,0 reais]</td>\n",
       "    </tr>\n",
       "    <tr>\n",
       "      <th>8</th>\n",
       "      <td>E501</td>\n",
       "      <td>[09/06/2022, 09/07/2022]</td>\n",
       "      <td>[10/06/2022, 09/07/2022]</td>\n",
       "      <td>[$ 1800,0 reais, $ 1500,0 reais]</td>\n",
       "    </tr>\n",
       "    <tr>\n",
       "      <th>9</th>\n",
       "      <td>E502</td>\n",
       "      <td>[10/06/2022, 10/07/2022]</td>\n",
       "      <td>[16/06/2022, 12/07/2022]</td>\n",
       "      <td>[$ 1900,0 reais, $ 1600,0 reais]</td>\n",
       "    </tr>\n",
       "    <tr>\n",
       "      <th>10</th>\n",
       "      <td>F601</td>\n",
       "      <td>[11/06/2022, 11/07/2022]</td>\n",
       "      <td>[17/06/2022, 13/07/2022]</td>\n",
       "      <td>[$ 2000,0 reais, $ 1000,0 reais]</td>\n",
       "    </tr>\n",
       "    <tr>\n",
       "      <th>11</th>\n",
       "      <td>F602</td>\n",
       "      <td>[12/06/2022, 12/07/2022]</td>\n",
       "      <td>[15/06/2022, 12/07/2022]</td>\n",
       "      <td>[$ 2100,0 reais, $ 1100,0 reais]</td>\n",
       "    </tr>\n",
       "    <tr>\n",
       "      <th>12</th>\n",
       "      <td>G701</td>\n",
       "      <td>[13/06/2022, 13/07/2022]</td>\n",
       "      <td>[19/06/2022, 20/07/2022]</td>\n",
       "      <td>[$ 2200,0 reais, $ 1200,0 reais]</td>\n",
       "    </tr>\n",
       "    <tr>\n",
       "      <th>13</th>\n",
       "      <td>G702</td>\n",
       "      <td>[14/06/2022, 14/07/2022]</td>\n",
       "      <td>[15/06/2022, 17/07/2022]</td>\n",
       "      <td>[$ 2300,0 reais, $ 2100,0 reais]</td>\n",
       "    </tr>\n",
       "    <tr>\n",
       "      <th>14</th>\n",
       "      <td>H801</td>\n",
       "      <td>[15/06/2022, 15/07/2022]</td>\n",
       "      <td>[18/06/2022, 16/07/2022]</td>\n",
       "      <td>[$ 2400,0 reais, $ 2200,0 reais]</td>\n",
       "    </tr>\n",
       "  </tbody>\n",
       "</table>\n",
       "</div>"
      ],
      "text/plain": [
       "   apartamento datas_combinadas_pagamento        datas_de_pagamento  \\\n",
       "0         A101   [01/06/2022, 01/07/2022]  [05/06/2022, 03/07/2022]   \n",
       "1         A102   [02/06/2022, 02/07/2022]  [02/06/2022, 06/07/2022]   \n",
       "2         B201   [03/06/2022, 03/07/2022]  [07/06/2022, 03/07/2022]   \n",
       "3         B202   [04/06/2022, 04/07/2022]  [07/06/2022, 05/07/2022]   \n",
       "4         C301   [05/06/2022, 05/07/2022]  [10/06/2022, 09/07/2022]   \n",
       "5         C302   [06/06/2022, 06/07/2022]  [08/06/2022, 12/07/2022]   \n",
       "6         D401   [07/06/2022, 07/07/2022]  [07/06/2022, 09/07/2022]   \n",
       "7         D402   [08/06/2022, 08/07/2022]  [10/06/2022, 14/07/2022]   \n",
       "8         E501   [09/06/2022, 09/07/2022]  [10/06/2022, 09/07/2022]   \n",
       "9         E502   [10/06/2022, 10/07/2022]  [16/06/2022, 12/07/2022]   \n",
       "10        F601   [11/06/2022, 11/07/2022]  [17/06/2022, 13/07/2022]   \n",
       "11        F602   [12/06/2022, 12/07/2022]  [15/06/2022, 12/07/2022]   \n",
       "12        G701   [13/06/2022, 13/07/2022]  [19/06/2022, 20/07/2022]   \n",
       "13        G702   [14/06/2022, 14/07/2022]  [15/06/2022, 17/07/2022]   \n",
       "14        H801   [15/06/2022, 15/07/2022]  [18/06/2022, 16/07/2022]   \n",
       "\n",
       "                       valor_aluguel  \n",
       "0   [$ 1000,0 reais, $ 2500,0 reais]  \n",
       "1   [$ 1100,0 reais, $ 2600,0 reais]  \n",
       "2   [$ 1200,0 reais, $ 2700,0 reais]  \n",
       "3   [$ 1300,0 reais, $ 2800,0 reais]  \n",
       "4   [$ 1400,0 reais, $ 2900,0 reais]  \n",
       "5   [$ 1500,0 reais, $ 1200,0 reais]  \n",
       "6   [$ 1600,0 reais, $ 1300,0 reais]  \n",
       "7   [$ 1700,0 reais, $ 1400,0 reais]  \n",
       "8   [$ 1800,0 reais, $ 1500,0 reais]  \n",
       "9   [$ 1900,0 reais, $ 1600,0 reais]  \n",
       "10  [$ 2000,0 reais, $ 1000,0 reais]  \n",
       "11  [$ 2100,0 reais, $ 1100,0 reais]  \n",
       "12  [$ 2200,0 reais, $ 1200,0 reais]  \n",
       "13  [$ 2300,0 reais, $ 2100,0 reais]  \n",
       "14  [$ 2400,0 reais, $ 2200,0 reais]  "
      ]
     },
     "execution_count": 72,
     "metadata": {},
     "output_type": "execute_result"
    }
   ],
   "source": [
    "df_location_real_estate"
   ]
  },
  {
   "cell_type": "markdown",
   "id": "123116b4",
   "metadata": {},
   "source": [
    "### Etapa 4\n",
    "\n",
    "Nas etapas anteriores, já trabalhamos com vários tipos de dados, agora podemos trabalhar com os dados de tempo.\n",
    "\n",
    "Na coluna Data de venda, temos datas em formato 'dia/mês/ano' (dd/mm/AAAA). Transforme esses dados para o tipo datetime e busque uma forma de visualização de subconjunto que possa contribuir no objetivo do contexto que os dados estão inseridos."
   ]
  },
  {
   "cell_type": "code",
   "execution_count": 73,
   "id": "5c1b12ce",
   "metadata": {},
   "outputs": [
    {
     "name": "stdout",
     "output_type": "stream",
     "text": [
      "<class 'pandas.core.frame.DataFrame'>\n",
      "RangeIndex: 5 entries, 0 to 4\n",
      "Data columns (total 3 columns):\n",
      " #   Column           Non-Null Count  Dtype         \n",
      "---  ------           --------------  -----         \n",
      " 0   Data de venda    5 non-null      datetime64[ns]\n",
      " 1   Cliente          5 non-null      string        \n",
      " 2   Valor da compra  5 non-null      object        \n",
      "dtypes: datetime64[ns](1), object(1), string(1)\n",
      "memory usage: 252.0+ bytes\n"
     ]
    }
   ],
   "source": [
    "df_sales_clients['Data de venda'] = pd.to_datetime(df_sales_clients['Data de venda'], format='%d/%m/%Y')\n",
    "\n",
    "df_sales_clients.info()"
   ]
  },
  {
   "cell_type": "code",
   "execution_count": 74,
   "id": "8cd8461f",
   "metadata": {},
   "outputs": [],
   "source": [
    "total = df_sales_clients.groupby(['Cliente'])['Valor da compra'].sum()"
   ]
  },
  {
   "cell_type": "code",
   "execution_count": 75,
   "id": "9b80e065",
   "metadata": {},
   "outputs": [
    {
     "data": {
      "text/plain": [
       "Cliente\n",
       "ana lucia  diego armandiu  diego armandiu  diego armandiu           [R$ 836,5, R$ 573,33, R$ 392,8, R$ 512,34]\n",
       "isabely joanes  isabely joanes  isabely joanes  isabely joanes    [R$ 825,31, R$ 168,07, R$ 339,18, R$ 314,69]\n",
       "isabely joanes  joo gabriel  julya meireles  julya meireles       [R$ 682,05, R$ 386,34, R$ 622,65, R$ 630,79]\n",
       "julya meireles  maria julia  maria julia  maria julia              [R$ 390,3, R$ 759,16, R$ 334,47, R$ 678,78]\n",
       "maria julia  pedro pasco  paulo castro  thiago fritzz             [R$ 314,24, R$ 311,15, R$ 899,16, R$ 885,24]\n",
       "Name: Valor da compra, dtype: object"
      ]
     },
     "execution_count": 75,
     "metadata": {},
     "output_type": "execute_result"
    }
   ],
   "source": [
    "total"
   ]
  }
 ],
 "metadata": {
  "kernelspec": {
   "display_name": "my-ml-guide",
   "language": "python",
   "name": "python3"
  },
  "language_info": {
   "codemirror_mode": {
    "name": "ipython",
    "version": 3
   },
   "file_extension": ".py",
   "mimetype": "text/x-python",
   "name": "python",
   "nbconvert_exporter": "python",
   "pygments_lexer": "ipython3",
   "version": "3.13.2"
  }
 },
 "nbformat": 4,
 "nbformat_minor": 5
}
