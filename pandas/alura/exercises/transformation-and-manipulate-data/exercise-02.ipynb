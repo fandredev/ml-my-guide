{
 "cells": [
  {
   "cell_type": "markdown",
   "id": "63a58343",
   "metadata": {
    "jp-MarkdownHeadingCollapsed": true
   },
   "source": [
    "### Etapa 1\n",
    "\n",
    "- Projeto desafio 1: vendas online\n",
    "Lemos a base de dados no desafio anterior, agora podemos avançar nas transformações desses dados. Então, o novo desafio do projeto 1 será dividido em algumas metas:\n",
    "\n",
    "- [x] Remover os dados em listas dentro do DataFrame;\n",
    "- [x] Verificar os tipos de dados;\n",
    "- [x] Identificar colunas numéricas;\n",
    "- [x] Transformar a coluna numérica para o tipo numérico.\n"
   ]
  },
  {
   "cell_type": "code",
   "execution_count": 129,
   "id": "39c1a785",
   "metadata": {},
   "outputs": [],
   "source": [
    "import pandas as pd\n",
    "import requests\n",
    "from http import HTTPStatus\n",
    "import numpy as np"
   ]
  },
  {
   "cell_type": "markdown",
   "id": "abe923f3",
   "metadata": {},
   "source": [
    "#### 1 - Remover os dados em listas dentro do DataFrame"
   ]
  },
  {
   "cell_type": "code",
   "execution_count": 130,
   "id": "c8a29cb7",
   "metadata": {},
   "outputs": [
    {
     "data": {
      "text/html": [
       "<div>\n",
       "<style scoped>\n",
       "    .dataframe tbody tr th:only-of-type {\n",
       "        vertical-align: middle;\n",
       "    }\n",
       "\n",
       "    .dataframe tbody tr th {\n",
       "        vertical-align: top;\n",
       "    }\n",
       "\n",
       "    .dataframe thead th {\n",
       "        text-align: right;\n",
       "    }\n",
       "</style>\n",
       "<table border=\"1\" class=\"dataframe\">\n",
       "  <thead>\n",
       "    <tr style=\"text-align: right;\">\n",
       "      <th></th>\n",
       "      <th>Data de venda</th>\n",
       "      <th>Cliente</th>\n",
       "      <th>Valor da compra</th>\n",
       "    </tr>\n",
       "  </thead>\n",
       "  <tbody>\n",
       "    <tr>\n",
       "      <th>0</th>\n",
       "      <td>06/06/2022</td>\n",
       "      <td>[@ANA _LUCIA 321, DieGO ARMANDIU 210, DieGO AR...</td>\n",
       "      <td>[R$ 836,5, R$ 573,33, R$ 392,8, R$ 512,34]</td>\n",
       "    </tr>\n",
       "    <tr>\n",
       "      <th>1</th>\n",
       "      <td>07/06/2022</td>\n",
       "      <td>[Isabely JOanes 738, Isabely JOanes 738, Isabe...</td>\n",
       "      <td>[R$ 825,31, R$ 168,07, R$ 339,18, R$ 314,69]</td>\n",
       "    </tr>\n",
       "    <tr>\n",
       "      <th>2</th>\n",
       "      <td>08/06/2022</td>\n",
       "      <td>[Isabely JOanes 738, JOãO Gabriel 671, Julya m...</td>\n",
       "      <td>[R$ 682,05, R$ 386,34, R$ 622,65, R$ 630,79]</td>\n",
       "    </tr>\n",
       "    <tr>\n",
       "      <th>3</th>\n",
       "      <td>09/06/2022</td>\n",
       "      <td>[Julya meireles 914, MaRIA Julia 444, MaRIA Ju...</td>\n",
       "      <td>[R$ 390,3, R$ 759,16, R$ 334,47, R$ 678,78]</td>\n",
       "    </tr>\n",
       "    <tr>\n",
       "      <th>4</th>\n",
       "      <td>10/06/2022</td>\n",
       "      <td>[MaRIA Julia 444, PEDRO PASCO 812, Paulo castr...</td>\n",
       "      <td>[R$ 314,24, R$ 311,15, R$ 899,16, R$ 885,24]</td>\n",
       "    </tr>\n",
       "  </tbody>\n",
       "</table>\n",
       "</div>"
      ],
      "text/plain": [
       "  Data de venda                                            Cliente  \\\n",
       "0    06/06/2022  [@ANA _LUCIA 321, DieGO ARMANDIU 210, DieGO AR...   \n",
       "1    07/06/2022  [Isabely JOanes 738, Isabely JOanes 738, Isabe...   \n",
       "2    08/06/2022  [Isabely JOanes 738, JOãO Gabriel 671, Julya m...   \n",
       "3    09/06/2022  [Julya meireles 914, MaRIA Julia 444, MaRIA Ju...   \n",
       "4    10/06/2022  [MaRIA Julia 444, PEDRO PASCO 812, Paulo castr...   \n",
       "\n",
       "                                Valor da compra  \n",
       "0    [R$ 836,5, R$ 573,33, R$ 392,8, R$ 512,34]  \n",
       "1  [R$ 825,31, R$ 168,07, R$ 339,18, R$ 314,69]  \n",
       "2  [R$ 682,05, R$ 386,34, R$ 622,65, R$ 630,79]  \n",
       "3   [R$ 390,3, R$ 759,16, R$ 334,47, R$ 678,78]  \n",
       "4  [R$ 314,24, R$ 311,15, R$ 899,16, R$ 885,24]  "
      ]
     },
     "execution_count": 130,
     "metadata": {},
     "output_type": "execute_result"
    }
   ],
   "source": [
    "r = requests.get('https://cdn3.gnarususercontent.com.br/2928-transformacao-manipulacao-dados/dados_vendas_clientes.json')\n",
    "\n",
    "if r.status_code == HTTPStatus.OK:\n",
    "  df = pd.DataFrame(r.json())\n",
    "  df = pd.json_normalize(df['dados_vendas'])\n",
    "\n",
    "\n",
    "df.head()"
   ]
  },
  {
   "cell_type": "markdown",
   "id": "8cb96f80",
   "metadata": {},
   "source": [
    "#### 2 - Verificar os tipos de dados"
   ]
  },
  {
   "cell_type": "code",
   "execution_count": 131,
   "id": "3c3a2161",
   "metadata": {},
   "outputs": [
    {
     "name": "stdout",
     "output_type": "stream",
     "text": [
      "<class 'pandas.core.frame.DataFrame'>\n",
      "RangeIndex: 5 entries, 0 to 4\n",
      "Data columns (total 3 columns):\n",
      " #   Column           Non-Null Count  Dtype \n",
      "---  ------           --------------  ----- \n",
      " 0   Data de venda    5 non-null      object\n",
      " 1   Cliente          5 non-null      object\n",
      " 2   Valor da compra  5 non-null      object\n",
      "dtypes: object(3)\n",
      "memory usage: 252.0+ bytes\n"
     ]
    }
   ],
   "source": [
    "df.info()"
   ]
  },
  {
   "cell_type": "markdown",
   "id": "397556eb",
   "metadata": {},
   "source": [
    "#### 3 - Identificar colunas numéricas;\n"
   ]
  },
  {
   "cell_type": "code",
   "execution_count": 132,
   "id": "0097b85f",
   "metadata": {},
   "outputs": [
    {
     "name": "stdout",
     "output_type": "stream",
     "text": [
      "<class 'pandas.core.frame.DataFrame'>\n",
      "RangeIndex: 5 entries, 0 to 4\n",
      "Data columns (total 3 columns):\n",
      " #   Column           Non-Null Count  Dtype \n",
      "---  ------           --------------  ----- \n",
      " 0   Data de venda    5 non-null      object\n",
      " 1   Cliente          5 non-null      object\n",
      " 2   Valor da compra  5 non-null      object\n",
      "dtypes: object(3)\n",
      "memory usage: 252.0+ bytes\n"
     ]
    }
   ],
   "source": [
    "# Valor de compra é um valor númerico\n",
    "\n",
    "df.info()"
   ]
  },
  {
   "cell_type": "markdown",
   "id": "66f99b73",
   "metadata": {},
   "source": [
    "#### 4 - Transformar a coluna numérica para o tipo numérico."
   ]
  },
  {
   "cell_type": "code",
   "execution_count": 133,
   "id": "f28bfe27",
   "metadata": {},
   "outputs": [
    {
     "data": {
      "text/plain": [
       "dtype('float32')"
      ]
     },
     "execution_count": 133,
     "metadata": {},
     "output_type": "execute_result"
    }
   ],
   "source": [
    "df = df.explode('Valor da compra')\n",
    "\n",
    "df.reset_index(drop=True, inplace=True)\n",
    "\n",
    "df['Valor da compra'] = df['Valor da compra'].map(lambda v: v.replace('R$', '').replace(',', '').strip())\n",
    "\n",
    "\n",
    "df['Valor da compra'] = df['Valor da compra'].astype('float32')\n",
    "\n",
    "df['Valor da compra'].dtype"
   ]
  },
  {
   "cell_type": "markdown",
   "id": "14db939d",
   "metadata": {
    "jp-MarkdownHeadingCollapsed": true
   },
   "source": [
    "### Etapa 2\n",
    "\n",
    "- Projeto desafio 2: administração de condomínios\n",
    "\n",
    "Lemos a base de dados no desafio anterior, agora podemos avançar nas transformações desses dados. Então, da mesma forma que o projeto 1, o desafio do projeto 2 está listado em algumas metas:\n",
    "\n",
    "\n",
    "- [x] Remover os dados em listas dentro do DataFrame;\n",
    "- [x] Verificar os tipos de dados;\n",
    "- [x] Identificar colunas numéricas;\n",
    "- [x] Transformar a coluna numérica para o tipo numérico.\n"
   ]
  },
  {
   "cell_type": "code",
   "execution_count": 134,
   "id": "2901e969",
   "metadata": {},
   "outputs": [
    {
     "data": {
      "text/html": [
       "<div>\n",
       "<style scoped>\n",
       "    .dataframe tbody tr th:only-of-type {\n",
       "        vertical-align: middle;\n",
       "    }\n",
       "\n",
       "    .dataframe tbody tr th {\n",
       "        vertical-align: top;\n",
       "    }\n",
       "\n",
       "    .dataframe thead th {\n",
       "        text-align: right;\n",
       "    }\n",
       "</style>\n",
       "<table border=\"1\" class=\"dataframe\">\n",
       "  <thead>\n",
       "    <tr style=\"text-align: right;\">\n",
       "      <th></th>\n",
       "      <th>apartamento</th>\n",
       "      <th>datas_combinadas_pagamento</th>\n",
       "      <th>datas_de_pagamento</th>\n",
       "      <th>valor_aluguel</th>\n",
       "    </tr>\n",
       "  </thead>\n",
       "  <tbody>\n",
       "    <tr>\n",
       "      <th>0</th>\n",
       "      <td>A101 (blocoAP)</td>\n",
       "      <td>[01/06/2022, 01/07/2022]</td>\n",
       "      <td>[05/06/2022, 03/07/2022]</td>\n",
       "      <td>[$ 1000,0 reais, $ 2500,0 reais]</td>\n",
       "    </tr>\n",
       "    <tr>\n",
       "      <th>1</th>\n",
       "      <td>A102 (blocoAP)</td>\n",
       "      <td>[02/06/2022, 02/07/2022]</td>\n",
       "      <td>[02/06/2022, 06/07/2022]</td>\n",
       "      <td>[$ 1100,0 reais, $ 2600,0 reais]</td>\n",
       "    </tr>\n",
       "    <tr>\n",
       "      <th>2</th>\n",
       "      <td>B201 (blocoAP)</td>\n",
       "      <td>[03/06/2022, 03/07/2022]</td>\n",
       "      <td>[07/06/2022, 03/07/2022]</td>\n",
       "      <td>[$ 1200,0 reais, $ 2700,0 reais]</td>\n",
       "    </tr>\n",
       "    <tr>\n",
       "      <th>3</th>\n",
       "      <td>B202 (blocoAP)</td>\n",
       "      <td>[04/06/2022, 04/07/2022]</td>\n",
       "      <td>[07/06/2022, 05/07/2022]</td>\n",
       "      <td>[$ 1300,0 reais, $ 2800,0 reais]</td>\n",
       "    </tr>\n",
       "    <tr>\n",
       "      <th>4</th>\n",
       "      <td>C301 (blocoAP)</td>\n",
       "      <td>[05/06/2022, 05/07/2022]</td>\n",
       "      <td>[10/06/2022, 09/07/2022]</td>\n",
       "      <td>[$ 1400,0 reais, $ 2900,0 reais]</td>\n",
       "    </tr>\n",
       "    <tr>\n",
       "      <th>5</th>\n",
       "      <td>C302 (blocoAP)</td>\n",
       "      <td>[06/06/2022, 06/07/2022]</td>\n",
       "      <td>[08/06/2022, 12/07/2022]</td>\n",
       "      <td>[$ 1500,0 reais, $ 1200,0 reais]</td>\n",
       "    </tr>\n",
       "    <tr>\n",
       "      <th>6</th>\n",
       "      <td>D401 (blocoAP)</td>\n",
       "      <td>[07/06/2022, 07/07/2022]</td>\n",
       "      <td>[07/06/2022, 09/07/2022]</td>\n",
       "      <td>[$ 1600,0 reais, $ 1300,0 reais]</td>\n",
       "    </tr>\n",
       "    <tr>\n",
       "      <th>7</th>\n",
       "      <td>D402 (blocoAP)</td>\n",
       "      <td>[08/06/2022, 08/07/2022]</td>\n",
       "      <td>[10/06/2022, 14/07/2022]</td>\n",
       "      <td>[$ 1700,0 reais, $ 1400,0 reais]</td>\n",
       "    </tr>\n",
       "    <tr>\n",
       "      <th>8</th>\n",
       "      <td>E501 (blocoAP)</td>\n",
       "      <td>[09/06/2022, 09/07/2022]</td>\n",
       "      <td>[10/06/2022, 09/07/2022]</td>\n",
       "      <td>[$ 1800,0 reais, $ 1500,0 reais]</td>\n",
       "    </tr>\n",
       "    <tr>\n",
       "      <th>9</th>\n",
       "      <td>E502 (blocoAP)</td>\n",
       "      <td>[10/06/2022, 10/07/2022]</td>\n",
       "      <td>[16/06/2022, 12/07/2022]</td>\n",
       "      <td>[$ 1900,0 reais, $ 1600,0 reais]</td>\n",
       "    </tr>\n",
       "    <tr>\n",
       "      <th>10</th>\n",
       "      <td>F601 (blocoAP)</td>\n",
       "      <td>[11/06/2022, 11/07/2022]</td>\n",
       "      <td>[17/06/2022, 13/07/2022]</td>\n",
       "      <td>[$ 2000,0 reais, $ 1000,0 reais]</td>\n",
       "    </tr>\n",
       "    <tr>\n",
       "      <th>11</th>\n",
       "      <td>F602 (blocoAP)</td>\n",
       "      <td>[12/06/2022, 12/07/2022]</td>\n",
       "      <td>[15/06/2022, 12/07/2022]</td>\n",
       "      <td>[$ 2100,0 reais, $ 1100,0 reais]</td>\n",
       "    </tr>\n",
       "    <tr>\n",
       "      <th>12</th>\n",
       "      <td>G701 (blocoAP)</td>\n",
       "      <td>[13/06/2022, 13/07/2022]</td>\n",
       "      <td>[19/06/2022, 20/07/2022]</td>\n",
       "      <td>[$ 2200,0 reais, $ 1200,0 reais]</td>\n",
       "    </tr>\n",
       "    <tr>\n",
       "      <th>13</th>\n",
       "      <td>G702 (blocoAP)</td>\n",
       "      <td>[14/06/2022, 14/07/2022]</td>\n",
       "      <td>[15/06/2022, 17/07/2022]</td>\n",
       "      <td>[$ 2300,0 reais, $ 2100,0 reais]</td>\n",
       "    </tr>\n",
       "    <tr>\n",
       "      <th>14</th>\n",
       "      <td>H801 (blocoAP)</td>\n",
       "      <td>[15/06/2022, 15/07/2022]</td>\n",
       "      <td>[18/06/2022, 16/07/2022]</td>\n",
       "      <td>[$ 2400,0 reais, $ 2200,0 reais]</td>\n",
       "    </tr>\n",
       "  </tbody>\n",
       "</table>\n",
       "</div>"
      ],
      "text/plain": [
       "       apartamento datas_combinadas_pagamento        datas_de_pagamento  \\\n",
       "0   A101 (blocoAP)   [01/06/2022, 01/07/2022]  [05/06/2022, 03/07/2022]   \n",
       "1   A102 (blocoAP)   [02/06/2022, 02/07/2022]  [02/06/2022, 06/07/2022]   \n",
       "2   B201 (blocoAP)   [03/06/2022, 03/07/2022]  [07/06/2022, 03/07/2022]   \n",
       "3   B202 (blocoAP)   [04/06/2022, 04/07/2022]  [07/06/2022, 05/07/2022]   \n",
       "4   C301 (blocoAP)   [05/06/2022, 05/07/2022]  [10/06/2022, 09/07/2022]   \n",
       "5   C302 (blocoAP)   [06/06/2022, 06/07/2022]  [08/06/2022, 12/07/2022]   \n",
       "6   D401 (blocoAP)   [07/06/2022, 07/07/2022]  [07/06/2022, 09/07/2022]   \n",
       "7   D402 (blocoAP)   [08/06/2022, 08/07/2022]  [10/06/2022, 14/07/2022]   \n",
       "8   E501 (blocoAP)   [09/06/2022, 09/07/2022]  [10/06/2022, 09/07/2022]   \n",
       "9   E502 (blocoAP)   [10/06/2022, 10/07/2022]  [16/06/2022, 12/07/2022]   \n",
       "10  F601 (blocoAP)   [11/06/2022, 11/07/2022]  [17/06/2022, 13/07/2022]   \n",
       "11  F602 (blocoAP)   [12/06/2022, 12/07/2022]  [15/06/2022, 12/07/2022]   \n",
       "12  G701 (blocoAP)   [13/06/2022, 13/07/2022]  [19/06/2022, 20/07/2022]   \n",
       "13  G702 (blocoAP)   [14/06/2022, 14/07/2022]  [15/06/2022, 17/07/2022]   \n",
       "14  H801 (blocoAP)   [15/06/2022, 15/07/2022]  [18/06/2022, 16/07/2022]   \n",
       "\n",
       "                       valor_aluguel  \n",
       "0   [$ 1000,0 reais, $ 2500,0 reais]  \n",
       "1   [$ 1100,0 reais, $ 2600,0 reais]  \n",
       "2   [$ 1200,0 reais, $ 2700,0 reais]  \n",
       "3   [$ 1300,0 reais, $ 2800,0 reais]  \n",
       "4   [$ 1400,0 reais, $ 2900,0 reais]  \n",
       "5   [$ 1500,0 reais, $ 1200,0 reais]  \n",
       "6   [$ 1600,0 reais, $ 1300,0 reais]  \n",
       "7   [$ 1700,0 reais, $ 1400,0 reais]  \n",
       "8   [$ 1800,0 reais, $ 1500,0 reais]  \n",
       "9   [$ 1900,0 reais, $ 1600,0 reais]  \n",
       "10  [$ 2000,0 reais, $ 1000,0 reais]  \n",
       "11  [$ 2100,0 reais, $ 1100,0 reais]  \n",
       "12  [$ 2200,0 reais, $ 1200,0 reais]  \n",
       "13  [$ 2300,0 reais, $ 2100,0 reais]  \n",
       "14  [$ 2400,0 reais, $ 2200,0 reais]  "
      ]
     },
     "execution_count": 134,
     "metadata": {},
     "output_type": "execute_result"
    }
   ],
   "source": [
    "r = requests.get('https://cdn3.gnarususercontent.com.br/2928-transformacao-manipulacao-dados/dados_locacao_imoveis.json')\n",
    "\n",
    "\n",
    "if r.status_code == HTTPStatus.OK:\n",
    "\n",
    "  df = pd.DataFrame(r.json())\n",
    "  df = pd.json_normalize(df['dados_locacao'])\n",
    "\n",
    "df"
   ]
  },
  {
   "cell_type": "markdown",
   "id": "cd65c309",
   "metadata": {},
   "source": [
    "#### 1 - Remover os dados em listas dentro do DataFrame"
   ]
  },
  {
   "cell_type": "code",
   "execution_count": 135,
   "id": "32458cab",
   "metadata": {},
   "outputs": [
    {
     "data": {
      "text/html": [
       "<div>\n",
       "<style scoped>\n",
       "    .dataframe tbody tr th:only-of-type {\n",
       "        vertical-align: middle;\n",
       "    }\n",
       "\n",
       "    .dataframe tbody tr th {\n",
       "        vertical-align: top;\n",
       "    }\n",
       "\n",
       "    .dataframe thead th {\n",
       "        text-align: right;\n",
       "    }\n",
       "</style>\n",
       "<table border=\"1\" class=\"dataframe\">\n",
       "  <thead>\n",
       "    <tr style=\"text-align: right;\">\n",
       "      <th></th>\n",
       "      <th>apartamento</th>\n",
       "      <th>datas_combinadas_pagamento</th>\n",
       "      <th>datas_de_pagamento</th>\n",
       "      <th>valor_aluguel</th>\n",
       "    </tr>\n",
       "  </thead>\n",
       "  <tbody>\n",
       "    <tr>\n",
       "      <th>0</th>\n",
       "      <td>A101 (blocoAP)</td>\n",
       "      <td>01/06/2022</td>\n",
       "      <td>05/06/2022</td>\n",
       "      <td>$ 1000,0 reais</td>\n",
       "    </tr>\n",
       "    <tr>\n",
       "      <th>1</th>\n",
       "      <td>A101 (blocoAP)</td>\n",
       "      <td>01/06/2022</td>\n",
       "      <td>05/06/2022</td>\n",
       "      <td>$ 2500,0 reais</td>\n",
       "    </tr>\n",
       "    <tr>\n",
       "      <th>2</th>\n",
       "      <td>A101 (blocoAP)</td>\n",
       "      <td>01/06/2022</td>\n",
       "      <td>03/07/2022</td>\n",
       "      <td>$ 1000,0 reais</td>\n",
       "    </tr>\n",
       "    <tr>\n",
       "      <th>3</th>\n",
       "      <td>A101 (blocoAP)</td>\n",
       "      <td>01/06/2022</td>\n",
       "      <td>03/07/2022</td>\n",
       "      <td>$ 2500,0 reais</td>\n",
       "    </tr>\n",
       "    <tr>\n",
       "      <th>4</th>\n",
       "      <td>A101 (blocoAP)</td>\n",
       "      <td>01/07/2022</td>\n",
       "      <td>05/06/2022</td>\n",
       "      <td>$ 1000,0 reais</td>\n",
       "    </tr>\n",
       "    <tr>\n",
       "      <th>...</th>\n",
       "      <td>...</td>\n",
       "      <td>...</td>\n",
       "      <td>...</td>\n",
       "      <td>...</td>\n",
       "    </tr>\n",
       "    <tr>\n",
       "      <th>115</th>\n",
       "      <td>H801 (blocoAP)</td>\n",
       "      <td>15/06/2022</td>\n",
       "      <td>16/07/2022</td>\n",
       "      <td>$ 2200,0 reais</td>\n",
       "    </tr>\n",
       "    <tr>\n",
       "      <th>116</th>\n",
       "      <td>H801 (blocoAP)</td>\n",
       "      <td>15/07/2022</td>\n",
       "      <td>18/06/2022</td>\n",
       "      <td>$ 2400,0 reais</td>\n",
       "    </tr>\n",
       "    <tr>\n",
       "      <th>117</th>\n",
       "      <td>H801 (blocoAP)</td>\n",
       "      <td>15/07/2022</td>\n",
       "      <td>18/06/2022</td>\n",
       "      <td>$ 2200,0 reais</td>\n",
       "    </tr>\n",
       "    <tr>\n",
       "      <th>118</th>\n",
       "      <td>H801 (blocoAP)</td>\n",
       "      <td>15/07/2022</td>\n",
       "      <td>16/07/2022</td>\n",
       "      <td>$ 2400,0 reais</td>\n",
       "    </tr>\n",
       "    <tr>\n",
       "      <th>119</th>\n",
       "      <td>H801 (blocoAP)</td>\n",
       "      <td>15/07/2022</td>\n",
       "      <td>16/07/2022</td>\n",
       "      <td>$ 2200,0 reais</td>\n",
       "    </tr>\n",
       "  </tbody>\n",
       "</table>\n",
       "<p>120 rows × 4 columns</p>\n",
       "</div>"
      ],
      "text/plain": [
       "        apartamento datas_combinadas_pagamento datas_de_pagamento  \\\n",
       "0    A101 (blocoAP)                 01/06/2022         05/06/2022   \n",
       "1    A101 (blocoAP)                 01/06/2022         05/06/2022   \n",
       "2    A101 (blocoAP)                 01/06/2022         03/07/2022   \n",
       "3    A101 (blocoAP)                 01/06/2022         03/07/2022   \n",
       "4    A101 (blocoAP)                 01/07/2022         05/06/2022   \n",
       "..              ...                        ...                ...   \n",
       "115  H801 (blocoAP)                 15/06/2022         16/07/2022   \n",
       "116  H801 (blocoAP)                 15/07/2022         18/06/2022   \n",
       "117  H801 (blocoAP)                 15/07/2022         18/06/2022   \n",
       "118  H801 (blocoAP)                 15/07/2022         16/07/2022   \n",
       "119  H801 (blocoAP)                 15/07/2022         16/07/2022   \n",
       "\n",
       "      valor_aluguel  \n",
       "0    $ 1000,0 reais  \n",
       "1    $ 2500,0 reais  \n",
       "2    $ 1000,0 reais  \n",
       "3    $ 2500,0 reais  \n",
       "4    $ 1000,0 reais  \n",
       "..              ...  \n",
       "115  $ 2200,0 reais  \n",
       "116  $ 2400,0 reais  \n",
       "117  $ 2200,0 reais  \n",
       "118  $ 2400,0 reais  \n",
       "119  $ 2200,0 reais  \n",
       "\n",
       "[120 rows x 4 columns]"
      ]
     },
     "execution_count": 135,
     "metadata": {},
     "output_type": "execute_result"
    }
   ],
   "source": [
    "df = df.explode('datas_combinadas_pagamento')\n",
    "df = df.explode('datas_de_pagamento')\n",
    "df = df.explode('valor_aluguel')\n",
    "\n",
    "df.reset_index(drop=True, inplace=True)\n",
    "\n",
    "df"
   ]
  },
  {
   "cell_type": "markdown",
   "id": "83f17c9b",
   "metadata": {},
   "source": [
    "#### 2 - Verificar os tipos de dados"
   ]
  },
  {
   "cell_type": "code",
   "execution_count": 136,
   "id": "43a1ee98",
   "metadata": {},
   "outputs": [
    {
     "name": "stdout",
     "output_type": "stream",
     "text": [
      "<class 'pandas.core.frame.DataFrame'>\n",
      "RangeIndex: 120 entries, 0 to 119\n",
      "Data columns (total 4 columns):\n",
      " #   Column                      Non-Null Count  Dtype \n",
      "---  ------                      --------------  ----- \n",
      " 0   apartamento                 120 non-null    object\n",
      " 1   datas_combinadas_pagamento  120 non-null    object\n",
      " 2   datas_de_pagamento          120 non-null    object\n",
      " 3   valor_aluguel               120 non-null    object\n",
      "dtypes: object(4)\n",
      "memory usage: 3.9+ KB\n"
     ]
    }
   ],
   "source": [
    "df.info()"
   ]
  },
  {
   "cell_type": "markdown",
   "id": "ce4d511d",
   "metadata": {},
   "source": [
    "#### 3. Identificar colunas numéricas"
   ]
  },
  {
   "cell_type": "code",
   "execution_count": 137,
   "id": "5fb5f323",
   "metadata": {},
   "outputs": [
    {
     "data": {
      "text/plain": [
       "0      $ 1000,0 reais\n",
       "1      $ 2500,0 reais\n",
       "2      $ 1000,0 reais\n",
       "3      $ 2500,0 reais\n",
       "4      $ 1000,0 reais\n",
       "            ...      \n",
       "115    $ 2200,0 reais\n",
       "116    $ 2400,0 reais\n",
       "117    $ 2200,0 reais\n",
       "118    $ 2400,0 reais\n",
       "119    $ 2200,0 reais\n",
       "Name: valor_aluguel, Length: 120, dtype: object"
      ]
     },
     "execution_count": 137,
     "metadata": {},
     "output_type": "execute_result"
    }
   ],
   "source": [
    "df['valor_aluguel']"
   ]
  },
  {
   "cell_type": "markdown",
   "id": "82a43b61",
   "metadata": {},
   "source": [
    "#### 4. Transformar a coluna numérica para o tipo numérico"
   ]
  },
  {
   "cell_type": "code",
   "execution_count": 138,
   "id": "608a4c6c",
   "metadata": {},
   "outputs": [
    {
     "data": {
      "text/plain": [
       "dtype('float64')"
      ]
     },
     "execution_count": 138,
     "metadata": {},
     "output_type": "execute_result"
    }
   ],
   "source": [
    "df['valor_aluguel'] = df['valor_aluguel'].map(lambda v: v.replace('$', '').replace(',', '').replace('reais', '').strip())\n",
    "df['valor_aluguel'] = df['valor_aluguel'].astype('float64')\n",
    "\n",
    "df['valor_aluguel'].dtype"
   ]
  }
 ],
 "metadata": {
  "kernelspec": {
   "display_name": "my-ml-guide",
   "language": "python",
   "name": "python3"
  },
  "language_info": {
   "codemirror_mode": {
    "name": "ipython",
    "version": 3
   },
   "file_extension": ".py",
   "mimetype": "text/x-python",
   "name": "python",
   "nbconvert_exporter": "python",
   "pygments_lexer": "ipython3",
   "version": "3.13.2"
  }
 },
 "nbformat": 4,
 "nbformat_minor": 5
}
