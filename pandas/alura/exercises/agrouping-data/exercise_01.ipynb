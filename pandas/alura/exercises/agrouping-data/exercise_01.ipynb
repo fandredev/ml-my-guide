{
 "cells": [
  {
   "cell_type": "markdown",
   "id": "99c00ef4",
   "metadata": {},
   "source": [
    "Você está analisando dados de vendas em uma rede de lojas de departamentos e foi encarregado(a) de responder a algumas perguntas de negócio críticas para o planejamento estratégico da empresa. A primeira questão essencial é entender o desempenho das três unidades da rede, especificamente no que se refere ao valor total de vendas para o período.\n",
    "\n",
    "O objetivo é obter a soma do valor total das vendas por unidade para identificar qual está performando melhor em termos de geração de receita. Essa análise ajudará a liderança a tomar decisões informadas sobre possíveis investimentos, promoções e realocação de recursos.\n",
    "\n",
    "Os dados estão disponíveis na seguinte url:\n",
    "\n",
    "```https://raw.githubusercontent.com/alura-cursos/python_dados/refs/heads/main/Dados/loja_vendas.csv'```\n",
    "\n",
    "Sua missão nesta atividade é carregar os dados de vendas, examinar as informações disponíveis, e aplicar o método groupby() para agrupar e sumarizar o valor total de vendas por unidade."
   ]
  },
  {
   "cell_type": "code",
   "execution_count": 102,
   "id": "244b1b4e",
   "metadata": {},
   "outputs": [],
   "source": [
    "import pandas as pd"
   ]
  },
  {
   "cell_type": "code",
   "execution_count": 103,
   "id": "a5674317",
   "metadata": {},
   "outputs": [
    {
     "data": {
      "text/html": [
       "<div>\n",
       "<style scoped>\n",
       "    .dataframe tbody tr th:only-of-type {\n",
       "        vertical-align: middle;\n",
       "    }\n",
       "\n",
       "    .dataframe tbody tr th {\n",
       "        vertical-align: top;\n",
       "    }\n",
       "\n",
       "    .dataframe thead th {\n",
       "        text-align: right;\n",
       "    }\n",
       "</style>\n",
       "<table border=\"1\" class=\"dataframe\">\n",
       "  <thead>\n",
       "    <tr style=\"text-align: right;\">\n",
       "      <th></th>\n",
       "      <th>ID_compra</th>\n",
       "      <th>unidade</th>\n",
       "      <th>cidade</th>\n",
       "      <th>data</th>\n",
       "      <th>horario</th>\n",
       "      <th>categoria_produto</th>\n",
       "      <th>valor_unitario</th>\n",
       "      <th>quantidade</th>\n",
       "      <th>valor_total</th>\n",
       "      <th>metodo_pagamento</th>\n",
       "      <th>ID_cliente</th>\n",
       "      <th>programa_cashback</th>\n",
       "      <th>idade</th>\n",
       "      <th>avaliacao_compra</th>\n",
       "    </tr>\n",
       "  </thead>\n",
       "  <tbody>\n",
       "    <tr>\n",
       "      <th>0</th>\n",
       "      <td>6</td>\n",
       "      <td>Parque das nações</td>\n",
       "      <td>Santo André</td>\n",
       "      <td>2022-01-03</td>\n",
       "      <td>15:40</td>\n",
       "      <td>Eletrônicos</td>\n",
       "      <td>4457.9</td>\n",
       "      <td>4</td>\n",
       "      <td>17831.6</td>\n",
       "      <td>Dinheiro</td>\n",
       "      <td>6149</td>\n",
       "      <td>Sim</td>\n",
       "      <td>30</td>\n",
       "      <td>10</td>\n",
       "    </tr>\n",
       "    <tr>\n",
       "      <th>1</th>\n",
       "      <td>5</td>\n",
       "      <td>Oswaldo Cruz</td>\n",
       "      <td>São Caetano do Sul</td>\n",
       "      <td>2022-01-03</td>\n",
       "      <td>16:48</td>\n",
       "      <td>Ferramentas e construção</td>\n",
       "      <td>115.9</td>\n",
       "      <td>1</td>\n",
       "      <td>115.9</td>\n",
       "      <td>PIX</td>\n",
       "      <td>9491</td>\n",
       "      <td>Sim</td>\n",
       "      <td>36</td>\n",
       "      <td>9</td>\n",
       "    </tr>\n",
       "    <tr>\n",
       "      <th>2</th>\n",
       "      <td>9</td>\n",
       "      <td>Paulicéia</td>\n",
       "      <td>São Bernardo do Campo</td>\n",
       "      <td>2022-01-03</td>\n",
       "      <td>12:08</td>\n",
       "      <td>Beleza e cuidados pessoais</td>\n",
       "      <td>68.9</td>\n",
       "      <td>2</td>\n",
       "      <td>137.8</td>\n",
       "      <td>Cartão</td>\n",
       "      <td>5288</td>\n",
       "      <td>Não</td>\n",
       "      <td>39</td>\n",
       "      <td>9</td>\n",
       "    </tr>\n",
       "    <tr>\n",
       "      <th>3</th>\n",
       "      <td>4</td>\n",
       "      <td>Oswaldo Cruz</td>\n",
       "      <td>São Caetano do Sul</td>\n",
       "      <td>2022-01-03</td>\n",
       "      <td>9:29</td>\n",
       "      <td>Ferramentas e construção</td>\n",
       "      <td>80.9</td>\n",
       "      <td>5</td>\n",
       "      <td>404.5</td>\n",
       "      <td>PIX</td>\n",
       "      <td>9679</td>\n",
       "      <td>Sim</td>\n",
       "      <td>35</td>\n",
       "      <td>10</td>\n",
       "    </tr>\n",
       "    <tr>\n",
       "      <th>4</th>\n",
       "      <td>8</td>\n",
       "      <td>Parque das nações</td>\n",
       "      <td>Santo André</td>\n",
       "      <td>2022-01-03</td>\n",
       "      <td>13:02</td>\n",
       "      <td>Beleza e cuidados pessoais</td>\n",
       "      <td>165.0</td>\n",
       "      <td>4</td>\n",
       "      <td>660.0</td>\n",
       "      <td>PIX</td>\n",
       "      <td>1380</td>\n",
       "      <td>Não</td>\n",
       "      <td>50</td>\n",
       "      <td>9</td>\n",
       "    </tr>\n",
       "  </tbody>\n",
       "</table>\n",
       "</div>"
      ],
      "text/plain": [
       "   ID_compra            unidade                 cidade        data horario  \\\n",
       "0          6  Parque das nações            Santo André  2022-01-03   15:40   \n",
       "1          5       Oswaldo Cruz     São Caetano do Sul  2022-01-03   16:48   \n",
       "2          9          Paulicéia  São Bernardo do Campo  2022-01-03   12:08   \n",
       "3          4       Oswaldo Cruz     São Caetano do Sul  2022-01-03    9:29   \n",
       "4          8  Parque das nações            Santo André  2022-01-03   13:02   \n",
       "\n",
       "            categoria_produto  valor_unitario  quantidade  valor_total  \\\n",
       "0                 Eletrônicos          4457.9           4      17831.6   \n",
       "1    Ferramentas e construção           115.9           1        115.9   \n",
       "2  Beleza e cuidados pessoais            68.9           2        137.8   \n",
       "3    Ferramentas e construção            80.9           5        404.5   \n",
       "4  Beleza e cuidados pessoais           165.0           4        660.0   \n",
       "\n",
       "  metodo_pagamento  ID_cliente programa_cashback  idade  avaliacao_compra  \n",
       "0         Dinheiro        6149               Sim     30                10  \n",
       "1              PIX        9491               Sim     36                 9  \n",
       "2           Cartão        5288               Não     39                 9  \n",
       "3              PIX        9679               Sim     35                10  \n",
       "4              PIX        1380               Não     50                 9  "
      ]
     },
     "execution_count": 103,
     "metadata": {},
     "output_type": "execute_result"
    }
   ],
   "source": [
    "url = \"https://raw.githubusercontent.com/alura-cursos/python_dados/refs/heads/main/Dados/loja_vendas.csv\"\n",
    "\n",
    "df = pd.read_csv(url, na_values=[\"Infinity\", \"-Infinity\", \"inf\", \"-inf\", \"NaN\"])\n",
    "\n",
    "df.head()"
   ]
  },
  {
   "cell_type": "markdown",
   "id": "a65d4307",
   "metadata": {
    "jp-MarkdownHeadingCollapsed": true
   },
   "source": [
    "#### 1. Analisando vendas em uma rede de lojas\n",
    "\n",
    "Você está analisando dados de vendas em uma rede de lojas de departamentos e foi encarregado(a) de responder a algumas perguntas de negócio críticas para o planejamento estratégico da empresa. A primeira questão essencial é entender o desempenho das três unidades da rede, especificamente no que se refere ao valor total de vendas para o período.\n",
    "\n",
    "O objetivo é obter a soma do valor total das vendas por unidade para identificar qual está performando melhor em termos de geração de receita. Essa análise ajudará a liderança a tomar decisões informadas sobre possíveis investimentos, promoções e realocação de recursos.\n",
    "\n",
    "Os dados estão disponíveis na seguinte url:\n",
    "\n",
    "```'https://raw.githubusercontent.com/alura-cursos/python_dados/refs/heads/main/Dados/loja_vendas.csv'```\n",
    "\n",
    "\n",
    "Sua missão nesta atividade é carregar os dados de vendas, examinar as informações disponíveis, e aplicar o método groupby() para agrupar e sumarizar o valor total de vendas por unidade."
   ]
  },
  {
   "cell_type": "code",
   "execution_count": 104,
   "id": "88ebc554",
   "metadata": {},
   "outputs": [
    {
     "data": {
      "text/html": [
       "<div>\n",
       "<style scoped>\n",
       "    .dataframe tbody tr th:only-of-type {\n",
       "        vertical-align: middle;\n",
       "    }\n",
       "\n",
       "    .dataframe tbody tr th {\n",
       "        vertical-align: top;\n",
       "    }\n",
       "\n",
       "    .dataframe thead th {\n",
       "        text-align: right;\n",
       "    }\n",
       "</style>\n",
       "<table border=\"1\" class=\"dataframe\">\n",
       "  <thead>\n",
       "    <tr style=\"text-align: right;\">\n",
       "      <th></th>\n",
       "      <th>unidade</th>\n",
       "      <th>valor_total</th>\n",
       "    </tr>\n",
       "  </thead>\n",
       "  <tbody>\n",
       "    <tr>\n",
       "      <th>0</th>\n",
       "      <td>Oswaldo Cruz</td>\n",
       "      <td>5811213.0</td>\n",
       "    </tr>\n",
       "    <tr>\n",
       "      <th>1</th>\n",
       "      <td>Parque das nações</td>\n",
       "      <td>5443778.1</td>\n",
       "    </tr>\n",
       "    <tr>\n",
       "      <th>2</th>\n",
       "      <td>Paulicéia</td>\n",
       "      <td>4988462.9</td>\n",
       "    </tr>\n",
       "  </tbody>\n",
       "</table>\n",
       "</div>"
      ],
      "text/plain": [
       "             unidade  valor_total\n",
       "0       Oswaldo Cruz    5811213.0\n",
       "1  Parque das nações    5443778.1\n",
       "2          Paulicéia    4988462.9"
      ]
     },
     "execution_count": 104,
     "metadata": {},
     "output_type": "execute_result"
    }
   ],
   "source": [
    "# Agrupa valores por unidade, pega a coluna 'valor_total', aplica uma soma e então ordena os valores por order crescente.\n",
    "\n",
    "df.groupby('unidade', as_index=False)['valor_total'].sum().sort_values(by='valor_total', ascending=False)"
   ]
  },
  {
   "cell_type": "markdown",
   "id": "8323a431",
   "metadata": {
    "jp-MarkdownHeadingCollapsed": true
   },
   "source": [
    "#### 2. Analisando as vendas por categoria de produto\n",
    "\n",
    "Depois de avaliar o desempenho das unidades individuais da rede, a próxima tarefa é analisar o desempenho de vendas por categoria de produto. Esta análise é crucial para identificar quais categorias estão contribuindo mais significativamente para as receitas e podem ser alvos de estratégias de marketing ou ajustes de estoque.\n",
    "\n",
    "Se você já carregou os dados para o exercício anterior, continue usando o mesmo DataFrame. Caso contrário, carregue os dados novamente usando a seguinte url:\n",
    "\n",
    "```'https://raw.githubusercontent.com/alura-cursos/python_dados/refs/heads/main/Dados/loja_vendas.csv'```\n",
    "\n",
    "\n",
    "Sua missão nesta atividade é aplicar o método groupby() para agrupar e sumarizar o valor total de vendas por categoria de produto. Para tornar os resultados ainda mais claros, ordene as categorias de acordo com o valor total de vendas, do maior para o menor.\n",
    "\n"
   ]
  },
  {
   "cell_type": "code",
   "execution_count": 105,
   "id": "2dbfdecc",
   "metadata": {},
   "outputs": [
    {
     "data": {
      "text/html": [
       "<div>\n",
       "<style scoped>\n",
       "    .dataframe tbody tr th:only-of-type {\n",
       "        vertical-align: middle;\n",
       "    }\n",
       "\n",
       "    .dataframe tbody tr th {\n",
       "        vertical-align: top;\n",
       "    }\n",
       "\n",
       "    .dataframe thead th {\n",
       "        text-align: right;\n",
       "    }\n",
       "</style>\n",
       "<table border=\"1\" class=\"dataframe\">\n",
       "  <thead>\n",
       "    <tr style=\"text-align: right;\">\n",
       "      <th></th>\n",
       "      <th>categoria_produto</th>\n",
       "      <th>valor_total</th>\n",
       "    </tr>\n",
       "  </thead>\n",
       "  <tbody>\n",
       "    <tr>\n",
       "      <th>3</th>\n",
       "      <td>Eletrônicos</td>\n",
       "      <td>14898778.5</td>\n",
       "    </tr>\n",
       "    <tr>\n",
       "      <th>1</th>\n",
       "      <td>Beleza e cuidados pessoais</td>\n",
       "      <td>423262.9</td>\n",
       "    </tr>\n",
       "    <tr>\n",
       "      <th>2</th>\n",
       "      <td>Casa e limpeza</td>\n",
       "      <td>316688.6</td>\n",
       "    </tr>\n",
       "    <tr>\n",
       "      <th>4</th>\n",
       "      <td>Ferramentas e construção</td>\n",
       "      <td>252953.1</td>\n",
       "    </tr>\n",
       "    <tr>\n",
       "      <th>0</th>\n",
       "      <td>Alimentos e bebidas</td>\n",
       "      <td>231284.3</td>\n",
       "    </tr>\n",
       "    <tr>\n",
       "      <th>5</th>\n",
       "      <td>Livros</td>\n",
       "      <td>75265.0</td>\n",
       "    </tr>\n",
       "    <tr>\n",
       "      <th>6</th>\n",
       "      <td>Papelaria e escritório</td>\n",
       "      <td>45221.6</td>\n",
       "    </tr>\n",
       "  </tbody>\n",
       "</table>\n",
       "</div>"
      ],
      "text/plain": [
       "            categoria_produto  valor_total\n",
       "3                 Eletrônicos   14898778.5\n",
       "1  Beleza e cuidados pessoais     423262.9\n",
       "2              Casa e limpeza     316688.6\n",
       "4    Ferramentas e construção     252953.1\n",
       "0         Alimentos e bebidas     231284.3\n",
       "5                      Livros      75265.0\n",
       "6      Papelaria e escritório      45221.6"
      ]
     },
     "execution_count": 105,
     "metadata": {},
     "output_type": "execute_result"
    }
   ],
   "source": [
    "# Agruda pela coluna categoria_produto criando uma coluna de indices, pega a coluna valor_total e aplica uma soma e ordena os valores de maneira crescente\n",
    "\n",
    "df.groupby('categoria_produto', as_index=False)['valor_total'].sum().sort_values(by='valor_total', ascending=False)"
   ]
  },
  {
   "cell_type": "markdown",
   "id": "92ee0755",
   "metadata": {
    "jp-MarkdownHeadingCollapsed": true
   },
   "source": [
    "#### 3. Analisando a idade dos clientes por método de pagamento\n",
    "\n",
    "Após analisar o desempenho das vendas por categoria de produto, agora focaremos em entender como diferentes métodos de pagamento estão associados a diferentes faixas etárias dos compradores. Esta análise é vital para identificar preferências de pagamento de acordo com a idade, o que pode orientar a implementação de estratégias de marketing mais eficazes e aprimorar a experiência de compra.\n",
    "\n",
    "Sua missão nesta atividade é aplicar o método groupby() para agrupar os compradores por método de pagamento e calcular os valores mínimos, médios e máximos da idade dos compradores para cada método."
   ]
  },
  {
   "cell_type": "code",
   "execution_count": 106,
   "id": "64d4f2d0",
   "metadata": {},
   "outputs": [
    {
     "data": {
      "text/html": [
       "<div>\n",
       "<style scoped>\n",
       "    .dataframe tbody tr th:only-of-type {\n",
       "        vertical-align: middle;\n",
       "    }\n",
       "\n",
       "    .dataframe tbody tr th {\n",
       "        vertical-align: top;\n",
       "    }\n",
       "\n",
       "    .dataframe thead th {\n",
       "        text-align: right;\n",
       "    }\n",
       "</style>\n",
       "<table border=\"1\" class=\"dataframe\">\n",
       "  <thead>\n",
       "    <tr style=\"text-align: right;\">\n",
       "      <th></th>\n",
       "      <th>metodo_pagamento</th>\n",
       "      <th>min</th>\n",
       "      <th>median</th>\n",
       "      <th>max</th>\n",
       "    </tr>\n",
       "  </thead>\n",
       "  <tbody>\n",
       "    <tr>\n",
       "      <th>2</th>\n",
       "      <td>Dinheiro</td>\n",
       "      <td>18</td>\n",
       "      <td>50.0</td>\n",
       "      <td>70</td>\n",
       "    </tr>\n",
       "    <tr>\n",
       "      <th>3</th>\n",
       "      <td>PIX</td>\n",
       "      <td>18</td>\n",
       "      <td>40.0</td>\n",
       "      <td>68</td>\n",
       "    </tr>\n",
       "    <tr>\n",
       "      <th>1</th>\n",
       "      <td>Cartão</td>\n",
       "      <td>18</td>\n",
       "      <td>38.0</td>\n",
       "      <td>65</td>\n",
       "    </tr>\n",
       "    <tr>\n",
       "      <th>0</th>\n",
       "      <td>Carteira digital</td>\n",
       "      <td>18</td>\n",
       "      <td>27.0</td>\n",
       "      <td>60</td>\n",
       "    </tr>\n",
       "  </tbody>\n",
       "</table>\n",
       "</div>"
      ],
      "text/plain": [
       "   metodo_pagamento  min  median  max\n",
       "2          Dinheiro   18    50.0   70\n",
       "3               PIX   18    40.0   68\n",
       "1            Cartão   18    38.0   65\n",
       "0  Carteira digital   18    27.0   60"
      ]
     },
     "execution_count": 106,
     "metadata": {},
     "output_type": "execute_result"
    }
   ],
   "source": [
    "# Agruda pela coluna metodo_pagamento criando uma coluna de indices, pega a coluna idade e aplica uma serie de metódos [max, min, median] arredonda os valores e ordena pelo valor da média por ordem crescente\n",
    "\n",
    "df.groupby('metodo_pagamento', as_index=False)['idade'].agg(['min','median','max']).round().sort_values(by='median', ascending=False)"
   ]
  },
  {
   "cell_type": "markdown",
   "id": "29df00b6",
   "metadata": {
    "jp-MarkdownHeadingCollapsed": true
   },
   "source": [
    "#### 4. Analisando valores de aluguel por região\n",
    "\n",
    "Nesta atividade, vamos explorar outro dataset que contém informações sobre o preço de aluguel de apartamentos na cidade de São Paulo. Este conjunto de dados nos permitirá entender as variações de preços nas diferentes regiões da cidade.\n",
    "\n",
    "``` \n",
    "'https://raw.githubusercontent.com/alura-cursos/python_dados/refs/heads/main/Dados/apartamentos_aluguel.csv'\n",
    "```\n",
    "\n",
    "Sua missão nesta atividade é aplicar o método groupby() para agrupar os dados por região e utilizar o método describe() para obter estatísticas descritivas do valor do aluguel. As estatísticas descritivas fornecerão insights importantes como média, mediana, valor mínimo, máximo e quartis, oferecendo uma visão detalhada sobre a distribuição dos preços de aluguel em cada região."
   ]
  },
  {
   "cell_type": "code",
   "execution_count": 107,
   "id": "c8ed0941",
   "metadata": {},
   "outputs": [
    {
     "data": {
      "text/html": [
       "<div>\n",
       "<style scoped>\n",
       "    .dataframe tbody tr th:only-of-type {\n",
       "        vertical-align: middle;\n",
       "    }\n",
       "\n",
       "    .dataframe tbody tr th {\n",
       "        vertical-align: top;\n",
       "    }\n",
       "\n",
       "    .dataframe thead th {\n",
       "        text-align: right;\n",
       "    }\n",
       "</style>\n",
       "<table border=\"1\" class=\"dataframe\">\n",
       "  <thead>\n",
       "    <tr style=\"text-align: right;\">\n",
       "      <th></th>\n",
       "      <th>Quartos</th>\n",
       "      <th>Banheiros</th>\n",
       "      <th>Suites</th>\n",
       "      <th>Vagas</th>\n",
       "      <th>Elevador</th>\n",
       "      <th>Mobiliado</th>\n",
       "      <th>Piscina</th>\n",
       "      <th>Regiao</th>\n",
       "      <th>Ano</th>\n",
       "      <th>Valor</th>\n",
       "    </tr>\n",
       "  </thead>\n",
       "  <tbody>\n",
       "    <tr>\n",
       "      <th>0</th>\n",
       "      <td>2</td>\n",
       "      <td>2</td>\n",
       "      <td>1</td>\n",
       "      <td>1</td>\n",
       "      <td>Nao</td>\n",
       "      <td>Nao</td>\n",
       "      <td>Sim</td>\n",
       "      <td>Centro</td>\n",
       "      <td>2015</td>\n",
       "      <td>2500</td>\n",
       "    </tr>\n",
       "    <tr>\n",
       "      <th>1</th>\n",
       "      <td>1</td>\n",
       "      <td>2</td>\n",
       "      <td>1</td>\n",
       "      <td>2</td>\n",
       "      <td>Sim</td>\n",
       "      <td>Sim</td>\n",
       "      <td>Sim</td>\n",
       "      <td>Centro</td>\n",
       "      <td>2019</td>\n",
       "      <td>5000</td>\n",
       "    </tr>\n",
       "    <tr>\n",
       "      <th>2</th>\n",
       "      <td>1</td>\n",
       "      <td>2</td>\n",
       "      <td>1</td>\n",
       "      <td>1</td>\n",
       "      <td>Sim</td>\n",
       "      <td>Sim</td>\n",
       "      <td>Nao</td>\n",
       "      <td>Centro</td>\n",
       "      <td>2007</td>\n",
       "      <td>1600</td>\n",
       "    </tr>\n",
       "    <tr>\n",
       "      <th>3</th>\n",
       "      <td>2</td>\n",
       "      <td>2</td>\n",
       "      <td>1</td>\n",
       "      <td>1</td>\n",
       "      <td>Nao</td>\n",
       "      <td>Nao</td>\n",
       "      <td>Nao</td>\n",
       "      <td>Centro</td>\n",
       "      <td>2008</td>\n",
       "      <td>1500</td>\n",
       "    </tr>\n",
       "    <tr>\n",
       "      <th>4</th>\n",
       "      <td>3</td>\n",
       "      <td>3</td>\n",
       "      <td>1</td>\n",
       "      <td>1</td>\n",
       "      <td>Sim</td>\n",
       "      <td>Nao</td>\n",
       "      <td>Nao</td>\n",
       "      <td>Centro</td>\n",
       "      <td>2009</td>\n",
       "      <td>2200</td>\n",
       "    </tr>\n",
       "  </tbody>\n",
       "</table>\n",
       "</div>"
      ],
      "text/plain": [
       "   Quartos  Banheiros  Suites  Vagas Elevador Mobiliado Piscina  Regiao   Ano  \\\n",
       "0        2          2       1      1      Nao       Nao     Sim  Centro  2015   \n",
       "1        1          2       1      2      Sim       Sim     Sim  Centro  2019   \n",
       "2        1          2       1      1      Sim       Sim     Nao  Centro  2007   \n",
       "3        2          2       1      1      Nao       Nao     Nao  Centro  2008   \n",
       "4        3          3       1      1      Sim       Nao     Nao  Centro  2009   \n",
       "\n",
       "   Valor  \n",
       "0   2500  \n",
       "1   5000  \n",
       "2   1600  \n",
       "3   1500  \n",
       "4   2200  "
      ]
     },
     "execution_count": 107,
     "metadata": {},
     "output_type": "execute_result"
    }
   ],
   "source": [
    "apartaments_df = pd.read_csv('https://raw.githubusercontent.com/alura-cursos/python_dados/refs/heads/main/Dados/apartamentos_aluguel.csv')\n",
    "\n",
    "apartaments_df.head()"
   ]
  },
  {
   "cell_type": "code",
   "execution_count": 108,
   "id": "b02734e0",
   "metadata": {},
   "outputs": [
    {
     "data": {
      "text/html": [
       "<div>\n",
       "<style scoped>\n",
       "    .dataframe tbody tr th:only-of-type {\n",
       "        vertical-align: middle;\n",
       "    }\n",
       "\n",
       "    .dataframe tbody tr th {\n",
       "        vertical-align: top;\n",
       "    }\n",
       "\n",
       "    .dataframe thead tr th {\n",
       "        text-align: left;\n",
       "    }\n",
       "</style>\n",
       "<table border=\"1\" class=\"dataframe\">\n",
       "  <thead>\n",
       "    <tr>\n",
       "      <th></th>\n",
       "      <th>Regiao</th>\n",
       "      <th colspan=\"8\" halign=\"left\">Quartos</th>\n",
       "      <th>Banheiros</th>\n",
       "      <th>...</th>\n",
       "      <th colspan=\"2\" halign=\"left\">Ano</th>\n",
       "      <th colspan=\"8\" halign=\"left\">Valor</th>\n",
       "    </tr>\n",
       "    <tr>\n",
       "      <th></th>\n",
       "      <th></th>\n",
       "      <th>count</th>\n",
       "      <th>mean</th>\n",
       "      <th>std</th>\n",
       "      <th>min</th>\n",
       "      <th>25%</th>\n",
       "      <th>50%</th>\n",
       "      <th>75%</th>\n",
       "      <th>max</th>\n",
       "      <th>count</th>\n",
       "      <th>...</th>\n",
       "      <th>75%</th>\n",
       "      <th>max</th>\n",
       "      <th>count</th>\n",
       "      <th>mean</th>\n",
       "      <th>std</th>\n",
       "      <th>min</th>\n",
       "      <th>25%</th>\n",
       "      <th>50%</th>\n",
       "      <th>75%</th>\n",
       "      <th>max</th>\n",
       "    </tr>\n",
       "  </thead>\n",
       "  <tbody>\n",
       "    <tr>\n",
       "      <th>0</th>\n",
       "      <td>Centro</td>\n",
       "      <td>882.0</td>\n",
       "      <td>2.0</td>\n",
       "      <td>1.0</td>\n",
       "      <td>1.0</td>\n",
       "      <td>1.0</td>\n",
       "      <td>2.0</td>\n",
       "      <td>3.0</td>\n",
       "      <td>4.0</td>\n",
       "      <td>882.0</td>\n",
       "      <td>...</td>\n",
       "      <td>2017.0</td>\n",
       "      <td>2022.0</td>\n",
       "      <td>882.0</td>\n",
       "      <td>3002.0</td>\n",
       "      <td>1525.0</td>\n",
       "      <td>630.0</td>\n",
       "      <td>1650.0</td>\n",
       "      <td>2500.0</td>\n",
       "      <td>4279.0</td>\n",
       "      <td>7000.0</td>\n",
       "    </tr>\n",
       "    <tr>\n",
       "      <th>1</th>\n",
       "      <td>Leste</td>\n",
       "      <td>1918.0</td>\n",
       "      <td>2.0</td>\n",
       "      <td>1.0</td>\n",
       "      <td>1.0</td>\n",
       "      <td>2.0</td>\n",
       "      <td>2.0</td>\n",
       "      <td>3.0</td>\n",
       "      <td>4.0</td>\n",
       "      <td>1918.0</td>\n",
       "      <td>...</td>\n",
       "      <td>2010.0</td>\n",
       "      <td>2021.0</td>\n",
       "      <td>1918.0</td>\n",
       "      <td>1697.0</td>\n",
       "      <td>830.0</td>\n",
       "      <td>480.0</td>\n",
       "      <td>1100.0</td>\n",
       "      <td>1450.0</td>\n",
       "      <td>2000.0</td>\n",
       "      <td>5025.0</td>\n",
       "    </tr>\n",
       "    <tr>\n",
       "      <th>2</th>\n",
       "      <td>Norte</td>\n",
       "      <td>1264.0</td>\n",
       "      <td>2.0</td>\n",
       "      <td>1.0</td>\n",
       "      <td>1.0</td>\n",
       "      <td>2.0</td>\n",
       "      <td>2.0</td>\n",
       "      <td>3.0</td>\n",
       "      <td>4.0</td>\n",
       "      <td>1264.0</td>\n",
       "      <td>...</td>\n",
       "      <td>2012.0</td>\n",
       "      <td>2022.0</td>\n",
       "      <td>1264.0</td>\n",
       "      <td>1995.0</td>\n",
       "      <td>1011.0</td>\n",
       "      <td>500.0</td>\n",
       "      <td>1250.0</td>\n",
       "      <td>1600.0</td>\n",
       "      <td>2500.0</td>\n",
       "      <td>5652.0</td>\n",
       "    </tr>\n",
       "    <tr>\n",
       "      <th>3</th>\n",
       "      <td>Oeste</td>\n",
       "      <td>1779.0</td>\n",
       "      <td>2.0</td>\n",
       "      <td>1.0</td>\n",
       "      <td>1.0</td>\n",
       "      <td>2.0</td>\n",
       "      <td>2.0</td>\n",
       "      <td>3.0</td>\n",
       "      <td>7.0</td>\n",
       "      <td>1779.0</td>\n",
       "      <td>...</td>\n",
       "      <td>2018.0</td>\n",
       "      <td>2022.0</td>\n",
       "      <td>1779.0</td>\n",
       "      <td>3590.0</td>\n",
       "      <td>2058.0</td>\n",
       "      <td>800.0</td>\n",
       "      <td>2000.0</td>\n",
       "      <td>3000.0</td>\n",
       "      <td>4700.0</td>\n",
       "      <td>10100.0</td>\n",
       "    </tr>\n",
       "    <tr>\n",
       "      <th>4</th>\n",
       "      <td>Sul</td>\n",
       "      <td>1809.0</td>\n",
       "      <td>2.0</td>\n",
       "      <td>1.0</td>\n",
       "      <td>1.0</td>\n",
       "      <td>2.0</td>\n",
       "      <td>2.0</td>\n",
       "      <td>3.0</td>\n",
       "      <td>5.0</td>\n",
       "      <td>1809.0</td>\n",
       "      <td>...</td>\n",
       "      <td>2017.0</td>\n",
       "      <td>2022.0</td>\n",
       "      <td>1809.0</td>\n",
       "      <td>2977.0</td>\n",
       "      <td>1717.0</td>\n",
       "      <td>700.0</td>\n",
       "      <td>1600.0</td>\n",
       "      <td>2500.0</td>\n",
       "      <td>4000.0</td>\n",
       "      <td>7800.0</td>\n",
       "    </tr>\n",
       "  </tbody>\n",
       "</table>\n",
       "<p>5 rows × 49 columns</p>\n",
       "</div>"
      ],
      "text/plain": [
       "   Regiao Quartos                                    Banheiros  ...     Ano  \\\n",
       "            count mean  std  min  25%  50%  75%  max     count  ...     75%   \n",
       "0  Centro   882.0  2.0  1.0  1.0  1.0  2.0  3.0  4.0     882.0  ...  2017.0   \n",
       "1   Leste  1918.0  2.0  1.0  1.0  2.0  2.0  3.0  4.0    1918.0  ...  2010.0   \n",
       "2   Norte  1264.0  2.0  1.0  1.0  2.0  2.0  3.0  4.0    1264.0  ...  2012.0   \n",
       "3   Oeste  1779.0  2.0  1.0  1.0  2.0  2.0  3.0  7.0    1779.0  ...  2018.0   \n",
       "4     Sul  1809.0  2.0  1.0  1.0  2.0  2.0  3.0  5.0    1809.0  ...  2017.0   \n",
       "\n",
       "            Valor                                                          \n",
       "      max   count    mean     std    min     25%     50%     75%      max  \n",
       "0  2022.0   882.0  3002.0  1525.0  630.0  1650.0  2500.0  4279.0   7000.0  \n",
       "1  2021.0  1918.0  1697.0   830.0  480.0  1100.0  1450.0  2000.0   5025.0  \n",
       "2  2022.0  1264.0  1995.0  1011.0  500.0  1250.0  1600.0  2500.0   5652.0  \n",
       "3  2022.0  1779.0  3590.0  2058.0  800.0  2000.0  3000.0  4700.0  10100.0  \n",
       "4  2022.0  1809.0  2977.0  1717.0  700.0  1600.0  2500.0  4000.0   7800.0  \n",
       "\n",
       "[5 rows x 49 columns]"
      ]
     },
     "execution_count": 108,
     "metadata": {},
     "output_type": "execute_result"
    }
   ],
   "source": [
    "# Agrupa os dados por Região, cria uma coluna de indices no começo do DF e usa o metodo describe para muitos valores de matemática [max, min, sum, count, std] e arredonda os valores (1 casa decimal)\n",
    "\n",
    "apartaments_df.groupby('Regiao', as_index=False).describe().round()"
   ]
  },
  {
   "cell_type": "markdown",
   "id": "cc7fffcd",
   "metadata": {
    "jp-MarkdownHeadingCollapsed": true
   },
   "source": [
    "#### 5. Analisando como a localização e a existência de piscinas afetam os valores de aluguel\n",
    "\n",
    "\n",
    "Após explorar as estatísticas descritivas dos valores de aluguel por região, nosso próximo passo é entender como a ausência/presença de uma piscina no prédio influencia o preço de aluguel em diferentes regiões de São Paulo. Esta análise ajudará a entender melhor as preferências do mercado e poderá ser usada para orientar estratégias de precificação e marketing.\n",
    "\n",
    "\n",
    "Agrupe os dados por região e piscina e calcule a média dos preços de aluguel. Esta abordagem mostrará como as piscinas afetam os preços de aluguel em diferentes áreas da cidade."
   ]
  },
  {
   "cell_type": "code",
   "execution_count": 109,
   "id": "648eb323",
   "metadata": {},
   "outputs": [
    {
     "data": {
      "text/html": [
       "<div>\n",
       "<style scoped>\n",
       "    .dataframe tbody tr th:only-of-type {\n",
       "        vertical-align: middle;\n",
       "    }\n",
       "\n",
       "    .dataframe tbody tr th {\n",
       "        vertical-align: top;\n",
       "    }\n",
       "\n",
       "    .dataframe thead th {\n",
       "        text-align: right;\n",
       "    }\n",
       "</style>\n",
       "<table border=\"1\" class=\"dataframe\">\n",
       "  <thead>\n",
       "    <tr style=\"text-align: right;\">\n",
       "      <th></th>\n",
       "      <th>Regiao</th>\n",
       "      <th>Piscina</th>\n",
       "      <th>Valor</th>\n",
       "    </tr>\n",
       "  </thead>\n",
       "  <tbody>\n",
       "    <tr>\n",
       "      <th>0</th>\n",
       "      <td>Centro</td>\n",
       "      <td>Nao</td>\n",
       "      <td>2723.0</td>\n",
       "    </tr>\n",
       "    <tr>\n",
       "      <th>1</th>\n",
       "      <td>Centro</td>\n",
       "      <td>Sim</td>\n",
       "      <td>3567.0</td>\n",
       "    </tr>\n",
       "    <tr>\n",
       "      <th>2</th>\n",
       "      <td>Leste</td>\n",
       "      <td>Nao</td>\n",
       "      <td>1528.0</td>\n",
       "    </tr>\n",
       "    <tr>\n",
       "      <th>3</th>\n",
       "      <td>Leste</td>\n",
       "      <td>Sim</td>\n",
       "      <td>2017.0</td>\n",
       "    </tr>\n",
       "    <tr>\n",
       "      <th>4</th>\n",
       "      <td>Norte</td>\n",
       "      <td>Nao</td>\n",
       "      <td>1781.0</td>\n",
       "    </tr>\n",
       "    <tr>\n",
       "      <th>5</th>\n",
       "      <td>Norte</td>\n",
       "      <td>Sim</td>\n",
       "      <td>2252.0</td>\n",
       "    </tr>\n",
       "    <tr>\n",
       "      <th>6</th>\n",
       "      <td>Oeste</td>\n",
       "      <td>Nao</td>\n",
       "      <td>3261.0</td>\n",
       "    </tr>\n",
       "    <tr>\n",
       "      <th>7</th>\n",
       "      <td>Oeste</td>\n",
       "      <td>Sim</td>\n",
       "      <td>3854.0</td>\n",
       "    </tr>\n",
       "    <tr>\n",
       "      <th>8</th>\n",
       "      <td>Sul</td>\n",
       "      <td>Nao</td>\n",
       "      <td>2550.0</td>\n",
       "    </tr>\n",
       "    <tr>\n",
       "      <th>9</th>\n",
       "      <td>Sul</td>\n",
       "      <td>Sim</td>\n",
       "      <td>3318.0</td>\n",
       "    </tr>\n",
       "  </tbody>\n",
       "</table>\n",
       "</div>"
      ],
      "text/plain": [
       "   Regiao Piscina   Valor\n",
       "0  Centro     Nao  2723.0\n",
       "1  Centro     Sim  3567.0\n",
       "2   Leste     Nao  1528.0\n",
       "3   Leste     Sim  2017.0\n",
       "4   Norte     Nao  1781.0\n",
       "5   Norte     Sim  2252.0\n",
       "6   Oeste     Nao  3261.0\n",
       "7   Oeste     Sim  3854.0\n",
       "8     Sul     Nao  2550.0\n",
       "9     Sul     Sim  3318.0"
      ]
     },
     "execution_count": 109,
     "metadata": {},
     "output_type": "execute_result"
    }
   ],
   "source": [
    "# Agrupa os dados por Regiao e Piscina, cria uma coluna com indices, pega a coluna 'Valor' e aplica uma média, arredonda valores para uma casa decimal e ordena os dados tanto por Regiao quanto por Valor\n",
    "\n",
    "\n",
    "apartaments_df.groupby(['Regiao','Piscina'], as_index=False)[['Valor']].mean().round().sort_values(by=['Regiao', 'Valor'])"
   ]
  },
  {
   "cell_type": "markdown",
   "id": "cadb9aea",
   "metadata": {
    "jp-MarkdownHeadingCollapsed": true
   },
   "source": [
    "#### 6. Analisando a tendência anual do valor de aluguel\n",
    "\n",
    "Após examinar como características específicas dos imóveis influenciam os preços de aluguel em diferentes regiões, vamos agora focar em uma perspectiva temporal, considerando o ano de construção dos imóveis. O objetivo é compreender como a idade das construções influencia os preços de aluguel.\n",
    "\n",
    "\n",
    "Agrupe os dados pelo ano do imóvel e calcule a média do valor de aluguel para cada ano. Isso permitirá que você visualize a variação dos preços de aluguel ao longo do tempo e identifique padrões de aumento, estabilidade ou diminuição.\n",
    "\n",
    "Para simplificar a análise, você pode criar um gráfico de linhas diretamente com a biblioteca Pandas. Basta utilizar o método plot(kind='line') na variável que contém os dados agrupados, e o gráfico será gerado automaticamente.\""
   ]
  },
  {
   "cell_type": "code",
   "execution_count": 110,
   "id": "f3ae8125",
   "metadata": {},
   "outputs": [
    {
     "data": {
      "text/html": [
       "<div>\n",
       "<style scoped>\n",
       "    .dataframe tbody tr th:only-of-type {\n",
       "        vertical-align: middle;\n",
       "    }\n",
       "\n",
       "    .dataframe tbody tr th {\n",
       "        vertical-align: top;\n",
       "    }\n",
       "\n",
       "    .dataframe thead th {\n",
       "        text-align: right;\n",
       "    }\n",
       "</style>\n",
       "<table border=\"1\" class=\"dataframe\">\n",
       "  <thead>\n",
       "    <tr style=\"text-align: right;\">\n",
       "      <th></th>\n",
       "      <th>Ano</th>\n",
       "      <th>Valor</th>\n",
       "    </tr>\n",
       "  </thead>\n",
       "  <tbody>\n",
       "    <tr>\n",
       "      <th>24</th>\n",
       "      <td>2022</td>\n",
       "      <td>6493.653430</td>\n",
       "    </tr>\n",
       "    <tr>\n",
       "      <th>23</th>\n",
       "      <td>2021</td>\n",
       "      <td>5689.215054</td>\n",
       "    </tr>\n",
       "    <tr>\n",
       "      <th>22</th>\n",
       "      <td>2020</td>\n",
       "      <td>5360.795652</td>\n",
       "    </tr>\n",
       "    <tr>\n",
       "      <th>21</th>\n",
       "      <td>2019</td>\n",
       "      <td>5085.976351</td>\n",
       "    </tr>\n",
       "    <tr>\n",
       "      <th>20</th>\n",
       "      <td>2018</td>\n",
       "      <td>4790.514196</td>\n",
       "    </tr>\n",
       "    <tr>\n",
       "      <th>19</th>\n",
       "      <td>2017</td>\n",
       "      <td>4183.217791</td>\n",
       "    </tr>\n",
       "    <tr>\n",
       "      <th>18</th>\n",
       "      <td>2016</td>\n",
       "      <td>3637.264516</td>\n",
       "    </tr>\n",
       "    <tr>\n",
       "      <th>17</th>\n",
       "      <td>2015</td>\n",
       "      <td>3378.365449</td>\n",
       "    </tr>\n",
       "    <tr>\n",
       "      <th>16</th>\n",
       "      <td>2014</td>\n",
       "      <td>3052.632075</td>\n",
       "    </tr>\n",
       "    <tr>\n",
       "      <th>15</th>\n",
       "      <td>2013</td>\n",
       "      <td>2824.625387</td>\n",
       "    </tr>\n",
       "    <tr>\n",
       "      <th>14</th>\n",
       "      <td>2012</td>\n",
       "      <td>2578.026144</td>\n",
       "    </tr>\n",
       "    <tr>\n",
       "      <th>13</th>\n",
       "      <td>2011</td>\n",
       "      <td>2349.945122</td>\n",
       "    </tr>\n",
       "    <tr>\n",
       "      <th>12</th>\n",
       "      <td>2010</td>\n",
       "      <td>2182.777429</td>\n",
       "    </tr>\n",
       "    <tr>\n",
       "      <th>11</th>\n",
       "      <td>2009</td>\n",
       "      <td>2028.578431</td>\n",
       "    </tr>\n",
       "    <tr>\n",
       "      <th>10</th>\n",
       "      <td>2008</td>\n",
       "      <td>1905.655689</td>\n",
       "    </tr>\n",
       "    <tr>\n",
       "      <th>9</th>\n",
       "      <td>2007</td>\n",
       "      <td>1750.520270</td>\n",
       "    </tr>\n",
       "    <tr>\n",
       "      <th>8</th>\n",
       "      <td>2006</td>\n",
       "      <td>1594.024242</td>\n",
       "    </tr>\n",
       "    <tr>\n",
       "      <th>7</th>\n",
       "      <td>2005</td>\n",
       "      <td>1545.721854</td>\n",
       "    </tr>\n",
       "    <tr>\n",
       "      <th>6</th>\n",
       "      <td>2004</td>\n",
       "      <td>1443.289157</td>\n",
       "    </tr>\n",
       "    <tr>\n",
       "      <th>5</th>\n",
       "      <td>2003</td>\n",
       "      <td>1364.223368</td>\n",
       "    </tr>\n",
       "    <tr>\n",
       "      <th>4</th>\n",
       "      <td>2002</td>\n",
       "      <td>1267.341463</td>\n",
       "    </tr>\n",
       "    <tr>\n",
       "      <th>3</th>\n",
       "      <td>2001</td>\n",
       "      <td>1167.624224</td>\n",
       "    </tr>\n",
       "    <tr>\n",
       "      <th>2</th>\n",
       "      <td>2000</td>\n",
       "      <td>1110.494662</td>\n",
       "    </tr>\n",
       "    <tr>\n",
       "      <th>1</th>\n",
       "      <td>1999</td>\n",
       "      <td>1059.437229</td>\n",
       "    </tr>\n",
       "    <tr>\n",
       "      <th>0</th>\n",
       "      <td>1998</td>\n",
       "      <td>955.798701</td>\n",
       "    </tr>\n",
       "  </tbody>\n",
       "</table>\n",
       "</div>"
      ],
      "text/plain": [
       "     Ano        Valor\n",
       "24  2022  6493.653430\n",
       "23  2021  5689.215054\n",
       "22  2020  5360.795652\n",
       "21  2019  5085.976351\n",
       "20  2018  4790.514196\n",
       "19  2017  4183.217791\n",
       "18  2016  3637.264516\n",
       "17  2015  3378.365449\n",
       "16  2014  3052.632075\n",
       "15  2013  2824.625387\n",
       "14  2012  2578.026144\n",
       "13  2011  2349.945122\n",
       "12  2010  2182.777429\n",
       "11  2009  2028.578431\n",
       "10  2008  1905.655689\n",
       "9   2007  1750.520270\n",
       "8   2006  1594.024242\n",
       "7   2005  1545.721854\n",
       "6   2004  1443.289157\n",
       "5   2003  1364.223368\n",
       "4   2002  1267.341463\n",
       "3   2001  1167.624224\n",
       "2   2000  1110.494662\n",
       "1   1999  1059.437229\n",
       "0   1998   955.798701"
      ]
     },
     "execution_count": 110,
     "metadata": {},
     "output_type": "execute_result"
    }
   ],
   "source": [
    "# Agrupa os apartamentos por ano criando uma coluna de indices, pega a coluna valor e aplica a media dessa coluna Valor e ordena os dados pela coluna Valor de maneira crescente\n",
    "\n",
    "influence_by_year = apartaments_df.groupby('Ano', as_index=False)['Valor'].mean().sort_values(by='Valor', ascending=False)\n",
    "influence_by_year"
   ]
  },
  {
   "cell_type": "code",
   "execution_count": 111,
   "id": "55533b74",
   "metadata": {},
   "outputs": [],
   "source": [
    "import plotly.express as px"
   ]
  },
  {
   "cell_type": "code",
   "execution_count": 112,
   "id": "9df30a12",
   "metadata": {},
   "outputs": [
    {
     "data": {
      "application/vnd.plotly.v1+json": {
       "config": {
        "plotlyServerURL": "https://plot.ly"
       },
       "data": [
        {
         "hovertemplate": "Valor do aluguel=%{marker.color}<br>Ano=%{y}<extra></extra>",
         "legendgroup": "",
         "marker": {
          "color": {
           "bdata": "pZYpR6dduUDccMMNNzm2QPNh3K/L8LRAdoMp8vnds0BLX1Kig7ayQMeLLcE3V7BA63aobodqrECNAhEcu2SqQBhvZZ9D2adAGHa5MkARpkBjDbhiDSSkQHA+BufjW6JAJzA8C44NoUBQUFBQULKfQFyc1myfxp1Akc+6wRRam0AwjQHTGOiYQI1bxi3jJphAD7msGCiNlkCbcIC65FCVQInalahdzZNAQNh4NH8+kkBBoaeI+lmRQP/WErm/jZBAj6mBvWPejUA=",
           "dtype": "f8"
          },
          "coloraxis": "coloraxis",
          "pattern": {
           "shape": ""
          }
         },
         "name": "",
         "orientation": "h",
         "showlegend": false,
         "text": {
          "bdata": "pZYpR6dduUDccMMNNzm2QPNh3K/L8LRAdoMp8vnds0BLX1Kig7ayQMeLLcE3V7BA63aobodqrECNAhEcu2SqQBhvZZ9D2adAGHa5MkARpkBjDbhiDSSkQHA+BufjW6JAJzA8C44NoUBQUFBQULKfQFyc1myfxp1Akc+6wRRam0AwjQHTGOiYQI1bxi3jJphAD7msGCiNlkCbcIC65FCVQInalahdzZNAQNh4NH8+kkBBoaeI+lmRQP/WErm/jZBAj6mBvWPejUA=",
          "dtype": "f8"
         },
         "textposition": "auto",
         "type": "bar",
         "x": {
          "bdata": "pZYpR6dduUDccMMNNzm2QPNh3K/L8LRAdoMp8vnds0BLX1Kig7ayQMeLLcE3V7BA63aobodqrECNAhEcu2SqQBhvZZ9D2adAGHa5MkARpkBjDbhiDSSkQHA+BufjW6JAJzA8C44NoUBQUFBQULKfQFyc1myfxp1Akc+6wRRam0AwjQHTGOiYQI1bxi3jJphAD7msGCiNlkCbcIC65FCVQInalahdzZNAQNh4NH8+kkBBoaeI+lmRQP/WErm/jZBAj6mBvWPejUA=",
          "dtype": "f8"
         },
         "xaxis": "x",
         "y": {
          "bdata": "5gflB+QH4wfiB+EH4AffB94H3QfcB9sH2gfZB9gH1wfWB9UH1AfTB9IH0QfQB88Hzgc=",
          "dtype": "i2"
         },
         "yaxis": "y"
        }
       ],
       "layout": {
        "barmode": "relative",
        "coloraxis": {
         "colorbar": {
          "title": {
           "text": "Valor do aluguel"
          }
         },
         "colorscale": [
          [
           0,
           "#440154"
          ],
          [
           0.1111111111111111,
           "#482878"
          ],
          [
           0.2222222222222222,
           "#3e4989"
          ],
          [
           0.3333333333333333,
           "#31688e"
          ],
          [
           0.4444444444444444,
           "#26828e"
          ],
          [
           0.5555555555555556,
           "#1f9e89"
          ],
          [
           0.6666666666666666,
           "#35b779"
          ],
          [
           0.7777777777777778,
           "#6ece58"
          ],
          [
           0.8888888888888888,
           "#b5de2b"
          ],
          [
           1,
           "#fde725"
          ]
         ]
        },
        "height": 600,
        "legend": {
         "tracegroupgap": 0
        },
        "template": {
         "data": {
          "bar": [
           {
            "error_x": {
             "color": "#2a3f5f"
            },
            "error_y": {
             "color": "#2a3f5f"
            },
            "marker": {
             "line": {
              "color": "white",
              "width": 0.5
             },
             "pattern": {
              "fillmode": "overlay",
              "size": 10,
              "solidity": 0.2
             }
            },
            "type": "bar"
           }
          ],
          "barpolar": [
           {
            "marker": {
             "line": {
              "color": "white",
              "width": 0.5
             },
             "pattern": {
              "fillmode": "overlay",
              "size": 10,
              "solidity": 0.2
             }
            },
            "type": "barpolar"
           }
          ],
          "carpet": [
           {
            "aaxis": {
             "endlinecolor": "#2a3f5f",
             "gridcolor": "#C8D4E3",
             "linecolor": "#C8D4E3",
             "minorgridcolor": "#C8D4E3",
             "startlinecolor": "#2a3f5f"
            },
            "baxis": {
             "endlinecolor": "#2a3f5f",
             "gridcolor": "#C8D4E3",
             "linecolor": "#C8D4E3",
             "minorgridcolor": "#C8D4E3",
             "startlinecolor": "#2a3f5f"
            },
            "type": "carpet"
           }
          ],
          "choropleth": [
           {
            "colorbar": {
             "outlinewidth": 0,
             "ticks": ""
            },
            "type": "choropleth"
           }
          ],
          "contour": [
           {
            "colorbar": {
             "outlinewidth": 0,
             "ticks": ""
            },
            "colorscale": [
             [
              0,
              "#0d0887"
             ],
             [
              0.1111111111111111,
              "#46039f"
             ],
             [
              0.2222222222222222,
              "#7201a8"
             ],
             [
              0.3333333333333333,
              "#9c179e"
             ],
             [
              0.4444444444444444,
              "#bd3786"
             ],
             [
              0.5555555555555556,
              "#d8576b"
             ],
             [
              0.6666666666666666,
              "#ed7953"
             ],
             [
              0.7777777777777778,
              "#fb9f3a"
             ],
             [
              0.8888888888888888,
              "#fdca26"
             ],
             [
              1,
              "#f0f921"
             ]
            ],
            "type": "contour"
           }
          ],
          "contourcarpet": [
           {
            "colorbar": {
             "outlinewidth": 0,
             "ticks": ""
            },
            "type": "contourcarpet"
           }
          ],
          "heatmap": [
           {
            "colorbar": {
             "outlinewidth": 0,
             "ticks": ""
            },
            "colorscale": [
             [
              0,
              "#0d0887"
             ],
             [
              0.1111111111111111,
              "#46039f"
             ],
             [
              0.2222222222222222,
              "#7201a8"
             ],
             [
              0.3333333333333333,
              "#9c179e"
             ],
             [
              0.4444444444444444,
              "#bd3786"
             ],
             [
              0.5555555555555556,
              "#d8576b"
             ],
             [
              0.6666666666666666,
              "#ed7953"
             ],
             [
              0.7777777777777778,
              "#fb9f3a"
             ],
             [
              0.8888888888888888,
              "#fdca26"
             ],
             [
              1,
              "#f0f921"
             ]
            ],
            "type": "heatmap"
           }
          ],
          "histogram": [
           {
            "marker": {
             "pattern": {
              "fillmode": "overlay",
              "size": 10,
              "solidity": 0.2
             }
            },
            "type": "histogram"
           }
          ],
          "histogram2d": [
           {
            "colorbar": {
             "outlinewidth": 0,
             "ticks": ""
            },
            "colorscale": [
             [
              0,
              "#0d0887"
             ],
             [
              0.1111111111111111,
              "#46039f"
             ],
             [
              0.2222222222222222,
              "#7201a8"
             ],
             [
              0.3333333333333333,
              "#9c179e"
             ],
             [
              0.4444444444444444,
              "#bd3786"
             ],
             [
              0.5555555555555556,
              "#d8576b"
             ],
             [
              0.6666666666666666,
              "#ed7953"
             ],
             [
              0.7777777777777778,
              "#fb9f3a"
             ],
             [
              0.8888888888888888,
              "#fdca26"
             ],
             [
              1,
              "#f0f921"
             ]
            ],
            "type": "histogram2d"
           }
          ],
          "histogram2dcontour": [
           {
            "colorbar": {
             "outlinewidth": 0,
             "ticks": ""
            },
            "colorscale": [
             [
              0,
              "#0d0887"
             ],
             [
              0.1111111111111111,
              "#46039f"
             ],
             [
              0.2222222222222222,
              "#7201a8"
             ],
             [
              0.3333333333333333,
              "#9c179e"
             ],
             [
              0.4444444444444444,
              "#bd3786"
             ],
             [
              0.5555555555555556,
              "#d8576b"
             ],
             [
              0.6666666666666666,
              "#ed7953"
             ],
             [
              0.7777777777777778,
              "#fb9f3a"
             ],
             [
              0.8888888888888888,
              "#fdca26"
             ],
             [
              1,
              "#f0f921"
             ]
            ],
            "type": "histogram2dcontour"
           }
          ],
          "mesh3d": [
           {
            "colorbar": {
             "outlinewidth": 0,
             "ticks": ""
            },
            "type": "mesh3d"
           }
          ],
          "parcoords": [
           {
            "line": {
             "colorbar": {
              "outlinewidth": 0,
              "ticks": ""
             }
            },
            "type": "parcoords"
           }
          ],
          "pie": [
           {
            "automargin": true,
            "type": "pie"
           }
          ],
          "scatter": [
           {
            "fillpattern": {
             "fillmode": "overlay",
             "size": 10,
             "solidity": 0.2
            },
            "type": "scatter"
           }
          ],
          "scatter3d": [
           {
            "line": {
             "colorbar": {
              "outlinewidth": 0,
              "ticks": ""
             }
            },
            "marker": {
             "colorbar": {
              "outlinewidth": 0,
              "ticks": ""
             }
            },
            "type": "scatter3d"
           }
          ],
          "scattercarpet": [
           {
            "marker": {
             "colorbar": {
              "outlinewidth": 0,
              "ticks": ""
             }
            },
            "type": "scattercarpet"
           }
          ],
          "scattergeo": [
           {
            "marker": {
             "colorbar": {
              "outlinewidth": 0,
              "ticks": ""
             }
            },
            "type": "scattergeo"
           }
          ],
          "scattergl": [
           {
            "marker": {
             "colorbar": {
              "outlinewidth": 0,
              "ticks": ""
             }
            },
            "type": "scattergl"
           }
          ],
          "scattermap": [
           {
            "marker": {
             "colorbar": {
              "outlinewidth": 0,
              "ticks": ""
             }
            },
            "type": "scattermap"
           }
          ],
          "scattermapbox": [
           {
            "marker": {
             "colorbar": {
              "outlinewidth": 0,
              "ticks": ""
             }
            },
            "type": "scattermapbox"
           }
          ],
          "scatterpolar": [
           {
            "marker": {
             "colorbar": {
              "outlinewidth": 0,
              "ticks": ""
             }
            },
            "type": "scatterpolar"
           }
          ],
          "scatterpolargl": [
           {
            "marker": {
             "colorbar": {
              "outlinewidth": 0,
              "ticks": ""
             }
            },
            "type": "scatterpolargl"
           }
          ],
          "scatterternary": [
           {
            "marker": {
             "colorbar": {
              "outlinewidth": 0,
              "ticks": ""
             }
            },
            "type": "scatterternary"
           }
          ],
          "surface": [
           {
            "colorbar": {
             "outlinewidth": 0,
             "ticks": ""
            },
            "colorscale": [
             [
              0,
              "#0d0887"
             ],
             [
              0.1111111111111111,
              "#46039f"
             ],
             [
              0.2222222222222222,
              "#7201a8"
             ],
             [
              0.3333333333333333,
              "#9c179e"
             ],
             [
              0.4444444444444444,
              "#bd3786"
             ],
             [
              0.5555555555555556,
              "#d8576b"
             ],
             [
              0.6666666666666666,
              "#ed7953"
             ],
             [
              0.7777777777777778,
              "#fb9f3a"
             ],
             [
              0.8888888888888888,
              "#fdca26"
             ],
             [
              1,
              "#f0f921"
             ]
            ],
            "type": "surface"
           }
          ],
          "table": [
           {
            "cells": {
             "fill": {
              "color": "#EBF0F8"
             },
             "line": {
              "color": "white"
             }
            },
            "header": {
             "fill": {
              "color": "#C8D4E3"
             },
             "line": {
              "color": "white"
             }
            },
            "type": "table"
           }
          ]
         },
         "layout": {
          "annotationdefaults": {
           "arrowcolor": "#2a3f5f",
           "arrowhead": 0,
           "arrowwidth": 1
          },
          "autotypenumbers": "strict",
          "coloraxis": {
           "colorbar": {
            "outlinewidth": 0,
            "ticks": ""
           }
          },
          "colorscale": {
           "diverging": [
            [
             0,
             "#8e0152"
            ],
            [
             0.1,
             "#c51b7d"
            ],
            [
             0.2,
             "#de77ae"
            ],
            [
             0.3,
             "#f1b6da"
            ],
            [
             0.4,
             "#fde0ef"
            ],
            [
             0.5,
             "#f7f7f7"
            ],
            [
             0.6,
             "#e6f5d0"
            ],
            [
             0.7,
             "#b8e186"
            ],
            [
             0.8,
             "#7fbc41"
            ],
            [
             0.9,
             "#4d9221"
            ],
            [
             1,
             "#276419"
            ]
           ],
           "sequential": [
            [
             0,
             "#0d0887"
            ],
            [
             0.1111111111111111,
             "#46039f"
            ],
            [
             0.2222222222222222,
             "#7201a8"
            ],
            [
             0.3333333333333333,
             "#9c179e"
            ],
            [
             0.4444444444444444,
             "#bd3786"
            ],
            [
             0.5555555555555556,
             "#d8576b"
            ],
            [
             0.6666666666666666,
             "#ed7953"
            ],
            [
             0.7777777777777778,
             "#fb9f3a"
            ],
            [
             0.8888888888888888,
             "#fdca26"
            ],
            [
             1,
             "#f0f921"
            ]
           ],
           "sequentialminus": [
            [
             0,
             "#0d0887"
            ],
            [
             0.1111111111111111,
             "#46039f"
            ],
            [
             0.2222222222222222,
             "#7201a8"
            ],
            [
             0.3333333333333333,
             "#9c179e"
            ],
            [
             0.4444444444444444,
             "#bd3786"
            ],
            [
             0.5555555555555556,
             "#d8576b"
            ],
            [
             0.6666666666666666,
             "#ed7953"
            ],
            [
             0.7777777777777778,
             "#fb9f3a"
            ],
            [
             0.8888888888888888,
             "#fdca26"
            ],
            [
             1,
             "#f0f921"
            ]
           ]
          },
          "colorway": [
           "#636efa",
           "#EF553B",
           "#00cc96",
           "#ab63fa",
           "#FFA15A",
           "#19d3f3",
           "#FF6692",
           "#B6E880",
           "#FF97FF",
           "#FECB52"
          ],
          "font": {
           "color": "#2a3f5f"
          },
          "geo": {
           "bgcolor": "white",
           "lakecolor": "white",
           "landcolor": "white",
           "showlakes": true,
           "showland": true,
           "subunitcolor": "#C8D4E3"
          },
          "hoverlabel": {
           "align": "left"
          },
          "hovermode": "closest",
          "mapbox": {
           "style": "light"
          },
          "paper_bgcolor": "white",
          "plot_bgcolor": "white",
          "polar": {
           "angularaxis": {
            "gridcolor": "#EBF0F8",
            "linecolor": "#EBF0F8",
            "ticks": ""
           },
           "bgcolor": "white",
           "radialaxis": {
            "gridcolor": "#EBF0F8",
            "linecolor": "#EBF0F8",
            "ticks": ""
           }
          },
          "scene": {
           "xaxis": {
            "backgroundcolor": "white",
            "gridcolor": "#DFE8F3",
            "gridwidth": 2,
            "linecolor": "#EBF0F8",
            "showbackground": true,
            "ticks": "",
            "zerolinecolor": "#EBF0F8"
           },
           "yaxis": {
            "backgroundcolor": "white",
            "gridcolor": "#DFE8F3",
            "gridwidth": 2,
            "linecolor": "#EBF0F8",
            "showbackground": true,
            "ticks": "",
            "zerolinecolor": "#EBF0F8"
           },
           "zaxis": {
            "backgroundcolor": "white",
            "gridcolor": "#DFE8F3",
            "gridwidth": 2,
            "linecolor": "#EBF0F8",
            "showbackground": true,
            "ticks": "",
            "zerolinecolor": "#EBF0F8"
           }
          },
          "shapedefaults": {
           "line": {
            "color": "#2a3f5f"
           }
          },
          "ternary": {
           "aaxis": {
            "gridcolor": "#DFE8F3",
            "linecolor": "#A2B1C6",
            "ticks": ""
           },
           "baxis": {
            "gridcolor": "#DFE8F3",
            "linecolor": "#A2B1C6",
            "ticks": ""
           },
           "bgcolor": "white",
           "caxis": {
            "gridcolor": "#DFE8F3",
            "linecolor": "#A2B1C6",
            "ticks": ""
           }
          },
          "title": {
           "x": 0.05
          },
          "xaxis": {
           "automargin": true,
           "gridcolor": "#EBF0F8",
           "linecolor": "#EBF0F8",
           "ticks": "",
           "title": {
            "standoff": 15
           },
           "zerolinecolor": "#EBF0F8",
           "zerolinewidth": 2
          },
          "yaxis": {
           "automargin": true,
           "gridcolor": "#EBF0F8",
           "linecolor": "#EBF0F8",
           "ticks": "",
           "title": {
            "standoff": 15
           },
           "zerolinecolor": "#EBF0F8",
           "zerolinewidth": 2
          }
         }
        },
        "title": {
         "text": "Analisando a tendência anual do valor de aluguel",
         "x": 0.5
        },
        "transition": {
         "duration": 500
        },
        "width": 800,
        "xaxis": {
         "anchor": "y",
         "domain": [
          0,
          1
         ],
         "title": {
          "standoff": 20,
          "text": "Valor do aluguel"
         }
        },
        "yaxis": {
         "anchor": "x",
         "domain": [
          0,
          1
         ],
         "title": {
          "standoff": 20,
          "text": "Ano"
         }
        }
       }
      }
     },
     "metadata": {},
     "output_type": "display_data"
    }
   ],
   "source": [
    "\n",
    "fig = px.bar(\n",
    "  data_frame=influence_by_year,  # Passando o DataFrame\n",
    "  x=influence_by_year['Valor'],  # Passando a coluna 'Valor' para o eixo x\n",
    "  y=influence_by_year['Ano'],  # Passando a coluna 'Ano' para o eixo y \n",
    "  title=\"Analisando a tendência anual do valor de aluguel\", # Título do gráfico\n",
    "  color='Valor', # Passando a coluna 'Valor' para a cor\n",
    "  color_continuous_scale=px.colors.sequential.Viridis, # Passando uma paleta de cores\n",
    "  labels={'Valor': 'Valor do aluguel', 'Ano': 'Ano'}, # Passando os rótulos\n",
    "  orientation='h', # Definindo a orientação do gráfico como horizontal\n",
    "  text=influence_by_year['Valor'], # Passando a coluna 'Valor' para o texto,\n",
    "  template='plotly_white', # Definindo o template do gráfico\n",
    "  height=600, # Definindo a altura do gráfico\n",
    "  width=800, # Definindo a largura do gráfico,\n",
    ")\n",
    "\n",
    "fig.update_layout(\n",
    "  transition={'duration': 500}, # Definindo a duração da transição\n",
    "  title_x=0.5, # Centralizando o título,\n",
    "  xaxis_title=dict(\n",
    "    standoff=20       # distância do eixo\n",
    "  ),\n",
    "  yaxis_title=dict(\n",
    "    standoff=20       # distância do eixo\n",
    "  ),\n",
    ")\n",
    "\n",
    "\n",
    "fig.show()"
   ]
  },
  {
   "cell_type": "markdown",
   "id": "7b95ef6b",
   "metadata": {
    "jp-MarkdownHeadingCollapsed": true
   },
   "source": [
    "#### 7. Analisando dados de saúde sobre doença cardíaca\n",
    "\n",
    "Nesta atividade, vamos explorar um conjunto de dados que contém informações sobre pacientes que foram diagnosticados com ou sem doença cardíaca. Temos dados demográficos e informações de alguns exames médicos.\n",
    "\n",
    "Utilize a seguinte URL para carregar o conjunto de dados em um DataFrame:\n",
    "\n",
    "```\n",
    "https://raw.githubusercontent.com/alura-cursos/python_dados/refs/heads/main/Dados/pacientes_doenca_cardiaca.csv\n",
    "\n",
    "```\n",
    "\n",
    "O primeiro desafio com esses dados será agrupá-los com base na presença/ausência de doença cardíaca e sexo biológico, e calcular as idades mínima, média e máxima para cada grupo. Esta análise ajudará a identificar se há padrões visíveis que associam idade e sexo biológico à prevalência de doença cardíaca nestes dados."
   ]
  },
  {
   "cell_type": "code",
   "execution_count": 113,
   "id": "6770f53d",
   "metadata": {},
   "outputs": [
    {
     "data": {
      "text/html": [
       "<div>\n",
       "<style scoped>\n",
       "    .dataframe tbody tr th:only-of-type {\n",
       "        vertical-align: middle;\n",
       "    }\n",
       "\n",
       "    .dataframe tbody tr th {\n",
       "        vertical-align: top;\n",
       "    }\n",
       "\n",
       "    .dataframe thead th {\n",
       "        text-align: right;\n",
       "    }\n",
       "</style>\n",
       "<table border=\"1\" class=\"dataframe\">\n",
       "  <thead>\n",
       "    <tr style=\"text-align: right;\">\n",
       "      <th></th>\n",
       "      <th>Idade</th>\n",
       "      <th>Sexo_biologico</th>\n",
       "      <th>Tipo_dor</th>\n",
       "      <th>Pressao_arterial</th>\n",
       "      <th>Colesterol</th>\n",
       "      <th>Glicemia_jejum&gt;120</th>\n",
       "      <th>Resultados_ECG</th>\n",
       "      <th>Frequencia_cardiaca_max</th>\n",
       "      <th>Dor_exercicio</th>\n",
       "      <th>Depressao_ST</th>\n",
       "      <th>Inclinacao_ST</th>\n",
       "      <th>Numero_vasos_fluro</th>\n",
       "      <th>Teste_cintilografia</th>\n",
       "      <th>Doenca_cardiaca</th>\n",
       "    </tr>\n",
       "  </thead>\n",
       "  <tbody>\n",
       "    <tr>\n",
       "      <th>0</th>\n",
       "      <td>70</td>\n",
       "      <td>Masculino</td>\n",
       "      <td>assintomática</td>\n",
       "      <td>130</td>\n",
       "      <td>322</td>\n",
       "      <td>Não</td>\n",
       "      <td>2</td>\n",
       "      <td>109</td>\n",
       "      <td>Não</td>\n",
       "      <td>2.4</td>\n",
       "      <td>2</td>\n",
       "      <td>3</td>\n",
       "      <td>3</td>\n",
       "      <td>Sim</td>\n",
       "    </tr>\n",
       "    <tr>\n",
       "      <th>1</th>\n",
       "      <td>67</td>\n",
       "      <td>Feminino</td>\n",
       "      <td>dor não anginosa</td>\n",
       "      <td>115</td>\n",
       "      <td>564</td>\n",
       "      <td>Não</td>\n",
       "      <td>2</td>\n",
       "      <td>160</td>\n",
       "      <td>Não</td>\n",
       "      <td>1.6</td>\n",
       "      <td>2</td>\n",
       "      <td>0</td>\n",
       "      <td>7</td>\n",
       "      <td>Não</td>\n",
       "    </tr>\n",
       "    <tr>\n",
       "      <th>2</th>\n",
       "      <td>57</td>\n",
       "      <td>Masculino</td>\n",
       "      <td>angina atípica</td>\n",
       "      <td>124</td>\n",
       "      <td>261</td>\n",
       "      <td>Não</td>\n",
       "      <td>0</td>\n",
       "      <td>141</td>\n",
       "      <td>Não</td>\n",
       "      <td>0.3</td>\n",
       "      <td>1</td>\n",
       "      <td>0</td>\n",
       "      <td>7</td>\n",
       "      <td>Sim</td>\n",
       "    </tr>\n",
       "    <tr>\n",
       "      <th>3</th>\n",
       "      <td>64</td>\n",
       "      <td>Masculino</td>\n",
       "      <td>assintomática</td>\n",
       "      <td>128</td>\n",
       "      <td>263</td>\n",
       "      <td>Não</td>\n",
       "      <td>0</td>\n",
       "      <td>105</td>\n",
       "      <td>Sim</td>\n",
       "      <td>0.2</td>\n",
       "      <td>2</td>\n",
       "      <td>1</td>\n",
       "      <td>7</td>\n",
       "      <td>Não</td>\n",
       "    </tr>\n",
       "    <tr>\n",
       "      <th>4</th>\n",
       "      <td>74</td>\n",
       "      <td>Feminino</td>\n",
       "      <td>angina atípica</td>\n",
       "      <td>120</td>\n",
       "      <td>269</td>\n",
       "      <td>Não</td>\n",
       "      <td>2</td>\n",
       "      <td>121</td>\n",
       "      <td>Sim</td>\n",
       "      <td>0.2</td>\n",
       "      <td>1</td>\n",
       "      <td>1</td>\n",
       "      <td>3</td>\n",
       "      <td>Não</td>\n",
       "    </tr>\n",
       "  </tbody>\n",
       "</table>\n",
       "</div>"
      ],
      "text/plain": [
       "   Idade Sexo_biologico          Tipo_dor  Pressao_arterial  Colesterol  \\\n",
       "0     70      Masculino     assintomática               130         322   \n",
       "1     67       Feminino  dor não anginosa               115         564   \n",
       "2     57      Masculino    angina atípica               124         261   \n",
       "3     64      Masculino     assintomática               128         263   \n",
       "4     74       Feminino    angina atípica               120         269   \n",
       "\n",
       "  Glicemia_jejum>120  Resultados_ECG  Frequencia_cardiaca_max Dor_exercicio  \\\n",
       "0                Não               2                      109           Não   \n",
       "1                Não               2                      160           Não   \n",
       "2                Não               0                      141           Não   \n",
       "3                Não               0                      105           Sim   \n",
       "4                Não               2                      121           Sim   \n",
       "\n",
       "   Depressao_ST  Inclinacao_ST  Numero_vasos_fluro  Teste_cintilografia  \\\n",
       "0           2.4              2                   3                    3   \n",
       "1           1.6              2                   0                    7   \n",
       "2           0.3              1                   0                    7   \n",
       "3           0.2              2                   1                    7   \n",
       "4           0.2              1                   1                    3   \n",
       "\n",
       "  Doenca_cardiaca  \n",
       "0             Sim  \n",
       "1             Não  \n",
       "2             Sim  \n",
       "3             Não  \n",
       "4             Não  "
      ]
     },
     "execution_count": 113,
     "metadata": {},
     "output_type": "execute_result"
    }
   ],
   "source": [
    "heart_disease_patients = pd.read_csv('https://raw.githubusercontent.com/alura-cursos/python_dados/refs/heads/main/Dados/pacientes_doenca_cardiaca.csv')\n",
    "\n",
    "heart_disease_patients.head()"
   ]
  },
  {
   "cell_type": "code",
   "execution_count": 114,
   "id": "0e0b3527",
   "metadata": {},
   "outputs": [
    {
     "data": {
      "text/html": [
       "<div>\n",
       "<style scoped>\n",
       "    .dataframe tbody tr th:only-of-type {\n",
       "        vertical-align: middle;\n",
       "    }\n",
       "\n",
       "    .dataframe tbody tr th {\n",
       "        vertical-align: top;\n",
       "    }\n",
       "\n",
       "    .dataframe thead tr th {\n",
       "        text-align: left;\n",
       "    }\n",
       "</style>\n",
       "<table border=\"1\" class=\"dataframe\">\n",
       "  <thead>\n",
       "    <tr>\n",
       "      <th></th>\n",
       "      <th>Doenca_cardiaca</th>\n",
       "      <th>Sexo_biologico</th>\n",
       "      <th colspan=\"3\" halign=\"left\">Idade</th>\n",
       "    </tr>\n",
       "    <tr>\n",
       "      <th></th>\n",
       "      <th></th>\n",
       "      <th></th>\n",
       "      <th>min</th>\n",
       "      <th>max</th>\n",
       "      <th>mean</th>\n",
       "    </tr>\n",
       "  </thead>\n",
       "  <tbody>\n",
       "    <tr>\n",
       "      <th>0</th>\n",
       "      <td>Não</td>\n",
       "      <td>Feminino</td>\n",
       "      <td>34</td>\n",
       "      <td>76</td>\n",
       "      <td>55.0</td>\n",
       "    </tr>\n",
       "    <tr>\n",
       "      <th>1</th>\n",
       "      <td>Não</td>\n",
       "      <td>Masculino</td>\n",
       "      <td>29</td>\n",
       "      <td>70</td>\n",
       "      <td>51.0</td>\n",
       "    </tr>\n",
       "    <tr>\n",
       "      <th>2</th>\n",
       "      <td>Sim</td>\n",
       "      <td>Feminino</td>\n",
       "      <td>43</td>\n",
       "      <td>66</td>\n",
       "      <td>59.0</td>\n",
       "    </tr>\n",
       "    <tr>\n",
       "      <th>3</th>\n",
       "      <td>Sim</td>\n",
       "      <td>Masculino</td>\n",
       "      <td>35</td>\n",
       "      <td>77</td>\n",
       "      <td>56.0</td>\n",
       "    </tr>\n",
       "  </tbody>\n",
       "</table>\n",
       "</div>"
      ],
      "text/plain": [
       "  Doenca_cardiaca Sexo_biologico Idade          \n",
       "                                   min max  mean\n",
       "0             Não       Feminino    34  76  55.0\n",
       "1             Não      Masculino    29  70  51.0\n",
       "2             Sim       Feminino    43  66  59.0\n",
       "3             Sim      Masculino    35  77  56.0"
      ]
     },
     "execution_count": 114,
     "metadata": {},
     "output_type": "execute_result"
    }
   ],
   "source": [
    "# Agrupa os dados pelas colunas Doenca_cardiaca e Sexo_biologico, cria uma coluna de indice, pega a coluna 'Idade' e adiciona metodos de matematica como [min, max, mean] e arredonda os valores [1 casa decimal]\n",
    "\n",
    "heart_disease_patients.groupby(['Doenca_cardiaca','Sexo_biologico'], as_index=False)[['Idade']].agg(['min','max','mean']).round()"
   ]
  },
  {
   "cell_type": "markdown",
   "id": "95154c77",
   "metadata": {
    "jp-MarkdownHeadingCollapsed": true
   },
   "source": [
    "#### 8. Analisando exames específicos\n",
    "\n",
    "\n",
    "Nesta atividade, vamos aprofundar a análise do impacto da doença cardíaca em diferentes tipos de dor no peito, correlacionando-os com o nível de depressão ST, um indicador comum usado em exames cardíacos. Este tipo de análise é crucial para entender como a doença cardíaca pode influenciar outros sintomas e resultados de exames.\n",
    "\n",
    "Agrupe os dados pela presença de doença cardíaca e tipo de dor no peito, e calcule a média do exame Depressão_ST para cada grupo. Utilize o método unstack() para transformar os dados agrupados em uma tabela mais legível, facilitando a comparação entre os diferentes grupos."
   ]
  },
  {
   "cell_type": "code",
   "execution_count": 115,
   "id": "1cf3ce37",
   "metadata": {},
   "outputs": [
    {
     "data": {
      "text/plain": [
       "Tipo_dor      158    dor não anginosa\n",
       "              125    dor não anginosa\n",
       "              134    dor não anginosa\n",
       "              133    dor não anginosa\n",
       "              132    dor não anginosa\n",
       "                           ...       \n",
       "Depressao_ST  29                  0.0\n",
       "              30                  0.7\n",
       "              31                  0.0\n",
       "              32                  0.0\n",
       "              0                   1.4\n",
       "Length: 477, dtype: object"
      ]
     },
     "execution_count": 115,
     "metadata": {},
     "output_type": "execute_result"
    }
   ],
   "source": [
    "# Agrupa os dados pelas colunas 'Tipo_dor' e 'Frequencia_cardiaca_max', cria uma coluna de indices, pega a coluna 'Depressao_ST' e calcula a media dessa coluna, ordena os valores de maneira crescente com base na coluna 'Tipo_dor'\n",
    "\n",
    "heart_disease_patients.groupby(['Tipo_dor','Frequencia_cardiaca_max' ], as_index=False)['Depressao_ST'].mean().sort_values('Tipo_dor', ascending=False).unstack()"
   ]
  },
  {
   "cell_type": "markdown",
   "id": "84e7f4cb",
   "metadata": {
    "jp-MarkdownHeadingCollapsed": true
   },
   "source": [
    "#### 9. Analisando indicadores clínicos com múltiplas agregações\n",
    "\n",
    "Por fim, vamos finalizar as atividades focando em uma análise detalhada de vários indicadores clínicos dos pacientes, agrupados por presença de doença cardíaca e sexo biológico. Exploraremos as médias de várias informações. Este exercício é fundamental para entender esses fatores em diferentes grupos.\n",
    "\n",
    "Agrupe os dados por doença cardíaca e sexo biológico e aplique várias funções de agregação para calcular as médias das seguintes variáveis: idade, pressão arterial, colesterol, frequência cardíaca máxima, Depressão ST, Inclinação ST e número de vasos detectados por fluoroscopia.\n",
    "\n",
    "Renomeie as colunas resultantes para indicar que contêm as médias das variáveis.\n"
   ]
  },
  {
   "cell_type": "code",
   "execution_count": null,
   "id": "50fa35b3",
   "metadata": {},
   "outputs": [
    {
     "data": {
      "text/html": [
       "<div>\n",
       "<style scoped>\n",
       "    .dataframe tbody tr th:only-of-type {\n",
       "        vertical-align: middle;\n",
       "    }\n",
       "\n",
       "    .dataframe tbody tr th {\n",
       "        vertical-align: top;\n",
       "    }\n",
       "\n",
       "    .dataframe thead th {\n",
       "        text-align: right;\n",
       "    }\n",
       "</style>\n",
       "<table border=\"1\" class=\"dataframe\">\n",
       "  <thead>\n",
       "    <tr style=\"text-align: right;\">\n",
       "      <th></th>\n",
       "      <th>Doenca_cardiaca</th>\n",
       "      <th>Sexo_biologico</th>\n",
       "      <th>Idade (Média)</th>\n",
       "      <th>Média da pressão Arterial</th>\n",
       "      <th>Média de colesterol</th>\n",
       "      <th>Média de Máximo de Frequencia Cardiaca</th>\n",
       "      <th>Média de Depressão ST</th>\n",
       "      <th>Média de Inclinação ST</th>\n",
       "      <th>Média de Numeros de Vasos p/Fluoroscopia</th>\n",
       "    </tr>\n",
       "  </thead>\n",
       "  <tbody>\n",
       "    <tr>\n",
       "      <th>0</th>\n",
       "      <td>Não</td>\n",
       "      <td>Feminino</td>\n",
       "      <td>55.0</td>\n",
       "      <td>128.0</td>\n",
       "      <td>257.0</td>\n",
       "      <td>155.0</td>\n",
       "      <td>1.0</td>\n",
       "      <td>1.0</td>\n",
       "      <td>0.0</td>\n",
       "    </tr>\n",
       "    <tr>\n",
       "      <th>1</th>\n",
       "      <td>Não</td>\n",
       "      <td>Masculino</td>\n",
       "      <td>51.0</td>\n",
       "      <td>129.0</td>\n",
       "      <td>234.0</td>\n",
       "      <td>161.0</td>\n",
       "      <td>1.0</td>\n",
       "      <td>1.0</td>\n",
       "      <td>0.0</td>\n",
       "    </tr>\n",
       "    <tr>\n",
       "      <th>2</th>\n",
       "      <td>Sim</td>\n",
       "      <td>Feminino</td>\n",
       "      <td>59.0</td>\n",
       "      <td>149.0</td>\n",
       "      <td>290.0</td>\n",
       "      <td>144.0</td>\n",
       "      <td>2.0</td>\n",
       "      <td>2.0</td>\n",
       "      <td>1.0</td>\n",
       "    </tr>\n",
       "    <tr>\n",
       "      <th>3</th>\n",
       "      <td>Sim</td>\n",
       "      <td>Masculino</td>\n",
       "      <td>56.0</td>\n",
       "      <td>132.0</td>\n",
       "      <td>250.0</td>\n",
       "      <td>138.0</td>\n",
       "      <td>2.0</td>\n",
       "      <td>2.0</td>\n",
       "      <td>1.0</td>\n",
       "    </tr>\n",
       "  </tbody>\n",
       "</table>\n",
       "</div>"
      ],
      "text/plain": [
       "  Doenca_cardiaca Sexo_biologico  Idade (Média)  Média da pressão Arterial  \\\n",
       "0             Não       Feminino           55.0                      128.0   \n",
       "1             Não      Masculino           51.0                      129.0   \n",
       "2             Sim       Feminino           59.0                      149.0   \n",
       "3             Sim      Masculino           56.0                      132.0   \n",
       "\n",
       "   Média de colesterol  Média de Máximo de Frequencia Cardiaca  \\\n",
       "0                257.0                                   155.0   \n",
       "1                234.0                                   161.0   \n",
       "2                290.0                                   144.0   \n",
       "3                250.0                                   138.0   \n",
       "\n",
       "   Média de Depressão ST  Média de Inclinação ST  \\\n",
       "0                    1.0                     1.0   \n",
       "1                    1.0                     1.0   \n",
       "2                    2.0                     2.0   \n",
       "3                    2.0                     2.0   \n",
       "\n",
       "   Média de Numeros de Vasos p/Fluoroscopia  \n",
       "0                                       0.0  \n",
       "1                                       0.0  \n",
       "2                                       1.0  \n",
       "3                                       1.0  "
      ]
     },
     "execution_count": 116,
     "metadata": {},
     "output_type": "execute_result"
    }
   ],
   "source": [
    "# Agrupa os dados pelas colunas 'Doenca_cardiaca' e 'Sexo_biologico', cria uma coluna de indices, usa o metodo agg para calcular a média de cada coluna [Idade, Pressao_arterial, Colesterol, Frequencia_cardiaca_max, Depressao_ST, Inclinacao_ST, Numero_vasos_fluro] e arredonda os valores [1 casa decimal], renomeia as colunas e retorna o resultado\n",
    "\n",
    "dic = {\n",
    "  \"Idade\": \"mean\",\n",
    "  \"Pressao_arterial\": \"mean\",\n",
    "  \"Colesterol\": \"mean\",\n",
    "  \"Frequencia_cardiaca_max\":\"mean\",\n",
    "  \"Depressao_ST\": \"mean\",\n",
    "  \"Inclinacao_ST\": \"mean\",\n",
    "  \"Numero_vasos_fluro\": \"mean\"\n",
    "}\n",
    "\n",
    "heart_disease_patients.groupby(['Doenca_cardiaca', 'Sexo_biologico'], as_index=False).agg(dic).round().rename(columns={\n",
    "  \"Idade\": \"Idade (Média)\",\n",
    "  \"Pressao_arterial\":\"Média da pressão Arterial\",\n",
    "  \"Colesterol\": \"Média de colesterol\",\n",
    "  \"Frequencia_cardiaca_max\": \"Média de Máximo de Frequencia Cardiaca\",\n",
    "  \"Depressao_ST\": \"Média de Depressão ST\",\n",
    "  \"Inclinacao_ST\": \"Média de Inclinação ST\",\n",
    "  \"Numero_vasos_fluro\": \"Média de Numeros de Vasos p/Fluoroscopia\",\n",
    "})\n"
   ]
  }
 ],
 "metadata": {
  "kernelspec": {
   "display_name": "Python 3 (ipykernel)",
   "language": "python",
   "name": "python3"
  },
  "language_info": {
   "codemirror_mode": {
    "name": "ipython",
    "version": 3
   },
   "file_extension": ".py",
   "mimetype": "text/x-python",
   "name": "python",
   "nbconvert_exporter": "python",
   "pygments_lexer": "ipython3",
   "version": "3.13.2"
  }
 },
 "nbformat": 4,
 "nbformat_minor": 5
}
