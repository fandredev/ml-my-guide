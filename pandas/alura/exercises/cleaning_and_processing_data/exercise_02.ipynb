{
 "cells": [
  {
   "cell_type": "markdown",
   "id": "fe44fe38",
   "metadata": {},
   "source": [
    "# Exercício de Limpeza e Processamento de Dados\n",
    "\n",
    "### Objetivo\n",
    "Neste exercício, vamos trabalhar com um arquivo JSON que precisa ser tratado e convertido em um DataFrame do Pandas. O objetivo é remover dados vazios e configurar corretamente os tipos de dados das colunas.\n",
    "\n",
    "### Descrição da Tarefa\n",
    "Você recebeu e fez o download de https://cdn3.gnarususercontent.com.br/2929-pandas/dados.json.\n",
    "\n",
    "Sua tarefa é realizar alguns tratamentos e deixar esse arquivo JSON como um Pandas DataFrame, sem dados vazios e com a tipagem das colunas de forma correta. Como isso pode ser feito?"
   ]
  },
  {
   "cell_type": "code",
   "execution_count": null,
   "id": "c5e37910",
   "metadata": {},
   "outputs": [],
   "source": [
    "# pandas: para manipulação de dados\n",
    "# requests: para fazer requisições HTTP\n",
    "# HTTPStatus: para verificar o status da requisição\n",
    "# numpy: para trabalhar com tipos numéricos\n",
    "\n",
    "import pandas as pd\n",
    "import requests\n",
    "from http import HTTPStatus\n",
    "import numpy as np"
   ]
  },
  {
   "cell_type": "code",
   "execution_count": null,
   "id": "d7fc4a12",
   "metadata": {},
   "outputs": [
    {
     "data": {
      "text/html": [
       "<div>\n",
       "<style scoped>\n",
       "    .dataframe tbody tr th:only-of-type {\n",
       "        vertical-align: middle;\n",
       "    }\n",
       "\n",
       "    .dataframe tbody tr th {\n",
       "        vertical-align: top;\n",
       "    }\n",
       "\n",
       "    .dataframe thead th {\n",
       "        text-align: right;\n",
       "    }\n",
       "</style>\n",
       "<table border=\"1\" class=\"dataframe\">\n",
       "  <thead>\n",
       "    <tr style=\"text-align: right;\">\n",
       "      <th></th>\n",
       "      <th>nome</th>\n",
       "      <th>idade</th>\n",
       "      <th>telefones</th>\n",
       "      <th>endereco.rua</th>\n",
       "      <th>endereco.numero</th>\n",
       "      <th>endereco.cidade</th>\n",
       "    </tr>\n",
       "  </thead>\n",
       "  <tbody>\n",
       "    <tr>\n",
       "      <th>0</th>\n",
       "      <td>João</td>\n",
       "      <td>25</td>\n",
       "      <td>[11 1111-1111, 11 2222-2222]</td>\n",
       "      <td>Rua A</td>\n",
       "      <td>123</td>\n",
       "      <td>São Paulo</td>\n",
       "    </tr>\n",
       "    <tr>\n",
       "      <th>1</th>\n",
       "      <td>Maria</td>\n",
       "      <td>30</td>\n",
       "      <td>[21 3333-3333]</td>\n",
       "      <td></td>\n",
       "      <td>456</td>\n",
       "      <td>Rio de Janeiro</td>\n",
       "    </tr>\n",
       "  </tbody>\n",
       "</table>\n",
       "</div>"
      ],
      "text/plain": [
       "    nome idade                     telefones endereco.rua  endereco.numero  \\\n",
       "0   João    25  [11 1111-1111, 11 2222-2222]        Rua A              123   \n",
       "1  Maria    30                [21 3333-3333]                           456   \n",
       "\n",
       "  endereco.cidade  \n",
       "0       São Paulo  \n",
       "1  Rio de Janeiro  "
      ]
     },
     "execution_count": 25,
     "metadata": {},
     "output_type": "execute_result"
    }
   ],
   "source": [
    "# Fazendo a requisição HTTP para obter os dados JSON e criando o DataFrame\n",
    "# 1. Realiza a requisição GET para a URL\n",
    "# 2. Verifica se a requisição foi bem-sucedida\n",
    "# 3. Normaliza os dados JSON para criar um DataFrame\n",
    "\n",
    "r = requests.get('https://cdn3.gnarususercontent.com.br/2929-pandas/dados.json')\n",
    "\n",
    "if r.status_code == HTTPStatus.OK:\n",
    "  df = pd.DataFrame(r.json())\n",
    "\n",
    "  df = pd.json_normalize(r.json(), record_path='pessoas')\n",
    "\n",
    "df"
   ]
  },
  {
   "cell_type": "code",
   "execution_count": null,
   "id": "c5858e49",
   "metadata": {},
   "outputs": [],
   "source": [
    "# Configurando os tipos corretos para cada coluna do DataFrame\n",
    "# - idade: convertida para int8 (números inteiros pequenos)\n",
    "# - nome, telefones, endereço.rua, endereço.cidade: convertidos para string\n",
    "\n",
    "df['idade'] = df['idade'].astype(np.int8)\n",
    "df['nome'] = df['nome'].astype('string')\n",
    "df['telefones'] = df['telefones'].astype('string')\n",
    "df['endereco.rua'] = df['endereco.rua'].astype('string')\n",
    "df['endereco.cidade'] = df['endereco.cidade'].astype('string')"
   ]
  },
  {
   "cell_type": "code",
   "execution_count": null,
   "id": "1e4634a6",
   "metadata": {},
   "outputs": [
    {
     "name": "stdout",
     "output_type": "stream",
     "text": [
      "<class 'pandas.core.frame.DataFrame'>\n",
      "RangeIndex: 2 entries, 0 to 1\n",
      "Data columns (total 6 columns):\n",
      " #   Column           Non-Null Count  Dtype \n",
      "---  ------           --------------  ----- \n",
      " 0   nome             2 non-null      string\n",
      " 1   idade            2 non-null      int8  \n",
      " 2   telefones        2 non-null      string\n",
      " 3   endereco.rua     2 non-null      string\n",
      " 4   endereco.numero  2 non-null      int64 \n",
      " 5   endereco.cidade  2 non-null      string\n",
      "dtypes: int64(1), int8(1), string(4)\n",
      "memory usage: 214.0 bytes\n"
     ]
    }
   ],
   "source": [
    "# Exibindo informações detalhadas sobre o DataFrame\n",
    "# Mostra os tipos de dados e informações sobre as colunas\n",
    "\n",
    "df.info()"
   ]
  },
  {
   "cell_type": "code",
   "execution_count": null,
   "id": "ff3b640e",
   "metadata": {},
   "outputs": [
    {
     "data": {
      "text/html": [
       "<div>\n",
       "<style scoped>\n",
       "    .dataframe tbody tr th:only-of-type {\n",
       "        vertical-align: middle;\n",
       "    }\n",
       "\n",
       "    .dataframe tbody tr th {\n",
       "        vertical-align: top;\n",
       "    }\n",
       "\n",
       "    .dataframe thead th {\n",
       "        text-align: right;\n",
       "    }\n",
       "</style>\n",
       "<table border=\"1\" class=\"dataframe\">\n",
       "  <thead>\n",
       "    <tr style=\"text-align: right;\">\n",
       "      <th></th>\n",
       "      <th>nome</th>\n",
       "      <th>idade</th>\n",
       "      <th>telefones</th>\n",
       "      <th>endereco.rua</th>\n",
       "      <th>endereco.numero</th>\n",
       "      <th>endereco.cidade</th>\n",
       "    </tr>\n",
       "  </thead>\n",
       "  <tbody>\n",
       "    <tr>\n",
       "      <th>1</th>\n",
       "      <td>Maria</td>\n",
       "      <td>30</td>\n",
       "      <td>['21 3333-3333']</td>\n",
       "      <td></td>\n",
       "      <td>456</td>\n",
       "      <td>Rio de Janeiro</td>\n",
       "    </tr>\n",
       "  </tbody>\n",
       "</table>\n",
       "</div>"
      ],
      "text/plain": [
       "    nome  idade         telefones endereco.rua  endereco.numero  \\\n",
       "1  Maria     30  ['21 3333-3333']                           456   \n",
       "\n",
       "  endereco.cidade  \n",
       "1  Rio de Janeiro  "
      ]
     },
     "execution_count": 28,
     "metadata": {},
     "output_type": "execute_result"
    }
   ],
   "source": [
    "# Verificando registros com ruas vazias\n",
    "# Filtra o DataFrame para mostrar apenas as linhas onde endereco.rua está vazio\n",
    "\n",
    "df[df['endereco.rua'] == '']"
   ]
  },
  {
   "cell_type": "code",
   "execution_count": null,
   "id": "c29fca04",
   "metadata": {},
   "outputs": [],
   "source": [
    "# Removendo registros com ruas vazias\n",
    "# Filtra o DataFrame mantendo apenas os registros onde endereco.rua não está vazio\n",
    "\n",
    "df = df[~(df['endereco.rua'] == '')]"
   ]
  },
  {
   "cell_type": "code",
   "execution_count": null,
   "id": "8d05b015",
   "metadata": {},
   "outputs": [
    {
     "data": {
      "text/html": [
       "<div>\n",
       "<style scoped>\n",
       "    .dataframe tbody tr th:only-of-type {\n",
       "        vertical-align: middle;\n",
       "    }\n",
       "\n",
       "    .dataframe tbody tr th {\n",
       "        vertical-align: top;\n",
       "    }\n",
       "\n",
       "    .dataframe thead th {\n",
       "        text-align: right;\n",
       "    }\n",
       "</style>\n",
       "<table border=\"1\" class=\"dataframe\">\n",
       "  <thead>\n",
       "    <tr style=\"text-align: right;\">\n",
       "      <th></th>\n",
       "      <th>nome</th>\n",
       "      <th>idade</th>\n",
       "      <th>telefones</th>\n",
       "      <th>endereco.rua</th>\n",
       "      <th>endereco.numero</th>\n",
       "      <th>endereco.cidade</th>\n",
       "    </tr>\n",
       "  </thead>\n",
       "  <tbody>\n",
       "    <tr>\n",
       "      <th>0</th>\n",
       "      <td>João</td>\n",
       "      <td>25</td>\n",
       "      <td>['11 1111-1111', '11 2222-2222']</td>\n",
       "      <td>Rua A</td>\n",
       "      <td>123</td>\n",
       "      <td>São Paulo</td>\n",
       "    </tr>\n",
       "  </tbody>\n",
       "</table>\n",
       "</div>"
      ],
      "text/plain": [
       "   nome  idade                         telefones endereco.rua  \\\n",
       "0  João     25  ['11 1111-1111', '11 2222-2222']        Rua A   \n",
       "\n",
       "   endereco.numero endereco.cidade  \n",
       "0              123       São Paulo  "
      ]
     },
     "execution_count": 30,
     "metadata": {},
     "output_type": "execute_result"
    }
   ],
   "source": [
    "# Exibindo o DataFrame final após todas as transformações\n",
    "# Mostra o resultado do processamento com tipos corretos e sem dados vazios\n",
    "\n",
    "df"
   ]
  }
 ],
 "metadata": {
  "kernelspec": {
   "display_name": "Python 3 (ipykernel)",
   "language": "python",
   "name": "python3"
  },
  "language_info": {
   "codemirror_mode": {
    "name": "ipython",
    "version": 3
   },
   "file_extension": ".py",
   "mimetype": "text/x-python",
   "name": "python",
   "nbconvert_exporter": "python",
   "pygments_lexer": "ipython3",
   "version": "3.13.2"
  }
 },
 "nbformat": 4,
 "nbformat_minor": 5
}
