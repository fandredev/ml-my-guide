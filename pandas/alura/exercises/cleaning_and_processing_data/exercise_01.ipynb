{
 "cells": [
  {
   "cell_type": "markdown",
   "id": "cdd56cd3",
   "metadata": {},
   "source": [
    "Ao normalizar o objeto JSON durante a aula passamos simplesmente pd.json_normalize(<dados>) mas o método json_normalize possui diversos parâmetros para trabalhar com estruturas de dados mais complexas.\n",
    "\n",
    "Você recebeu a tarefa de normalizar o seguinte arquivo JSON chamado “informacoes.json” referente a algumas informações de identificação de um cliente. O arquivo possui o seguinte conteúdo:\n",
    "\n",
    "\n",
    "``` {\n",
    "  \"nome\": \"João\",\n",
    "  \"idade\": 28,\n",
    "  \"enderecos\": [\n",
    "    {\n",
    "      \"tipo\": \"casa\",\n",
    "      \"rua\": \"Rua A\",\n",
    "      \"numero\": 123,\n",
    "      \"cidade\": \"São Paulo\"\n",
    "    },\n",
    "    {\n",
    "      \"tipo\": \"trabalho\",\n",
    "      \"rua\": \"Rua B\",\n",
    "      \"numero\": 456,\n",
    "      \"cidade\": \"Rio de Janeiro\"\n",
    "    }\n",
    "  ]\n",
    "}\n",
    "\n",
    "```\n",
    "\n",
    "Como podemos fazer isso?"
   ]
  },
  {
   "cell_type": "code",
   "execution_count": 33,
   "id": "cdd849ba",
   "metadata": {},
   "outputs": [],
   "source": [
    "import pandas as pd\n",
    "import requests \n",
    "from http import HTTPStatus"
   ]
  },
  {
   "cell_type": "code",
   "execution_count": null,
   "id": "0a146387",
   "metadata": {},
   "outputs": [
    {
     "data": {
      "text/html": [
       "<div>\n",
       "<style scoped>\n",
       "    .dataframe tbody tr th:only-of-type {\n",
       "        vertical-align: middle;\n",
       "    }\n",
       "\n",
       "    .dataframe tbody tr th {\n",
       "        vertical-align: top;\n",
       "    }\n",
       "\n",
       "    .dataframe thead th {\n",
       "        text-align: right;\n",
       "    }\n",
       "</style>\n",
       "<table border=\"1\" class=\"dataframe\">\n",
       "  <thead>\n",
       "    <tr style=\"text-align: right;\">\n",
       "      <th></th>\n",
       "      <th>nome</th>\n",
       "      <th>idade</th>\n",
       "      <th>enderecos</th>\n",
       "    </tr>\n",
       "  </thead>\n",
       "  <tbody>\n",
       "    <tr>\n",
       "      <th>0</th>\n",
       "      <td>João</td>\n",
       "      <td>28</td>\n",
       "      <td>{'tipo': 'casa', 'rua': 'Rua A', 'numero': 123...</td>\n",
       "    </tr>\n",
       "    <tr>\n",
       "      <th>1</th>\n",
       "      <td>João</td>\n",
       "      <td>28</td>\n",
       "      <td>{'tipo': 'trabalho', 'rua': 'Rua B', 'numero':...</td>\n",
       "    </tr>\n",
       "  </tbody>\n",
       "</table>\n",
       "</div>"
      ],
      "text/plain": [
       "   nome  idade                                          enderecos\n",
       "0  João     28  {'tipo': 'casa', 'rua': 'Rua A', 'numero': 123...\n",
       "1  João     28  {'tipo': 'trabalho', 'rua': 'Rua B', 'numero':..."
      ]
     },
     "execution_count": 34,
     "metadata": {},
     "output_type": "execute_result"
    }
   ],
   "source": [
    "r = requests.get('https://cdn3.gnarususercontent.com.br/2929-pandas/informacoes.json')"
   ]
  },
  {
   "cell_type": "code",
   "execution_count": 35,
   "id": "d1eb2254",
   "metadata": {},
   "outputs": [],
   "source": [
    "df = pd.json_normalize(r.json(), record_path='enderecos', meta=['nome', 'idade'])"
   ]
  },
  {
   "cell_type": "code",
   "execution_count": 36,
   "id": "acc8b4c9",
   "metadata": {},
   "outputs": [
    {
     "data": {
      "text/html": [
       "<div>\n",
       "<style scoped>\n",
       "    .dataframe tbody tr th:only-of-type {\n",
       "        vertical-align: middle;\n",
       "    }\n",
       "\n",
       "    .dataframe tbody tr th {\n",
       "        vertical-align: top;\n",
       "    }\n",
       "\n",
       "    .dataframe thead th {\n",
       "        text-align: right;\n",
       "    }\n",
       "</style>\n",
       "<table border=\"1\" class=\"dataframe\">\n",
       "  <thead>\n",
       "    <tr style=\"text-align: right;\">\n",
       "      <th></th>\n",
       "      <th>tipo</th>\n",
       "      <th>rua</th>\n",
       "      <th>numero</th>\n",
       "      <th>cidade</th>\n",
       "      <th>nome</th>\n",
       "      <th>idade</th>\n",
       "    </tr>\n",
       "  </thead>\n",
       "  <tbody>\n",
       "    <tr>\n",
       "      <th>0</th>\n",
       "      <td>casa</td>\n",
       "      <td>Rua A</td>\n",
       "      <td>123</td>\n",
       "      <td>São Paulo</td>\n",
       "      <td>João</td>\n",
       "      <td>28</td>\n",
       "    </tr>\n",
       "    <tr>\n",
       "      <th>1</th>\n",
       "      <td>trabalho</td>\n",
       "      <td>Rua B</td>\n",
       "      <td>456</td>\n",
       "      <td>Rio de Janeiro</td>\n",
       "      <td>João</td>\n",
       "      <td>28</td>\n",
       "    </tr>\n",
       "  </tbody>\n",
       "</table>\n",
       "</div>"
      ],
      "text/plain": [
       "       tipo    rua  numero          cidade  nome idade\n",
       "0      casa  Rua A     123       São Paulo  João    28\n",
       "1  trabalho  Rua B     456  Rio de Janeiro  João    28"
      ]
     },
     "execution_count": 36,
     "metadata": {},
     "output_type": "execute_result"
    }
   ],
   "source": [
    "df"
   ]
  }
 ],
 "metadata": {
  "kernelspec": {
   "display_name": "my-ml-guide",
   "language": "python",
   "name": "python3"
  },
  "language_info": {
   "codemirror_mode": {
    "name": "ipython",
    "version": 3
   },
   "file_extension": ".py",
   "mimetype": "text/x-python",
   "name": "python",
   "nbconvert_exporter": "python",
   "pygments_lexer": "ipython3",
   "version": "3.13.2"
  }
 },
 "nbformat": 4,
 "nbformat_minor": 5
}
