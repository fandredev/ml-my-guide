{
 "cells": [
  {
   "attachments": {
    "image.png": {
     "image/png": "[encoded data removed]"
    }
   },
   "cell_type": "markdown",
   "id": "346afc6e",
   "metadata": {},
   "source": [
    "Você recebeu um conjunto de dados contendo informações de peso e altura de diferentes pessoas. O objetivo é calcular o IMC de cada pessoa e classificá-las em categorias de acordo com a tabela de classificação da Organização Mundial da Saúde (OMS).\n",
    "\n",
    "O DataFrame contém as seguintes colunas iniciais:\n",
    "\n",
    "- Pessoa: Nome da pessoa.\n",
    "- Peso: Peso da pessoa em quilogramas (kg).\n",
    "- Altura: Altura da pessoa em metros (m).\n",
    "\n",
    "\n",
    "Sua tarefa é:\n",
    "\n",
    "1 - Criar uma função chamada categoriza_imc que classifique o IMC nas seguintes categorias:\n",
    "\n",
    "- \"Abaixo do peso\": IMC menor que 18.5.\n",
    "\n",
    "- \"Peso normal\": IMC entre 18.5 e 24.9 (inclusive).\n",
    "\n",
    "- \"Sobrepeso\": IMC entre 25 e 29.9 (inclusive).\n",
    "\n",
    "- \"Obesidade Grau 1\": IMC entre 30 e 34.9 (inclusive).\n",
    "\n",
    "- \"Obesidade Grau 2\": IMC entre 35 e 39.9 (inclusive).\n",
    "\n",
    "- \"Obesidade Grau 3\": IMC maior ou igual a 40.\n",
    "\n",
    "2 - Calcular o IMC para cada pessoa usando a fórmula:\n",
    "\n",
    "![image.png](attachment:image.png)\n",
    "\n",
    "3 - Criar uma nova coluna chamada Categoria_IMC que armazene a classificação do IMC de cada pessoa.\n",
    "\n",
    "4 - Exibir as colunas Pessoa, Peso, Altura, IMC e Categoria_IMC."
   ]
  },
  {
   "cell_type": "code",
   "execution_count": 62,
   "id": "b97d6697",
   "metadata": {},
   "outputs": [],
   "source": [
    "import pandas as pd\n",
    "    \n",
    "# Dados das pessoas\n",
    "data = {\n",
    "    'Pessoa': ['Ana', 'Bruno', 'Carla', 'Daniel', 'Eduarda', 'Felipe', 'Gabriela', 'Henrique'],\n",
    "    'Peso': [50, 80, 70, 95, 60, 110, 45, 130],\n",
    "    'Altura': [1.60, 1.75, 1.68, 1.80, 1.55, 1.90, 1.50, 1.85]\n",
    "}\n",
    "\n",
    "# Criando o DataFrame\n",
    "df = pd.DataFrame(data)"
   ]
  },
  {
   "cell_type": "markdown",
   "id": "ff67cd69",
   "metadata": {},
   "source": [
    "#### Objetivo:\n",
    "\n",
    "- Criar uma função chamada categoriza_imc para classificar o IMC conforme as faixas descritas acima.\n",
    "\n",
    "- Calcular o IMC de cada pessoa e adicionar uma nova coluna IMC ao DataFrame.\n",
    "\n",
    "- Aplicar a função à coluna IMC para criar a nova coluna Categoria_IMC.\n",
    "\n",
    "- Exibir as colunas Pessoa, Peso, Altura, IMC e Categoria_IMC.\n"
   ]
  },
  {
   "cell_type": "code",
   "execution_count": 63,
   "id": "e12b7836",
   "metadata": {},
   "outputs": [],
   "source": [
    "def categorize_bmi(bmi: float) -> str:\n",
    "  \"\"\"\n",
    "  Function to categorize BMI according to the ranges established by the WHO.\n",
    "  :param bmi: Body Mass Index\n",
    "  :return: BMI Category\n",
    "  \"\"\"\n",
    "  if bmi < 18.5:\n",
    "    return \"Underweight\"\n",
    "  elif bmi <= 24.9:\n",
    "    return \"Normal weight\"\n",
    "  elif bmi <= 29.9:\n",
    "    return \"Overweight\"\n",
    "  elif bmi <= 34.9:\n",
    "    return \"Obesity Grade 1\"\n",
    "  elif bmi <= 39.9:\n",
    "    return \"Obesity Grade 2\"\n",
    "  else:\n",
    "    return \"Obesity Grade 3\""
   ]
  },
  {
   "cell_type": "code",
   "execution_count": 64,
   "id": "196ebeb9",
   "metadata": {},
   "outputs": [
    {
     "name": "stderr",
     "output_type": "stream",
     "text": [
      "test_when_bmi_is_18_4_then_category_is_underweight (__main__.TestCategorizeBMI.test_when_bmi_is_18_4_then_category_is_underweight) ... ok\n",
      "test_when_bmi_is_18_5_or_24_9_then_category_is_normal_weight (__main__.TestCategorizeBMI.test_when_bmi_is_18_5_or_24_9_then_category_is_normal_weight) ... ok\n",
      "test_when_bmi_is_25_0_or_29_9_then_category_is_overweight (__main__.TestCategorizeBMI.test_when_bmi_is_25_0_or_29_9_then_category_is_overweight) ... ok\n",
      "test_when_bmi_is_30_0_or_34_9_then_category_is_obesity_grade_1 (__main__.TestCategorizeBMI.test_when_bmi_is_30_0_or_34_9_then_category_is_obesity_grade_1) ... ok\n",
      "test_when_bmi_is_35_0_or_39_9_then_category_is_obesity_grade_2 (__main__.TestCategorizeBMI.test_when_bmi_is_35_0_or_39_9_then_category_is_obesity_grade_2) ... ok\n",
      "test_when_bmi_is_40_0_or_higher_then_category_is_obesity_grade_3 (__main__.TestCategorizeBMI.test_when_bmi_is_40_0_or_higher_then_category_is_obesity_grade_3) ... ok\n",
      "\n",
      "----------------------------------------------------------------------\n",
      "Ran 6 tests in 0.004s\n",
      "\n",
      "OK\n"
     ]
    },
    {
     "data": {
      "text/plain": [
       "<unittest.main.TestProgram at 0x7a0f639fb250>"
      ]
     },
     "execution_count": 64,
     "metadata": {},
     "output_type": "execute_result"
    }
   ],
   "source": [
    "\n",
    "import unittest\n",
    "class TestCategorizeBMI(unittest.TestCase):\n",
    "  def test_when_bmi_is_18_4_then_category_is_underweight(self):\n",
    "    self.assertEqual(categorize_bmi(18.4), \"Underweight\")\n",
    "\n",
    "  def test_when_bmi_is_18_5_or_24_9_then_category_is_normal_weight(self):\n",
    "    self.assertEqual(categorize_bmi(18.5), \"Normal weight\")\n",
    "    self.assertEqual(categorize_bmi(24.9), \"Normal weight\")\n",
    "\n",
    "  def test_when_bmi_is_25_0_or_29_9_then_category_is_overweight(self):\n",
    "    self.assertEqual(categorize_bmi(25.0), \"Overweight\")\n",
    "    self.assertEqual(categorize_bmi(29.9), \"Overweight\")\n",
    "\n",
    "  def test_when_bmi_is_30_0_or_34_9_then_category_is_obesity_grade_1(self):\n",
    "    self.assertEqual(categorize_bmi(30.0), \"Obesity Grade 1\")\n",
    "    self.assertEqual(categorize_bmi(34.9), \"Obesity Grade 1\")\n",
    "\n",
    "  def test_when_bmi_is_35_0_or_39_9_then_category_is_obesity_grade_2(self):\n",
    "    self.assertEqual(categorize_bmi(35.0), \"Obesity Grade 2\")\n",
    "    self.assertEqual(categorize_bmi(39.9), \"Obesity Grade 2\")\n",
    "\n",
    "  def test_when_bmi_is_40_0_or_higher_then_category_is_obesity_grade_3(self):\n",
    "    self.assertEqual(categorize_bmi(40.0), \"Obesity Grade 3\")\n",
    "    self.assertEqual(categorize_bmi(50.0), \"Obesity Grade 3\")\n",
    "\n",
    "unittest.main(argv=[''], verbosity=2, exit=False)\n"
   ]
  },
  {
   "cell_type": "code",
   "execution_count": 65,
   "id": "08f5717c",
   "metadata": {},
   "outputs": [],
   "source": [
    "df['IMC'] = df['Peso'] / (df['Altura'] ** 2)"
   ]
  },
  {
   "cell_type": "code",
   "execution_count": 66,
   "id": "5d208faa",
   "metadata": {},
   "outputs": [],
   "source": [
    "df['Categoria_IMC'] = df['IMC'].apply(categorize_bmi)"
   ]
  },
  {
   "cell_type": "code",
   "execution_count": 67,
   "id": "5d5dafb5",
   "metadata": {},
   "outputs": [
    {
     "data": {
      "text/html": [
       "<div>\n",
       "<style scoped>\n",
       "    .dataframe tbody tr th:only-of-type {\n",
       "        vertical-align: middle;\n",
       "    }\n",
       "\n",
       "    .dataframe tbody tr th {\n",
       "        vertical-align: top;\n",
       "    }\n",
       "\n",
       "    .dataframe thead th {\n",
       "        text-align: right;\n",
       "    }\n",
       "</style>\n",
       "<table border=\"1\" class=\"dataframe\">\n",
       "  <thead>\n",
       "    <tr style=\"text-align: right;\">\n",
       "      <th></th>\n",
       "      <th>Pessoa</th>\n",
       "      <th>Peso</th>\n",
       "      <th>Altura</th>\n",
       "      <th>IMC</th>\n",
       "      <th>Categoria_IMC</th>\n",
       "    </tr>\n",
       "  </thead>\n",
       "  <tbody>\n",
       "    <tr>\n",
       "      <th>0</th>\n",
       "      <td>Ana</td>\n",
       "      <td>50</td>\n",
       "      <td>1.60</td>\n",
       "      <td>19.531250</td>\n",
       "      <td>Normal weight</td>\n",
       "    </tr>\n",
       "    <tr>\n",
       "      <th>1</th>\n",
       "      <td>Bruno</td>\n",
       "      <td>80</td>\n",
       "      <td>1.75</td>\n",
       "      <td>26.122449</td>\n",
       "      <td>Overweight</td>\n",
       "    </tr>\n",
       "    <tr>\n",
       "      <th>2</th>\n",
       "      <td>Carla</td>\n",
       "      <td>70</td>\n",
       "      <td>1.68</td>\n",
       "      <td>24.801587</td>\n",
       "      <td>Normal weight</td>\n",
       "    </tr>\n",
       "    <tr>\n",
       "      <th>3</th>\n",
       "      <td>Daniel</td>\n",
       "      <td>95</td>\n",
       "      <td>1.80</td>\n",
       "      <td>29.320988</td>\n",
       "      <td>Overweight</td>\n",
       "    </tr>\n",
       "    <tr>\n",
       "      <th>4</th>\n",
       "      <td>Eduarda</td>\n",
       "      <td>60</td>\n",
       "      <td>1.55</td>\n",
       "      <td>24.973985</td>\n",
       "      <td>Overweight</td>\n",
       "    </tr>\n",
       "  </tbody>\n",
       "</table>\n",
       "</div>"
      ],
      "text/plain": [
       "    Pessoa  Peso  Altura        IMC  Categoria_IMC\n",
       "0      Ana    50    1.60  19.531250  Normal weight\n",
       "1    Bruno    80    1.75  26.122449     Overweight\n",
       "2    Carla    70    1.68  24.801587  Normal weight\n",
       "3   Daniel    95    1.80  29.320988     Overweight\n",
       "4  Eduarda    60    1.55  24.973985     Overweight"
      ]
     },
     "execution_count": 67,
     "metadata": {},
     "output_type": "execute_result"
    }
   ],
   "source": [
    "df[['Pessoa', 'Peso', 'Altura', 'IMC', 'Categoria_IMC']].head()\n"
   ]
  }
 ],
 "metadata": {
  "kernelspec": {
   "display_name": "my-ml-guide",
   "language": "python",
   "name": "python3"
  },
  "language_info": {
   "codemirror_mode": {
    "name": "ipython",
    "version": 3
   },
   "file_extension": ".py",
   "mimetype": "text/x-python",
   "name": "python",
   "nbconvert_exporter": "python",
   "pygments_lexer": "ipython3",
   "version": "3.13.2"
  }
 },
 "nbformat": 4,
 "nbformat_minor": 5
}
