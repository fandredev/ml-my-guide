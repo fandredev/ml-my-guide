{
 "cells": [
  {
   "cell_type": "markdown",
   "id": "450f46bd",
   "metadata": {},
   "source": [
    "Você recebeu um conjunto de dados que contém informações sobre o estoque de diferentes produtos de uma loja. O objetivo é classificar os produtos que possuem estoque abaixo de um determinado limite como \"Estoque Baixo\".\n",
    "\n",
    "O DataFrame contém as seguintes colunas iniciais:\n",
    "\n",
    "- Produto: Nome do produto.\n",
    "- Estoque: Quantidade em estoque do produto.\n",
    "\n",
    "\n",
    "Sua tarefa é:\n",
    "\n",
    "Usar o método apply com uma função lambda para criar uma nova coluna chamada Estoque Baixo, que indicará:\n",
    "\n",
    "- True (Verdadeiro) se o estoque do produto for menor que 50.\n",
    "\n",
    "- False (Falso) caso contrário.\n",
    "\n",
    "Exibir as colunas Produto, Estoque e Estoque Baixo."
   ]
  },
  {
   "cell_type": "code",
   "execution_count": 1,
   "id": "24493586",
   "metadata": {},
   "outputs": [],
   "source": [
    "import pandas as pd\n",
    "\n",
    "data = {\n",
    "    'Produto': ['Notebook', 'Mouse', 'Teclado', 'Monitor', 'Cadeira', 'Impressora', 'Pen Drive', 'Mesa'],\n",
    "    'Estoque': [30, 150, 45, 20, 60, 10, 80, 50]\n",
    "}\n",
    "\n",
    "# Criando o DataFrame\n",
    "df = pd.DataFrame(data)"
   ]
  },
  {
   "cell_type": "markdown",
   "id": "79e4b4e6",
   "metadata": {},
   "source": [
    "#### Objetivo:\n",
    "\n",
    "- Usar o método apply com uma função lambda para classificar os produtos com base na quantidade em estoque.\n",
    "\n",
    "- Criar a nova coluna Estoque Baixo no DataFrame.\n",
    "\n",
    "- Exibir as colunas Produto, Estoque e Estoque Baixo."
   ]
  },
  {
   "cell_type": "code",
   "execution_count": 3,
   "id": "ae217e92",
   "metadata": {},
   "outputs": [
    {
     "data": {
      "text/html": [
       "<div>\n",
       "<style scoped>\n",
       "    .dataframe tbody tr th:only-of-type {\n",
       "        vertical-align: middle;\n",
       "    }\n",
       "\n",
       "    .dataframe tbody tr th {\n",
       "        vertical-align: top;\n",
       "    }\n",
       "\n",
       "    .dataframe thead th {\n",
       "        text-align: right;\n",
       "    }\n",
       "</style>\n",
       "<table border=\"1\" class=\"dataframe\">\n",
       "  <thead>\n",
       "    <tr style=\"text-align: right;\">\n",
       "      <th></th>\n",
       "      <th>Produto</th>\n",
       "      <th>Estoque</th>\n",
       "      <th>Estoque Baixo</th>\n",
       "    </tr>\n",
       "  </thead>\n",
       "  <tbody>\n",
       "    <tr>\n",
       "      <th>0</th>\n",
       "      <td>Notebook</td>\n",
       "      <td>30</td>\n",
       "      <td>True</td>\n",
       "    </tr>\n",
       "    <tr>\n",
       "      <th>1</th>\n",
       "      <td>Mouse</td>\n",
       "      <td>150</td>\n",
       "      <td>False</td>\n",
       "    </tr>\n",
       "    <tr>\n",
       "      <th>2</th>\n",
       "      <td>Teclado</td>\n",
       "      <td>45</td>\n",
       "      <td>True</td>\n",
       "    </tr>\n",
       "    <tr>\n",
       "      <th>3</th>\n",
       "      <td>Monitor</td>\n",
       "      <td>20</td>\n",
       "      <td>True</td>\n",
       "    </tr>\n",
       "    <tr>\n",
       "      <th>4</th>\n",
       "      <td>Cadeira</td>\n",
       "      <td>60</td>\n",
       "      <td>False</td>\n",
       "    </tr>\n",
       "  </tbody>\n",
       "</table>\n",
       "</div>"
      ],
      "text/plain": [
       "    Produto  Estoque  Estoque Baixo\n",
       "0  Notebook       30           True\n",
       "1     Mouse      150          False\n",
       "2   Teclado       45           True\n",
       "3   Monitor       20           True\n",
       "4   Cadeira       60          False"
      ]
     },
     "execution_count": 3,
     "metadata": {},
     "output_type": "execute_result"
    }
   ],
   "source": [
    "df['Estoque Baixo'] = df['Estoque'].apply(lambda x: True if x < 50 else False)\n",
    "\n",
    "df.head()"
   ]
  }
 ],
 "metadata": {
  "kernelspec": {
   "display_name": "my-ml-guide",
   "language": "python",
   "name": "python3"
  },
  "language_info": {
   "codemirror_mode": {
    "name": "ipython",
    "version": 3
   },
   "file_extension": ".py",
   "mimetype": "text/x-python",
   "name": "python",
   "nbconvert_exporter": "python",
   "pygments_lexer": "ipython3",
   "version": "3.13.2"
  }
 },
 "nbformat": 4,
 "nbformat_minor": 5
}
