{
 "cells": [
  {
   "cell_type": "markdown",
   "id": "22f51384",
   "metadata": {},
   "source": [
    "Você trabalha em uma empresa de e-commerce e recebeu o desafio de calcular o Ticket Médio por Cliente para cada pedido registrado no sistema. O Ticket Médio é definido como o valor total do pedido dividido pelo número de clientes que participaram da compra (neste caso, sempre será 1 cliente por pedido, mas vamos deixar o cálculo genérico para casos futuros).\n",
    "\n",
    "O DataFrame contém as seguintes colunas iniciais:\n",
    "\n",
    "- PedidoID: Identificador único do pedido.\n",
    "\n",
    "- Cliente: Nome do cliente que realizou o pedido.\n",
    "\n",
    "- ValorTotal: Valor total do pedido (em reais).\n",
    "\n",
    "- QuantidadeItens: Quantidade de itens comprados no pedido.\n"
   ]
  },
  {
   "cell_type": "code",
   "execution_count": 2,
   "id": "2db6e2d8",
   "metadata": {},
   "outputs": [],
   "source": [
    "import pandas as pd\n",
    "\n",
    "# Dados das vendas\n",
    "dados = {\n",
    "    'PedidoID': [101, 102, 103, 104, 105],\n",
    "    'Cliente': ['Alice', 'Bruno', 'Carla', 'Daniel', 'Eduarda'],\n",
    "    'ValorTotal': [150.00, 200.00, 300.00, 120.00, 500.00],\n",
    "    'QuantidadeItens': [3, 4, 6, 2, 10]\n",
    "}\n",
    "\n",
    "# Criando o DataFrame\n",
    "df = pd.DataFrame(dados)"
   ]
  },
  {
   "attachments": {
    "image.png": {
     "image/png": "[encoded data removed]"
    }
   },
   "cell_type": "markdown",
   "id": "08df6948",
   "metadata": {},
   "source": [
    "#### Objetivo:\n",
    "\n",
    "1 - Crie a nova coluna TicketMedio como:\n",
    "\n",
    "![image.png](attachment:image.png)\n",
    "\n",
    "Fórmula para calcular o Ticket Médio: Ticket Médio = Valor Total / Quantidade de Itens.\n",
    "\n",
    "2 - Exiba as colunas PedidoID, Cliente, ValorTotal, QuantidadeItens e TicketMedio.\n",
    "\n",
    "A saída esperada deve ser semelhante ao seguinte:"
   ]
  },
  {
   "cell_type": "code",
   "execution_count": 5,
   "id": "53d2aad5",
   "metadata": {},
   "outputs": [
    {
     "data": {
      "text/html": [
       "<div>\n",
       "<style scoped>\n",
       "    .dataframe tbody tr th:only-of-type {\n",
       "        vertical-align: middle;\n",
       "    }\n",
       "\n",
       "    .dataframe tbody tr th {\n",
       "        vertical-align: top;\n",
       "    }\n",
       "\n",
       "    .dataframe thead th {\n",
       "        text-align: right;\n",
       "    }\n",
       "</style>\n",
       "<table border=\"1\" class=\"dataframe\">\n",
       "  <thead>\n",
       "    <tr style=\"text-align: right;\">\n",
       "      <th></th>\n",
       "      <th>PedidoID</th>\n",
       "      <th>Cliente</th>\n",
       "      <th>ValorTotal</th>\n",
       "      <th>QuantidadeItens</th>\n",
       "      <th>TicketMedio</th>\n",
       "    </tr>\n",
       "  </thead>\n",
       "  <tbody>\n",
       "    <tr>\n",
       "      <th>0</th>\n",
       "      <td>101</td>\n",
       "      <td>Alice</td>\n",
       "      <td>150.0</td>\n",
       "      <td>3</td>\n",
       "      <td>50.0</td>\n",
       "    </tr>\n",
       "    <tr>\n",
       "      <th>1</th>\n",
       "      <td>102</td>\n",
       "      <td>Bruno</td>\n",
       "      <td>200.0</td>\n",
       "      <td>4</td>\n",
       "      <td>50.0</td>\n",
       "    </tr>\n",
       "    <tr>\n",
       "      <th>2</th>\n",
       "      <td>103</td>\n",
       "      <td>Carla</td>\n",
       "      <td>300.0</td>\n",
       "      <td>6</td>\n",
       "      <td>50.0</td>\n",
       "    </tr>\n",
       "    <tr>\n",
       "      <th>3</th>\n",
       "      <td>104</td>\n",
       "      <td>Daniel</td>\n",
       "      <td>120.0</td>\n",
       "      <td>2</td>\n",
       "      <td>60.0</td>\n",
       "    </tr>\n",
       "    <tr>\n",
       "      <th>4</th>\n",
       "      <td>105</td>\n",
       "      <td>Eduarda</td>\n",
       "      <td>500.0</td>\n",
       "      <td>10</td>\n",
       "      <td>50.0</td>\n",
       "    </tr>\n",
       "  </tbody>\n",
       "</table>\n",
       "</div>"
      ],
      "text/plain": [
       "   PedidoID  Cliente  ValorTotal  QuantidadeItens  TicketMedio\n",
       "0       101    Alice       150.0                3         50.0\n",
       "1       102    Bruno       200.0                4         50.0\n",
       "2       103    Carla       300.0                6         50.0\n",
       "3       104   Daniel       120.0                2         60.0\n",
       "4       105  Eduarda       500.0               10         50.0"
      ]
     },
     "execution_count": 5,
     "metadata": {},
     "output_type": "execute_result"
    }
   ],
   "source": [
    "df['TicketMedio'] = df['ValorTotal'] / df['QuantidadeItens']\n",
    "\n",
    "df.head()"
   ]
  }
 ],
 "metadata": {
  "kernelspec": {
   "display_name": "my-ml-guide",
   "language": "python",
   "name": "python3"
  },
  "language_info": {
   "codemirror_mode": {
    "name": "ipython",
    "version": 3
   },
   "file_extension": ".py",
   "mimetype": "text/x-python",
   "name": "python",
   "nbconvert_exporter": "python",
   "pygments_lexer": "ipython3",
   "version": "3.13.2"
  }
 },
 "nbformat": 4,
 "nbformat_minor": 5
}
