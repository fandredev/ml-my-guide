{
 "cells": [
  {
   "attachments": {
    "image.png": {
     "image/png": "[encoded data removed]"
    }
   },
   "cell_type": "markdown",
   "id": "633a27e8",
   "metadata": {},
   "source": [
    "Você recebeu um conjunto de dados contendo informações financeiras de várias pessoas. O objetivo é calcular a porcentagem de economia de cada pessoa com base em seus ganhos e despesas.\n",
    "\n",
    "O DataFrame contém as seguintes colunas iniciais:\n",
    "\n",
    "- Pessoa: Nome da pessoa.\n",
    "\n",
    "- Ganhos: Total de ganhos mensais da pessoa (em reais).\n",
    "\n",
    "- Despesas: Total de despesas mensais da pessoa (em reais).\n",
    "\n",
    "\n",
    "Sua tarefa é:\n",
    "\n",
    "1 - Usar o método apply em conjunto com uma função lambda para calcular a porcentagem de economia de cada pessoa. A fórmula para calcular a porcentagem de economia é:\n",
    "\n",
    "![image.png](attachment:image.png)\n",
    "\n",
    "2 - Criar uma nova coluna chamada Economia (%) que armazene os valores calculados.\n",
    "\n",
    "3 - Exibir as colunas Pessoa, Ganhos, Despesas e Economia (%)."
   ]
  },
  {
   "cell_type": "code",
   "execution_count": 1,
   "id": "e0baf677",
   "metadata": {},
   "outputs": [],
   "source": [
    "import pandas as pd\n",
    "\n",
    "# Dados financeiros das pessoas\n",
    "data = {\n",
    "    'Pessoa': ['Ana', 'Bruno', 'Carla', 'Daniel', 'Eduarda', 'Felipe', 'Gabriela', 'Henrique'],\n",
    "    'Ganhos': [5000, 4000, 3500, 6000, 2500, 7000, 3000, 4500],\n",
    "    'Despesas': [3000, 2500, 2000, 5000, 2000, 6000, 2500, 4000]\n",
    "}\n",
    "\n",
    "# Criando o DataFrame\n",
    "df = pd.DataFrame(data)"
   ]
  },
  {
   "cell_type": "markdown",
   "id": "5b035642",
   "metadata": {},
   "source": [
    "#### Objetivo:\n",
    "\n",
    "- Usar o método apply com uma função lambda para calcular a porcentagem de economia de cada pessoa.\n",
    "\n",
    "- Criar a nova coluna Economia (%) no DataFrame.\n",
    "\n",
    "- Exibir as colunas Pessoa, Ganhos, Despesas e Economia (%)."
   ]
  },
  {
   "cell_type": "code",
   "execution_count": 13,
   "id": "1c6949ac",
   "metadata": {},
   "outputs": [
    {
     "data": {
      "text/html": [
       "<div>\n",
       "<style scoped>\n",
       "    .dataframe tbody tr th:only-of-type {\n",
       "        vertical-align: middle;\n",
       "    }\n",
       "\n",
       "    .dataframe tbody tr th {\n",
       "        vertical-align: top;\n",
       "    }\n",
       "\n",
       "    .dataframe thead th {\n",
       "        text-align: right;\n",
       "    }\n",
       "</style>\n",
       "<table border=\"1\" class=\"dataframe\">\n",
       "  <thead>\n",
       "    <tr style=\"text-align: right;\">\n",
       "      <th></th>\n",
       "      <th>Pessoa</th>\n",
       "      <th>Ganhos</th>\n",
       "      <th>Despesas</th>\n",
       "      <th>Economia (%)</th>\n",
       "    </tr>\n",
       "  </thead>\n",
       "  <tbody>\n",
       "    <tr>\n",
       "      <th>0</th>\n",
       "      <td>Ana</td>\n",
       "      <td>5000</td>\n",
       "      <td>3000</td>\n",
       "      <td>40.000000</td>\n",
       "    </tr>\n",
       "    <tr>\n",
       "      <th>1</th>\n",
       "      <td>Bruno</td>\n",
       "      <td>4000</td>\n",
       "      <td>2500</td>\n",
       "      <td>37.500000</td>\n",
       "    </tr>\n",
       "    <tr>\n",
       "      <th>2</th>\n",
       "      <td>Carla</td>\n",
       "      <td>3500</td>\n",
       "      <td>2000</td>\n",
       "      <td>42.857143</td>\n",
       "    </tr>\n",
       "    <tr>\n",
       "      <th>3</th>\n",
       "      <td>Daniel</td>\n",
       "      <td>6000</td>\n",
       "      <td>5000</td>\n",
       "      <td>16.666667</td>\n",
       "    </tr>\n",
       "    <tr>\n",
       "      <th>4</th>\n",
       "      <td>Eduarda</td>\n",
       "      <td>2500</td>\n",
       "      <td>2000</td>\n",
       "      <td>20.000000</td>\n",
       "    </tr>\n",
       "    <tr>\n",
       "      <th>5</th>\n",
       "      <td>Felipe</td>\n",
       "      <td>7000</td>\n",
       "      <td>6000</td>\n",
       "      <td>14.285714</td>\n",
       "    </tr>\n",
       "    <tr>\n",
       "      <th>6</th>\n",
       "      <td>Gabriela</td>\n",
       "      <td>3000</td>\n",
       "      <td>2500</td>\n",
       "      <td>16.666667</td>\n",
       "    </tr>\n",
       "    <tr>\n",
       "      <th>7</th>\n",
       "      <td>Henrique</td>\n",
       "      <td>4500</td>\n",
       "      <td>4000</td>\n",
       "      <td>11.111111</td>\n",
       "    </tr>\n",
       "  </tbody>\n",
       "</table>\n",
       "</div>"
      ],
      "text/plain": [
       "     Pessoa  Ganhos  Despesas  Economia (%)\n",
       "0       Ana    5000      3000     40.000000\n",
       "1     Bruno    4000      2500     37.500000\n",
       "2     Carla    3500      2000     42.857143\n",
       "3    Daniel    6000      5000     16.666667\n",
       "4   Eduarda    2500      2000     20.000000\n",
       "5    Felipe    7000      6000     14.285714\n",
       "6  Gabriela    3000      2500     16.666667\n",
       "7  Henrique    4500      4000     11.111111"
      ]
     },
     "execution_count": 13,
     "metadata": {},
     "output_type": "execute_result"
    }
   ],
   "source": [
    "df['Economia (%)'] = df.apply(\n",
    "    lambda x: ((x['Ganhos'] - x['Despesas']) / x['Ganhos']) * 100, axis=1\n",
    ")\n",
    "\n",
    "# Exibir as colunas relevantes\n",
    "df[['Pessoa', 'Ganhos', 'Despesas', 'Economia (%)']]"
   ]
  }
 ],
 "metadata": {
  "kernelspec": {
   "display_name": "my-ml-guide",
   "language": "python",
   "name": "python3"
  },
  "language_info": {
   "codemirror_mode": {
    "name": "ipython",
    "version": 3
   },
   "file_extension": ".py",
   "mimetype": "text/x-python",
   "name": "python",
   "nbconvert_exporter": "python",
   "pygments_lexer": "ipython3",
   "version": "3.13.2"
  }
 },
 "nbformat": 4,
 "nbformat_minor": 5
}
