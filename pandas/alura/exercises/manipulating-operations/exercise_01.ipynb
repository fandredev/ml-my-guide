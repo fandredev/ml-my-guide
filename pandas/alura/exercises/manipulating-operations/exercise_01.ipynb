{
  "cells": [
    {
      "cell_type": "markdown",
      "id": "1d1863d4",
      "metadata": {},
      "source": [
        "Você é um pesquisador em um instituto botânico e recebeu um conjunto de dados sobre plantas coletadas em diferentes regiões do país. Sua tarefa é analisar essas informações para entender a distribuição das plantas com base em suas alturas médias.\n",
        "\n",
        "Os dados estão organizados em um DataFrame chamado df_plantas, com as seguintes colunas:\n",
        "\n",
        "- Especie: O nome científico da planta.\n",
        "- Regiao: A região onde a planta foi coletada (Norte, Sul, Leste ou Oeste).\n",
        "\n",
        "- AlturaMedia: A altura média (em metros) da planta.\n",
        "\n",
        "Seu objetivo é dividir o DataFrame em dois subconjuntos com base na altura média das plantas:\n",
        "\n",
        "- Plantas baixas: Altura média menor ou igual a 15 metros.\n",
        "- Plantas altas: Altura média maior que 15 metros.\n",
        "\n",
        "Depois de dividir os dados, calcule a soma das alturas médias para cada grupo (plantas baixas e plantas altas) e exiba os resultados."
      ]
    },
    {
      "cell_type": "code",
      "execution_count": 1,
      "id": "75254204",
      "metadata": {},
      "outputs": [],
      "source": [
        "import pandas as pd\n",
        "\n",
        "data = {\n",
        "    'Especie': ['Mangifera indica', 'Eucalyptus globulus', 'Pinus elliottii', 'Anacardium occidentale',\n",
        "                'Coffea arabica', 'Hevea brasiliensis', 'Carica papaya', 'Theobroma cacao',\n",
        "                'Cocos nucifera', 'Bertholletia excelsa'],\n",
        "    'Regiao': ['Norte', 'Sul', 'Leste', 'Norte', 'Sul', 'Oeste', 'Leste', 'Norte', 'Oeste', 'Norte'],\n",
        "    'AlturaMedia': [15, 30, 25, 12, 3, 20, 5, 10, 18, 40]\n",
        "}\n",
        "\n",
        "df_plantas = pd.DataFrame(data)"
      ]
    },
    {
      "cell_type": "markdown",
      "id": "eb8de470",
      "metadata": {},
      "source": [
        "##### Objetivo:\n",
        "\n",
        "Divida o DataFrame em dois subconjuntos:\n",
        "\n",
        "- Um para plantas baixas (altura média menor ou igual a 15 metros).\n",
        "- Outro para plantas altas (altura média maior que 15 metros).\n",
        "\n",
        "Para cada subconjunto, calcule a soma da coluna AlturaMedia."
      ]
    },
    {
      "cell_type": "code",
      "execution_count": 2,
      "id": "f6598a08",
      "metadata": {},
      "outputs": [
        {
          "data": {
            "text/html": [
              "<div>\n",
              "<style scoped>\n",
              "    .dataframe tbody tr th:only-of-type {\n",
              "        vertical-align: middle;\n",
              "    }\n",
              "\n",
              "    .dataframe tbody tr th {\n",
              "        vertical-align: top;\n",
              "    }\n",
              "\n",
              "    .dataframe thead th {\n",
              "        text-align: right;\n",
              "    }\n",
              "</style>\n",
              "<table border=\"1\" class=\"dataframe\">\n",
              "  <thead>\n",
              "    <tr style=\"text-align: right;\">\n",
              "      <th></th>\n",
              "      <th>Especie</th>\n",
              "      <th>Regiao</th>\n",
              "      <th>AlturaMedia</th>\n",
              "    </tr>\n",
              "  </thead>\n",
              "  <tbody>\n",
              "    <tr>\n",
              "      <th>0</th>\n",
              "      <td>Mangifera indica</td>\n",
              "      <td>Norte</td>\n",
              "      <td>15</td>\n",
              "    </tr>\n",
              "    <tr>\n",
              "      <th>1</th>\n",
              "      <td>Eucalyptus globulus</td>\n",
              "      <td>Sul</td>\n",
              "      <td>30</td>\n",
              "    </tr>\n",
              "    <tr>\n",
              "      <th>2</th>\n",
              "      <td>Pinus elliottii</td>\n",
              "      <td>Leste</td>\n",
              "      <td>25</td>\n",
              "    </tr>\n",
              "    <tr>\n",
              "      <th>3</th>\n",
              "      <td>Anacardium occidentale</td>\n",
              "      <td>Norte</td>\n",
              "      <td>12</td>\n",
              "    </tr>\n",
              "    <tr>\n",
              "      <th>4</th>\n",
              "      <td>Coffea arabica</td>\n",
              "      <td>Sul</td>\n",
              "      <td>3</td>\n",
              "    </tr>\n",
              "    <tr>\n",
              "      <th>5</th>\n",
              "      <td>Hevea brasiliensis</td>\n",
              "      <td>Oeste</td>\n",
              "      <td>20</td>\n",
              "    </tr>\n",
              "    <tr>\n",
              "      <th>6</th>\n",
              "      <td>Carica papaya</td>\n",
              "      <td>Leste</td>\n",
              "      <td>5</td>\n",
              "    </tr>\n",
              "    <tr>\n",
              "      <th>7</th>\n",
              "      <td>Theobroma cacao</td>\n",
              "      <td>Norte</td>\n",
              "      <td>10</td>\n",
              "    </tr>\n",
              "    <tr>\n",
              "      <th>8</th>\n",
              "      <td>Cocos nucifera</td>\n",
              "      <td>Oeste</td>\n",
              "      <td>18</td>\n",
              "    </tr>\n",
              "    <tr>\n",
              "      <th>9</th>\n",
              "      <td>Bertholletia excelsa</td>\n",
              "      <td>Norte</td>\n",
              "      <td>40</td>\n",
              "    </tr>\n",
              "  </tbody>\n",
              "</table>\n",
              "</div>"
            ],
            "text/plain": [
              "                  Especie Regiao  AlturaMedia\n",
              "0        Mangifera indica  Norte           15\n",
              "1     Eucalyptus globulus    Sul           30\n",
              "2         Pinus elliottii  Leste           25\n",
              "3  Anacardium occidentale  Norte           12\n",
              "4          Coffea arabica    Sul            3\n",
              "5      Hevea brasiliensis  Oeste           20\n",
              "6           Carica papaya  Leste            5\n",
              "7         Theobroma cacao  Norte           10\n",
              "8          Cocos nucifera  Oeste           18\n",
              "9    Bertholletia excelsa  Norte           40"
            ]
          },
          "execution_count": 2,
          "metadata": {},
          "output_type": "execute_result"
        }
      ],
      "source": [
        "df_plantas"
      ]
    },
    {
      "cell_type": "code",
      "execution_count": 3,
      "id": "6f6ab74d",
      "metadata": {},
      "outputs": [],
      "source": [
        "# Filtrando plantas\n",
        "\n",
        "floor_plants = df_plantas.query('AlturaMedia <= 15')\n",
        "tall_plants = df_plantas.query('AlturaMedia > 15')"
      ]
    },
    {
      "cell_type": "code",
      "execution_count": 4,
      "id": "ed08b330",
      "metadata": {},
      "outputs": [
        {
          "name": "stdout",
          "output_type": "stream",
          "text": [
            "Grupo: Plantas Baixas\n",
            "Soma das Alturas Médias: 45m\n"
          ]
        }
      ],
      "source": [
        "# Soma de todas as plantas médias com menos ou igual a 15m\n",
        "\n",
        "sum_floor_plants = floor_plants['AlturaMedia'].sum()\n",
        "\n",
        "print(\n",
        "  f'Grupo: Plantas Baixas\\n'\n",
        "  f'Soma das Alturas Médias: {sum_floor_plants}m'\n",
        ")"
      ]
    },
    {
      "cell_type": "code",
      "execution_count": 5,
      "id": "4ba8a33d",
      "metadata": {},
      "outputs": [
        {
          "name": "stdout",
          "output_type": "stream",
          "text": [
            "Grupo: Plantas Altas\n",
            "Soma das Alturas Médias: 133m\n"
          ]
        }
      ],
      "source": [
        "# Soma de todas as plantas médias com mais de 15m\n",
        "\n",
        "sum_tall_plants = tall_plants['AlturaMedia'].sum()\n",
        "\n",
        "print(\n",
        "  f'Grupo: Plantas Altas\\n'\n",
        "  f'Soma das Alturas Médias: {sum_tall_plants}m'\n",
        ")"
      ]
    }
  ],
  "metadata": {
    "kernelspec": {
      "display_name": "my-ml-guide",
      "language": "python",
      "name": "python3"
    },
    "language_info": {
      "codemirror_mode": {
        "name": "ipython",
        "version": 3
      },
      "file_extension": ".py",
      "mimetype": "text/x-python",
      "name": "python",
      "nbconvert_exporter": "python",
      "pygments_lexer": "ipython3",
      "version": "3.13.2"
    }
  },
  "nbformat": 4,
  "nbformat_minor": 5
}
