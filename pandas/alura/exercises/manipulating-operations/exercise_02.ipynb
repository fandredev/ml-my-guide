{
 "cells": [
  {
   "cell_type": "markdown",
   "id": "03e1b39b",
   "metadata": {},
   "source": [
    "Sua tarefa agora é identificar plantas de grande porte.\n",
    "\n",
    "Para isso, foi definido o seguinte critério:\n",
    "\n",
    "Uma planta é considerada \"de grande porte\" se sua altura média for maior que 20 metros.\n",
    "Sua tarefa é criar uma nova coluna no DataFrame chamada \"GrandePorte\", que indique se cada planta atende ao critério de grande porte. Essa coluna deve conter valores True (se a planta for de grande porte) ou False (caso contrário)."
   ]
  },
  {
   "cell_type": "code",
   "execution_count": 3,
   "id": "a6b56ddf",
   "metadata": {},
   "outputs": [],
   "source": [
    "import pandas as pd\n",
    "\n",
    "# Dados das plantas\n",
    "data = {\n",
    "    'Especie': ['Mangifera indica', 'Eucalyptus globulus', 'Pinus elliottii', 'Anacardium occidentale',\n",
    "                'Coffea arabica', 'Hevea brasiliensis', 'Carica papaya', 'Theobroma cacao',\n",
    "                'Cocos nucifera', 'Bertholletia excelsa'],\n",
    "    'Regiao': ['Norte', 'Sul', 'Leste', 'Norte', 'Sul', 'Oeste', 'Leste', 'Norte', 'Oeste', 'Norte'],\n",
    "    'AlturaMedia': [15, 30, 25, 12, 3, 20, 5, 10, 18, 40]\n",
    "}\n",
    "\n",
    "# Criando o DataFrame\n",
    "df = pd.DataFrame(data)"
   ]
  },
  {
   "cell_type": "markdown",
   "id": "d24f5742",
   "metadata": {},
   "source": [
    "#### Objetivo:\n",
    "\n",
    "- Crie uma nova coluna chamada \"GrandePorte\" no DataFrame, que indique se a planta é de grande porte (altura média > 20 metros).\n",
    "\n",
    "- Exiba as primeiras linhas do DataFrame com a nova coluna, incluindo apenas as colunas Especie, AlturaMedia e GrandePorte."
   ]
  },
  {
   "cell_type": "code",
   "execution_count": 8,
   "id": "ef0a12fa",
   "metadata": {},
   "outputs": [
    {
     "data": {
      "text/html": [
       "<div>\n",
       "<style scoped>\n",
       "    .dataframe tbody tr th:only-of-type {\n",
       "        vertical-align: middle;\n",
       "    }\n",
       "\n",
       "    .dataframe tbody tr th {\n",
       "        vertical-align: top;\n",
       "    }\n",
       "\n",
       "    .dataframe thead th {\n",
       "        text-align: right;\n",
       "    }\n",
       "</style>\n",
       "<table border=\"1\" class=\"dataframe\">\n",
       "  <thead>\n",
       "    <tr style=\"text-align: right;\">\n",
       "      <th></th>\n",
       "      <th>Especie</th>\n",
       "      <th>AlturaMedia</th>\n",
       "      <th>GrandePorte</th>\n",
       "    </tr>\n",
       "  </thead>\n",
       "  <tbody>\n",
       "    <tr>\n",
       "      <th>0</th>\n",
       "      <td>Mangifera indica</td>\n",
       "      <td>15</td>\n",
       "      <td>False</td>\n",
       "    </tr>\n",
       "    <tr>\n",
       "      <th>1</th>\n",
       "      <td>Eucalyptus globulus</td>\n",
       "      <td>30</td>\n",
       "      <td>True</td>\n",
       "    </tr>\n",
       "    <tr>\n",
       "      <th>2</th>\n",
       "      <td>Pinus elliottii</td>\n",
       "      <td>25</td>\n",
       "      <td>True</td>\n",
       "    </tr>\n",
       "    <tr>\n",
       "      <th>3</th>\n",
       "      <td>Anacardium occidentale</td>\n",
       "      <td>12</td>\n",
       "      <td>False</td>\n",
       "    </tr>\n",
       "    <tr>\n",
       "      <th>4</th>\n",
       "      <td>Coffea arabica</td>\n",
       "      <td>3</td>\n",
       "      <td>False</td>\n",
       "    </tr>\n",
       "  </tbody>\n",
       "</table>\n",
       "</div>"
      ],
      "text/plain": [
       "                  Especie  AlturaMedia  GrandePorte\n",
       "0        Mangifera indica           15        False\n",
       "1     Eucalyptus globulus           30         True\n",
       "2         Pinus elliottii           25         True\n",
       "3  Anacardium occidentale           12        False\n",
       "4          Coffea arabica            3        False"
      ]
     },
     "execution_count": 8,
     "metadata": {},
     "output_type": "execute_result"
    }
   ],
   "source": [
    "df['GrandePorte'] = df['AlturaMedia'].apply(lambda x: True if x > 20 else False)\n",
    "\n",
    "df[['Especie', 'AlturaMedia', 'GrandePorte']].head()"
   ]
  }
 ],
 "metadata": {
  "kernelspec": {
   "display_name": "my-ml-guide",
   "language": "python",
   "name": "python3"
  },
  "language_info": {
   "codemirror_mode": {
    "name": "ipython",
    "version": 3
   },
   "file_extension": ".py",
   "mimetype": "text/x-python",
   "name": "python",
   "nbconvert_exporter": "python",
   "pygments_lexer": "ipython3",
   "version": "3.13.2"
  }
 },
 "nbformat": 4,
 "nbformat_minor": 5
}
