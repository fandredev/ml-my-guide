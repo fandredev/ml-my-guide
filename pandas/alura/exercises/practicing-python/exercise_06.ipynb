{
 "cells": [
  {
   "cell_type": "markdown",
   "id": "2f27d088",
   "metadata": {},
   "source": [
    "Cristina recebeu um arquivo JSON com dados importantes para sua avaliação de lojas. Contudo, ao aplicar a função json_normalize, o resultado obtido não foi um DataFrame normalizado e organizado como esperado:\n",
    "\n",
    "Ajude Cristina a criar um DataFrame que permita a manipulação adequada de todos os dados.\n",
    "\n"
   ]
  },
  {
   "cell_type": "code",
   "execution_count": 1,
   "id": "e973ad48",
   "metadata": {},
   "outputs": [],
   "source": [
    "import pandas as pd\n",
    "import requests\n",
    "from http import HTTPStatus"
   ]
  },
  {
   "cell_type": "code",
   "execution_count": 4,
   "id": "db542d81",
   "metadata": {},
   "outputs": [
    {
     "data": {
      "text/html": [
       "<div>\n",
       "<style scoped>\n",
       "    .dataframe tbody tr th:only-of-type {\n",
       "        vertical-align: middle;\n",
       "    }\n",
       "\n",
       "    .dataframe tbody tr th {\n",
       "        vertical-align: top;\n",
       "    }\n",
       "\n",
       "    .dataframe thead th {\n",
       "        text-align: right;\n",
       "    }\n",
       "</style>\n",
       "<table border=\"1\" class=\"dataframe\">\n",
       "  <thead>\n",
       "    <tr style=\"text-align: right;\">\n",
       "      <th></th>\n",
       "      <th>id_loja</th>\n",
       "      <th>nome_loja</th>\n",
       "      <th>cidade</th>\n",
       "      <th>estado</th>\n",
       "      <th>categoria</th>\n",
       "      <th>vendas_mensais</th>\n",
       "      <th>faturamento_mensal</th>\n",
       "    </tr>\n",
       "  </thead>\n",
       "  <tbody>\n",
       "    <tr>\n",
       "      <th>0</th>\n",
       "      <td>5</td>\n",
       "      <td>Loja Épsilon</td>\n",
       "      <td>Salvador</td>\n",
       "      <td>BA</td>\n",
       "      <td>Livros</td>\n",
       "      <td>300</td>\n",
       "      <td>75000.0</td>\n",
       "    </tr>\n",
       "    <tr>\n",
       "      <th>1</th>\n",
       "      <td>6</td>\n",
       "      <td>Loja Zeta</td>\n",
       "      <td>Fortaleza</td>\n",
       "      <td>CE</td>\n",
       "      <td>Eletrônicos</td>\n",
       "      <td>100</td>\n",
       "      <td>50000.0</td>\n",
       "    </tr>\n",
       "    <tr>\n",
       "      <th>2</th>\n",
       "      <td>7</td>\n",
       "      <td>Loja Eta</td>\n",
       "      <td>Porto Alegre</td>\n",
       "      <td>RS</td>\n",
       "      <td>Roupas</td>\n",
       "      <td>250</td>\n",
       "      <td>87500.0</td>\n",
       "    </tr>\n",
       "    <tr>\n",
       "      <th>3</th>\n",
       "      <td>8</td>\n",
       "      <td>Loja Theta</td>\n",
       "      <td>Manaus</td>\n",
       "      <td>AM</td>\n",
       "      <td>Calçados</td>\n",
       "      <td>70</td>\n",
       "      <td>21000.0</td>\n",
       "    </tr>\n",
       "  </tbody>\n",
       "</table>\n",
       "</div>"
      ],
      "text/plain": [
       "   id_loja     nome_loja        cidade estado    categoria  vendas_mensais  \\\n",
       "0        5  Loja Épsilon      Salvador     BA       Livros             300   \n",
       "1        6     Loja Zeta     Fortaleza     CE  Eletrônicos             100   \n",
       "2        7      Loja Eta  Porto Alegre     RS       Roupas             250   \n",
       "3        8    Loja Theta        Manaus     AM     Calçados              70   \n",
       "\n",
       "   faturamento_mensal  \n",
       "0             75000.0  \n",
       "1             50000.0  \n",
       "2             87500.0  \n",
       "3             21000.0  "
      ]
     },
     "execution_count": 4,
     "metadata": {},
     "output_type": "execute_result"
    }
   ],
   "source": [
    "r = requests.get('https://cdn3.gnarususercontent.com.br/4416-python-normalizando-arquivos-json/Projeto/Arquivos%20de%20atividades/questao_6.json')\n",
    "\n",
    "if r.status_code == HTTPStatus.OK:\n",
    "    data = r.json()\n",
    "    df = pd.json_normalize(data, record_path=['lista_lojas'])\n",
    "df\n"
   ]
  }
 ],
 "metadata": {
  "kernelspec": {
   "display_name": "my-ml-guide",
   "language": "python",
   "name": "python3"
  },
  "language_info": {
   "codemirror_mode": {
    "name": "ipython",
    "version": 3
   },
   "file_extension": ".py",
   "mimetype": "text/x-python",
   "name": "python",
   "nbconvert_exporter": "python",
   "pygments_lexer": "ipython3",
   "version": "3.13.2"
  }
 },
 "nbformat": 4,
 "nbformat_minor": 5
}
