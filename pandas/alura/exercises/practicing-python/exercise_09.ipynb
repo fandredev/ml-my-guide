{
 "cells": [
  {
   "cell_type": "markdown",
   "id": "fbfc8ab6",
   "metadata": {},
   "source": [
    "Após aplicar a normalização em uma lista presente no banco de dados, Diego percebeu que algumas colunas estavam ausentes no DataFrame resultante, embora estivessem nos dados originais. Ele sabe que o conjunto de dados deveria conter as seguintes colunas:\n",
    "\n",
    "\n",
    "['cidade', 'estado', 'categoria', 'vendas_mensais', 'faturamento_mensal', 'id_loja', 'nome_loja']\n",
    "\n",
    "\n",
    "No entanto, após aplicar a função json_normalize, as colunas 'id_loja' e 'nome_loja' não foram incluídas no DataFrame."
   ]
  },
  {
   "cell_type": "code",
   "execution_count": 1,
   "id": "cf231399",
   "metadata": {},
   "outputs": [],
   "source": [
    "import pandas as pd\n",
    "import requests\n",
    "from http import HTTPStatus"
   ]
  },
  {
   "cell_type": "code",
   "execution_count": 5,
   "id": "d900c6ff",
   "metadata": {},
   "outputs": [
    {
     "data": {
      "text/html": [
       "<div>\n",
       "<style scoped>\n",
       "    .dataframe tbody tr th:only-of-type {\n",
       "        vertical-align: middle;\n",
       "    }\n",
       "\n",
       "    .dataframe tbody tr th {\n",
       "        vertical-align: top;\n",
       "    }\n",
       "\n",
       "    .dataframe thead th {\n",
       "        text-align: right;\n",
       "    }\n",
       "</style>\n",
       "<table border=\"1\" class=\"dataframe\">\n",
       "  <thead>\n",
       "    <tr style=\"text-align: right;\">\n",
       "      <th></th>\n",
       "      <th>cidade</th>\n",
       "      <th>estado</th>\n",
       "      <th>categoria</th>\n",
       "      <th>vendas_mensais</th>\n",
       "      <th>faturamento_mensal</th>\n",
       "      <th>id_loja</th>\n",
       "      <th>nome_loja</th>\n",
       "    </tr>\n",
       "  </thead>\n",
       "  <tbody>\n",
       "    <tr>\n",
       "      <th>0</th>\n",
       "      <td>Natal</td>\n",
       "      <td>RN</td>\n",
       "      <td>Calçados</td>\n",
       "      <td>140</td>\n",
       "      <td>42000.0</td>\n",
       "      <td>13</td>\n",
       "      <td>Loja Nu</td>\n",
       "    </tr>\n",
       "    <tr>\n",
       "      <th>1</th>\n",
       "      <td>Goiânia</td>\n",
       "      <td>GO</td>\n",
       "      <td>Acessórios</td>\n",
       "      <td>75</td>\n",
       "      <td>22500.0</td>\n",
       "      <td>14</td>\n",
       "      <td>Loja Xi</td>\n",
       "    </tr>\n",
       "    <tr>\n",
       "      <th>2</th>\n",
       "      <td>São Luís</td>\n",
       "      <td>MA</td>\n",
       "      <td>Livros</td>\n",
       "      <td>210</td>\n",
       "      <td>63000.0</td>\n",
       "      <td>15</td>\n",
       "      <td>Loja Omicron</td>\n",
       "    </tr>\n",
       "    <tr>\n",
       "      <th>3</th>\n",
       "      <td>Maceió</td>\n",
       "      <td>AL</td>\n",
       "      <td>Eletrônicos</td>\n",
       "      <td>50</td>\n",
       "      <td>25000.0</td>\n",
       "      <td>16</td>\n",
       "      <td>Loja Pi</td>\n",
       "    </tr>\n",
       "  </tbody>\n",
       "</table>\n",
       "</div>"
      ],
      "text/plain": [
       "     cidade estado    categoria  vendas_mensais  faturamento_mensal id_loja  \\\n",
       "0     Natal     RN     Calçados             140             42000.0      13   \n",
       "1   Goiânia     GO   Acessórios              75             22500.0      14   \n",
       "2  São Luís     MA       Livros             210             63000.0      15   \n",
       "3    Maceió     AL  Eletrônicos              50             25000.0      16   \n",
       "\n",
       "      nome_loja  \n",
       "0       Loja Nu  \n",
       "1       Loja Xi  \n",
       "2  Loja Omicron  \n",
       "3       Loja Pi  "
      ]
     },
     "execution_count": 5,
     "metadata": {},
     "output_type": "execute_result"
    }
   ],
   "source": [
    "r = requests.get('https://cdn3.gnarususercontent.com.br/4416-python-normalizando-arquivos-json/Projeto/Arquivos%20de%20atividades/questao_9.json')\n",
    "\n",
    "if r.status_code == HTTPStatus.OK:\n",
    "    data = r.json()\n",
    "    df = pd.json_normalize(data, record_path=['vendas'], meta=['id_loja', 'nome_loja'])\n",
    "df\n"
   ]
  }
 ],
 "metadata": {
  "kernelspec": {
   "display_name": "my-ml-guide",
   "language": "python",
   "name": "python3"
  },
  "language_info": {
   "codemirror_mode": {
    "name": "ipython",
    "version": 3
   },
   "file_extension": ".py",
   "mimetype": "text/x-python",
   "name": "python",
   "nbconvert_exporter": "python",
   "pygments_lexer": "ipython3",
   "version": "3.13.2"
  }
 },
 "nbformat": 4,
 "nbformat_minor": 5
}
