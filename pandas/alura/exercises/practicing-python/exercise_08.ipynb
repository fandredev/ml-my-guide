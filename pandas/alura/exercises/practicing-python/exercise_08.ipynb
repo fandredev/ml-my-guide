{
 "cells": [
  {
   "cell_type": "markdown",
   "id": "9f6af96a",
   "metadata": {},
   "source": [
    "Paula está trabalhando com um conjunto de dados que contém duas listas aninhadas dentro de uma chave chamada lojas. Devido a essa estrutura, ela está enfrentando dificuldades para transformar o documento em um DataFrame manipulável.\n",
    "\n",
    "Ajude Paula a estruturar os dados em um DataFrame adequado para análise.\n",
    "\n"
   ]
  },
  {
   "cell_type": "code",
   "execution_count": 16,
   "id": "6ea59799",
   "metadata": {},
   "outputs": [],
   "source": [
    "import pandas as pd\n",
    "import requests\n",
    "from http import HTTPStatus"
   ]
  },
  {
   "cell_type": "code",
   "execution_count": 19,
   "id": "95967b0e",
   "metadata": {},
   "outputs": [
    {
     "data": {
      "text/html": [
       "<div>\n",
       "<style scoped>\n",
       "    .dataframe tbody tr th:only-of-type {\n",
       "        vertical-align: middle;\n",
       "    }\n",
       "\n",
       "    .dataframe tbody tr th {\n",
       "        vertical-align: top;\n",
       "    }\n",
       "\n",
       "    .dataframe thead th {\n",
       "        text-align: right;\n",
       "    }\n",
       "</style>\n",
       "<table border=\"1\" class=\"dataframe\">\n",
       "  <thead>\n",
       "    <tr style=\"text-align: right;\">\n",
       "      <th></th>\n",
       "      <th>id_loja</th>\n",
       "      <th>nome_loja</th>\n",
       "      <th>cidade</th>\n",
       "      <th>estado</th>\n",
       "      <th>categoria</th>\n",
       "      <th>vendas_mensais</th>\n",
       "      <th>faturamento_mensal</th>\n",
       "    </tr>\n",
       "  </thead>\n",
       "  <tbody>\n",
       "    <tr>\n",
       "      <th>0</th>\n",
       "      <td>9</td>\n",
       "      <td>Loja Iota</td>\n",
       "      <td>Recife</td>\n",
       "      <td>PE</td>\n",
       "      <td>Acessórios</td>\n",
       "      <td>95</td>\n",
       "      <td>28500.0</td>\n",
       "    </tr>\n",
       "    <tr>\n",
       "      <th>1</th>\n",
       "      <td>10</td>\n",
       "      <td>Loja Kappa</td>\n",
       "      <td>Fortaleza</td>\n",
       "      <td>CE</td>\n",
       "      <td>Livros</td>\n",
       "      <td>180</td>\n",
       "      <td>54000.0</td>\n",
       "    </tr>\n",
       "    <tr>\n",
       "      <th>0</th>\n",
       "      <td>11</td>\n",
       "      <td>Loja Lambda</td>\n",
       "      <td>Manaus</td>\n",
       "      <td>AM</td>\n",
       "      <td>Eletrônicos</td>\n",
       "      <td>220</td>\n",
       "      <td>110000.0</td>\n",
       "    </tr>\n",
       "    <tr>\n",
       "      <th>1</th>\n",
       "      <td>12</td>\n",
       "      <td>Loja Mu</td>\n",
       "      <td>Belém</td>\n",
       "      <td>PA</td>\n",
       "      <td>Roupas</td>\n",
       "      <td>160</td>\n",
       "      <td>48000.0</td>\n",
       "    </tr>\n",
       "  </tbody>\n",
       "</table>\n",
       "</div>"
      ],
      "text/plain": [
       "   id_loja    nome_loja     cidade estado    categoria  vendas_mensais  \\\n",
       "0        9    Loja Iota     Recife     PE   Acessórios              95   \n",
       "1       10   Loja Kappa  Fortaleza     CE       Livros             180   \n",
       "0       11  Loja Lambda     Manaus     AM  Eletrônicos             220   \n",
       "1       12      Loja Mu      Belém     PA       Roupas             160   \n",
       "\n",
       "   faturamento_mensal  \n",
       "0             28500.0  \n",
       "1             54000.0  \n",
       "0            110000.0  \n",
       "1             48000.0  "
      ]
     },
     "execution_count": 19,
     "metadata": {},
     "output_type": "execute_result"
    }
   ],
   "source": [
    "r = requests.get('https://cdn3.gnarususercontent.com.br/4416-python-normalizando-arquivos-json/Projeto/Arquivos%20de%20atividades/questao_8.json')\n",
    "\n",
    "if r.status_code == HTTPStatus.OK:\n",
    "    data = r.json()\n",
    "    df_lojas_nordeste = pd.json_normalize(data, record_path=['lojas', 'lojas_nordeste'])\n",
    "    df_lojas_norte = pd.json_normalize(data, record_path=['lojas', 'lojas_norte'])\n",
    "\n",
    "    df = pd.concat([df_lojas_nordeste, df_lojas_norte])\n",
    "df\n"
   ]
  }
 ],
 "metadata": {
  "kernelspec": {
   "display_name": "my-ml-guide",
   "language": "python",
   "name": "python3"
  },
  "language_info": {
   "codemirror_mode": {
    "name": "ipython",
    "version": 3
   },
   "file_extension": ".py",
   "mimetype": "text/x-python",
   "name": "python",
   "nbconvert_exporter": "python",
   "pygments_lexer": "ipython3",
   "version": "3.13.2"
  }
 },
 "nbformat": 4,
 "nbformat_minor": 5
}
