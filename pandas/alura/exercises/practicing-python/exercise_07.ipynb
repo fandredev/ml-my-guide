{
 "cells": [
  {
   "cell_type": "markdown",
   "id": "2134f0f5",
   "metadata": {},
   "source": [
    "Juan recebeu um conjunto de dados em formato JSON e precisa normalizá-lo para acessar as informações de maneira estruturada. No entanto, ao utilizar json_normalize, ele identificou que o arquivo continha duas listas:\n",
    "\n",
    "Como Juan pode estruturar esses dados em um único DataFrame?\n",
    "\n"
   ]
  },
  {
   "cell_type": "code",
   "execution_count": 1,
   "id": "62738591",
   "metadata": {},
   "outputs": [],
   "source": [
    "import pandas as pd\n",
    "import requests\n",
    "from http import HTTPStatus"
   ]
  },
  {
   "cell_type": "code",
   "execution_count": 15,
   "id": "48451482",
   "metadata": {},
   "outputs": [
    {
     "data": {
      "text/html": [
       "<div>\n",
       "<style scoped>\n",
       "    .dataframe tbody tr th:only-of-type {\n",
       "        vertical-align: middle;\n",
       "    }\n",
       "\n",
       "    .dataframe tbody tr th {\n",
       "        vertical-align: top;\n",
       "    }\n",
       "\n",
       "    .dataframe thead th {\n",
       "        text-align: right;\n",
       "    }\n",
       "</style>\n",
       "<table border=\"1\" class=\"dataframe\">\n",
       "  <thead>\n",
       "    <tr style=\"text-align: right;\">\n",
       "      <th></th>\n",
       "      <th>id_loja</th>\n",
       "      <th>nome_loja</th>\n",
       "      <th>cidade</th>\n",
       "      <th>estado</th>\n",
       "      <th>categoria</th>\n",
       "      <th>vendas_mensais</th>\n",
       "      <th>faturamento_mensal</th>\n",
       "    </tr>\n",
       "  </thead>\n",
       "  <tbody>\n",
       "    <tr>\n",
       "      <th>0</th>\n",
       "      <td>1</td>\n",
       "      <td>Loja Alpha</td>\n",
       "      <td>São Paulo</td>\n",
       "      <td>SP</td>\n",
       "      <td>Eletrônicos</td>\n",
       "      <td>150</td>\n",
       "      <td>45000.0</td>\n",
       "    </tr>\n",
       "    <tr>\n",
       "      <th>1</th>\n",
       "      <td>2</td>\n",
       "      <td>Loja Beta</td>\n",
       "      <td>Rio de Janeiro</td>\n",
       "      <td>RJ</td>\n",
       "      <td>Roupas</td>\n",
       "      <td>200</td>\n",
       "      <td>60000.0</td>\n",
       "    </tr>\n",
       "    <tr>\n",
       "      <th>2</th>\n",
       "      <td>3</td>\n",
       "      <td>Loja Gamma</td>\n",
       "      <td>Belo Horizonte</td>\n",
       "      <td>MG</td>\n",
       "      <td>Calçados</td>\n",
       "      <td>120</td>\n",
       "      <td>36000.0</td>\n",
       "    </tr>\n",
       "    <tr>\n",
       "      <th>3</th>\n",
       "      <td>4</td>\n",
       "      <td>Loja Delta</td>\n",
       "      <td>Curitiba</td>\n",
       "      <td>PR</td>\n",
       "      <td>Acessórios</td>\n",
       "      <td>80</td>\n",
       "      <td>24000.0</td>\n",
       "    </tr>\n",
       "  </tbody>\n",
       "</table>\n",
       "</div>"
      ],
      "text/plain": [
       "   id_loja   nome_loja          cidade estado    categoria  vendas_mensais  \\\n",
       "0        1  Loja Alpha       São Paulo     SP  Eletrônicos             150   \n",
       "1        2   Loja Beta  Rio de Janeiro     RJ       Roupas             200   \n",
       "2        3  Loja Gamma  Belo Horizonte     MG     Calçados             120   \n",
       "3        4  Loja Delta        Curitiba     PR   Acessórios              80   \n",
       "\n",
       "   faturamento_mensal  \n",
       "0             45000.0  \n",
       "1             60000.0  \n",
       "2             36000.0  \n",
       "3             24000.0  "
      ]
     },
     "execution_count": 15,
     "metadata": {},
     "output_type": "execute_result"
    }
   ],
   "source": [
    "r = requests.get('https://cdn3.gnarususercontent.com.br/4416-python-normalizando-arquivos-json/Projeto/Arquivos%20de%20atividades/questao_7.json')\n",
    "\n",
    "if r.status_code == HTTPStatus.OK:\n",
    "    data = r.json()\n",
    "    df_lojas_sudeste = pd.json_normalize(data, record_path=['lojas_sudeste'])\n",
    "    df_lojas_sul = pd.json_normalize(data, record_path=['lojas_sul'])\n",
    "\n",
    "    df = pd.concat([df_lojas_sudeste, df_lojas_sul], ignore_index=True)\n",
    "\n",
    "df\n",
    "\n"
   ]
  }
 ],
 "metadata": {
  "kernelspec": {
   "display_name": "my-ml-guide",
   "language": "python",
   "name": "python3"
  },
  "language_info": {
   "codemirror_mode": {
    "name": "ipython",
    "version": 3
   },
   "file_extension": ".py",
   "mimetype": "text/x-python",
   "name": "python",
   "nbconvert_exporter": "python",
   "pygments_lexer": "ipython3",
   "version": "3.13.2"
  }
 },
 "nbformat": 4,
 "nbformat_minor": 5
}
