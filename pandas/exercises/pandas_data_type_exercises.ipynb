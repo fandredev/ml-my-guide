{
 "cells": [
  {
   "cell_type": "code",
   "execution_count": 421,
   "id": "752563f6",
   "metadata": {},
   "outputs": [],
   "source": [
    "import pandas as pd\n",
    "import numpy as np"
   ]
  },
  {
   "cell_type": "markdown",
   "id": "c9d8f529",
   "metadata": {},
   "source": [
    "# Exercise 1:\n",
    "\n",
    "You have a DataFrame with the columns [\"age\", \"salary\"] as strings.\n",
    "\n",
    "- Convert these columns to the appropriate numeric type."
   ]
  },
  {
   "cell_type": "code",
   "execution_count": 422,
   "id": "15274b18",
   "metadata": {},
   "outputs": [],
   "source": [
    "data = {\n",
    "  'age': ['30', '50', '25', '40', '35', '45', '28', '55', '32', '38'],\n",
    "  'salary': ['1500', '7000', '1200', '5000', '3000', '6000', '1800', '8000', '2500', '4500'],\n",
    "  'sectors': [np.nan, 'rh', 'ti', 'ml', 'ia', 'dp', ['financeiro', 'dp'], ['eng', 'limpeza'], 'psico', 'limpeza'],\n",
    "}\n",
    "\n",
    "df = pd.DataFrame(data)\n"
   ]
  },
  {
   "cell_type": "code",
   "execution_count": 423,
   "id": "1d904e13",
   "metadata": {},
   "outputs": [
    {
     "name": "stdout",
     "output_type": "stream",
     "text": [
      "<class 'pandas.core.frame.DataFrame'>\n",
      "RangeIndex: 10 entries, 0 to 9\n",
      "Data columns (total 3 columns):\n",
      " #   Column   Non-Null Count  Dtype \n",
      "---  ------   --------------  ----- \n",
      " 0   age      10 non-null     int8  \n",
      " 1   salary   10 non-null     int16 \n",
      " 2   sectors  9 non-null      object\n",
      "dtypes: int16(1), int8(1), object(1)\n",
      "memory usage: 242.0+ bytes\n"
     ]
    }
   ],
   "source": [
    "df['age'] = df['age'].astype(np.int8)\n",
    "df['salary'] = df['salary'].astype(np.int16)\n",
    "\n",
    "df.info()"
   ]
  },
  {
   "cell_type": "markdown",
   "id": "37426e77",
   "metadata": {},
   "source": [
    "# Exercise 2"
   ]
  },
  {
   "cell_type": "markdown",
   "id": "59bc5f8f",
   "metadata": {},
   "source": [
    "The column `birth_data` is in string format (object).\n",
    "- Convert this column to datetime type."
   ]
  },
  {
   "cell_type": "code",
   "execution_count": 424,
   "id": "daef61fa",
   "metadata": {},
   "outputs": [],
   "source": [
    "# Inserindo uma coluna nova na posição 2 do dataframe\n",
    "\n",
    "df.insert(loc=2, column='birth_data', value=\"1999-01-19\")"
   ]
  },
  {
   "cell_type": "code",
   "execution_count": 425,
   "id": "43201651",
   "metadata": {},
   "outputs": [
    {
     "name": "stdout",
     "output_type": "stream",
     "text": [
      "<class 'pandas.core.frame.DataFrame'>\n",
      "RangeIndex: 10 entries, 0 to 9\n",
      "Data columns (total 4 columns):\n",
      " #   Column      Non-Null Count  Dtype         \n",
      "---  ------      --------------  -----         \n",
      " 0   age         10 non-null     int8          \n",
      " 1   salary      10 non-null     int16         \n",
      " 2   birth_data  10 non-null     datetime64[ns]\n",
      " 3   sectors     9 non-null      object        \n",
      "dtypes: datetime64[ns](1), int16(1), int8(1), object(1)\n",
      "memory usage: 322.0+ bytes\n"
     ]
    }
   ],
   "source": [
    "df['birth_data'] = pd.to_datetime(df['birth_data'])\n",
    "\n",
    "df.info()\n",
    "\n",
    "# df['birth_data'].dt.year\n",
    "# df['birth_data'].dt.month_name()\n",
    "# df['birth_data'].dt.day_name()\n"
   ]
  },
  {
   "cell_type": "markdown",
   "id": "2705d7b3",
   "metadata": {},
   "source": [
    "# Exercise 3\n",
    "\n",
    "- Convert all columns in the DataFrame that contain boolean values (True/False) to integers (0/1)."
   ]
  },
  {
   "cell_type": "code",
   "execution_count": 426,
   "id": "14768550",
   "metadata": {},
   "outputs": [],
   "source": [
    "df.insert(loc=3, column='have_job', value=True)"
   ]
  },
  {
   "cell_type": "code",
   "execution_count": 427,
   "id": "e132d2c1",
   "metadata": {},
   "outputs": [
    {
     "data": {
      "text/html": [
       "<div>\n",
       "<style scoped>\n",
       "    .dataframe tbody tr th:only-of-type {\n",
       "        vertical-align: middle;\n",
       "    }\n",
       "\n",
       "    .dataframe tbody tr th {\n",
       "        vertical-align: top;\n",
       "    }\n",
       "\n",
       "    .dataframe thead th {\n",
       "        text-align: right;\n",
       "    }\n",
       "</style>\n",
       "<table border=\"1\" class=\"dataframe\">\n",
       "  <thead>\n",
       "    <tr style=\"text-align: right;\">\n",
       "      <th></th>\n",
       "      <th>age</th>\n",
       "      <th>salary</th>\n",
       "      <th>birth_data</th>\n",
       "      <th>have_job</th>\n",
       "      <th>sectors</th>\n",
       "    </tr>\n",
       "  </thead>\n",
       "  <tbody>\n",
       "    <tr>\n",
       "      <th>0</th>\n",
       "      <td>30</td>\n",
       "      <td>1500</td>\n",
       "      <td>1999-01-19</td>\n",
       "      <td>1</td>\n",
       "      <td>NaN</td>\n",
       "    </tr>\n",
       "    <tr>\n",
       "      <th>1</th>\n",
       "      <td>50</td>\n",
       "      <td>7000</td>\n",
       "      <td>1999-01-19</td>\n",
       "      <td>1</td>\n",
       "      <td>rh</td>\n",
       "    </tr>\n",
       "    <tr>\n",
       "      <th>2</th>\n",
       "      <td>25</td>\n",
       "      <td>1200</td>\n",
       "      <td>1999-01-19</td>\n",
       "      <td>1</td>\n",
       "      <td>ti</td>\n",
       "    </tr>\n",
       "    <tr>\n",
       "      <th>3</th>\n",
       "      <td>40</td>\n",
       "      <td>5000</td>\n",
       "      <td>1999-01-19</td>\n",
       "      <td>1</td>\n",
       "      <td>ml</td>\n",
       "    </tr>\n",
       "    <tr>\n",
       "      <th>4</th>\n",
       "      <td>35</td>\n",
       "      <td>3000</td>\n",
       "      <td>1999-01-19</td>\n",
       "      <td>1</td>\n",
       "      <td>ia</td>\n",
       "    </tr>\n",
       "    <tr>\n",
       "      <th>5</th>\n",
       "      <td>45</td>\n",
       "      <td>6000</td>\n",
       "      <td>1999-01-19</td>\n",
       "      <td>1</td>\n",
       "      <td>dp</td>\n",
       "    </tr>\n",
       "    <tr>\n",
       "      <th>6</th>\n",
       "      <td>28</td>\n",
       "      <td>1800</td>\n",
       "      <td>1999-01-19</td>\n",
       "      <td>1</td>\n",
       "      <td>[financeiro, dp]</td>\n",
       "    </tr>\n",
       "    <tr>\n",
       "      <th>7</th>\n",
       "      <td>55</td>\n",
       "      <td>8000</td>\n",
       "      <td>1999-01-19</td>\n",
       "      <td>1</td>\n",
       "      <td>[eng, limpeza]</td>\n",
       "    </tr>\n",
       "    <tr>\n",
       "      <th>8</th>\n",
       "      <td>32</td>\n",
       "      <td>2500</td>\n",
       "      <td>1999-01-19</td>\n",
       "      <td>1</td>\n",
       "      <td>psico</td>\n",
       "    </tr>\n",
       "    <tr>\n",
       "      <th>9</th>\n",
       "      <td>38</td>\n",
       "      <td>4500</td>\n",
       "      <td>1999-01-19</td>\n",
       "      <td>1</td>\n",
       "      <td>limpeza</td>\n",
       "    </tr>\n",
       "  </tbody>\n",
       "</table>\n",
       "</div>"
      ],
      "text/plain": [
       "   age  salary birth_data  have_job           sectors\n",
       "0   30    1500 1999-01-19         1               NaN\n",
       "1   50    7000 1999-01-19         1                rh\n",
       "2   25    1200 1999-01-19         1                ti\n",
       "3   40    5000 1999-01-19         1                ml\n",
       "4   35    3000 1999-01-19         1                ia\n",
       "5   45    6000 1999-01-19         1                dp\n",
       "6   28    1800 1999-01-19         1  [financeiro, dp]\n",
       "7   55    8000 1999-01-19         1    [eng, limpeza]\n",
       "8   32    2500 1999-01-19         1             psico\n",
       "9   38    4500 1999-01-19         1           limpeza"
      ]
     },
     "execution_count": 427,
     "metadata": {},
     "output_type": "execute_result"
    }
   ],
   "source": [
    "df['have_job'] = df['have_job'].astype(np.int8)\n",
    "df"
   ]
  },
  {
   "cell_type": "code",
   "execution_count": 428,
   "id": "8e6a29dd",
   "metadata": {},
   "outputs": [
    {
     "name": "stdout",
     "output_type": "stream",
     "text": [
      "<class 'pandas.core.frame.DataFrame'>\n",
      "RangeIndex: 10 entries, 0 to 9\n",
      "Data columns (total 5 columns):\n",
      " #   Column      Non-Null Count  Dtype         \n",
      "---  ------      --------------  -----         \n",
      " 0   age         10 non-null     int8          \n",
      " 1   salary      10 non-null     int16         \n",
      " 2   birth_data  10 non-null     datetime64[ns]\n",
      " 3   have_job    10 non-null     int8          \n",
      " 4   sectors     9 non-null      object        \n",
      "dtypes: datetime64[ns](1), int16(1), int8(2), object(1)\n",
      "memory usage: 332.0+ bytes\n"
     ]
    }
   ],
   "source": [
    "df.loc[df['age'] == 30, ['have_job']] = 0\n",
    "\n",
    "df.info()"
   ]
  },
  {
   "cell_type": "markdown",
   "id": "b96452a9",
   "metadata": {},
   "source": [
    "# Exercise 4\n",
    "\n",
    "- You have a column `setores` that contains lists of strings.\n",
    "\n",
    "Convert this column so each value becomes a single string with items separated by commas.\n"
   ]
  },
  {
   "cell_type": "code",
   "execution_count": 429,
   "id": "fc7f762c",
   "metadata": {},
   "outputs": [
    {
     "data": {
      "text/html": [
       "<div>\n",
       "<style scoped>\n",
       "    .dataframe tbody tr th:only-of-type {\n",
       "        vertical-align: middle;\n",
       "    }\n",
       "\n",
       "    .dataframe tbody tr th {\n",
       "        vertical-align: top;\n",
       "    }\n",
       "\n",
       "    .dataframe thead th {\n",
       "        text-align: right;\n",
       "    }\n",
       "</style>\n",
       "<table border=\"1\" class=\"dataframe\">\n",
       "  <thead>\n",
       "    <tr style=\"text-align: right;\">\n",
       "      <th></th>\n",
       "      <th>age</th>\n",
       "      <th>salary</th>\n",
       "      <th>birth_data</th>\n",
       "      <th>have_job</th>\n",
       "      <th>sectors</th>\n",
       "    </tr>\n",
       "  </thead>\n",
       "  <tbody>\n",
       "    <tr>\n",
       "      <th>0</th>\n",
       "      <td>30</td>\n",
       "      <td>1500</td>\n",
       "      <td>1999-01-19</td>\n",
       "      <td>0</td>\n",
       "      <td>NaN</td>\n",
       "    </tr>\n",
       "    <tr>\n",
       "      <th>1</th>\n",
       "      <td>50</td>\n",
       "      <td>7000</td>\n",
       "      <td>1999-01-19</td>\n",
       "      <td>1</td>\n",
       "      <td>rh</td>\n",
       "    </tr>\n",
       "    <tr>\n",
       "      <th>2</th>\n",
       "      <td>25</td>\n",
       "      <td>1200</td>\n",
       "      <td>1999-01-19</td>\n",
       "      <td>1</td>\n",
       "      <td>ti</td>\n",
       "    </tr>\n",
       "    <tr>\n",
       "      <th>3</th>\n",
       "      <td>40</td>\n",
       "      <td>5000</td>\n",
       "      <td>1999-01-19</td>\n",
       "      <td>1</td>\n",
       "      <td>ml</td>\n",
       "    </tr>\n",
       "    <tr>\n",
       "      <th>4</th>\n",
       "      <td>35</td>\n",
       "      <td>3000</td>\n",
       "      <td>1999-01-19</td>\n",
       "      <td>1</td>\n",
       "      <td>ia</td>\n",
       "    </tr>\n",
       "    <tr>\n",
       "      <th>5</th>\n",
       "      <td>45</td>\n",
       "      <td>6000</td>\n",
       "      <td>1999-01-19</td>\n",
       "      <td>1</td>\n",
       "      <td>dp</td>\n",
       "    </tr>\n",
       "    <tr>\n",
       "      <th>6</th>\n",
       "      <td>28</td>\n",
       "      <td>1800</td>\n",
       "      <td>1999-01-19</td>\n",
       "      <td>1</td>\n",
       "      <td>[financeiro, dp]</td>\n",
       "    </tr>\n",
       "    <tr>\n",
       "      <th>7</th>\n",
       "      <td>55</td>\n",
       "      <td>8000</td>\n",
       "      <td>1999-01-19</td>\n",
       "      <td>1</td>\n",
       "      <td>[eng, limpeza]</td>\n",
       "    </tr>\n",
       "    <tr>\n",
       "      <th>8</th>\n",
       "      <td>32</td>\n",
       "      <td>2500</td>\n",
       "      <td>1999-01-19</td>\n",
       "      <td>1</td>\n",
       "      <td>psico</td>\n",
       "    </tr>\n",
       "    <tr>\n",
       "      <th>9</th>\n",
       "      <td>38</td>\n",
       "      <td>4500</td>\n",
       "      <td>1999-01-19</td>\n",
       "      <td>1</td>\n",
       "      <td>limpeza</td>\n",
       "    </tr>\n",
       "  </tbody>\n",
       "</table>\n",
       "</div>"
      ],
      "text/plain": [
       "   age  salary birth_data  have_job           sectors\n",
       "0   30    1500 1999-01-19         0               NaN\n",
       "1   50    7000 1999-01-19         1                rh\n",
       "2   25    1200 1999-01-19         1                ti\n",
       "3   40    5000 1999-01-19         1                ml\n",
       "4   35    3000 1999-01-19         1                ia\n",
       "5   45    6000 1999-01-19         1                dp\n",
       "6   28    1800 1999-01-19         1  [financeiro, dp]\n",
       "7   55    8000 1999-01-19         1    [eng, limpeza]\n",
       "8   32    2500 1999-01-19         1             psico\n",
       "9   38    4500 1999-01-19         1           limpeza"
      ]
     },
     "execution_count": 429,
     "metadata": {},
     "output_type": "execute_result"
    }
   ],
   "source": [
    "df"
   ]
  },
  {
   "cell_type": "code",
   "execution_count": 430,
   "id": "0b242437",
   "metadata": {},
   "outputs": [
    {
     "data": {
      "text/html": [
       "<div>\n",
       "<style scoped>\n",
       "    .dataframe tbody tr th:only-of-type {\n",
       "        vertical-align: middle;\n",
       "    }\n",
       "\n",
       "    .dataframe tbody tr th {\n",
       "        vertical-align: top;\n",
       "    }\n",
       "\n",
       "    .dataframe thead th {\n",
       "        text-align: right;\n",
       "    }\n",
       "</style>\n",
       "<table border=\"1\" class=\"dataframe\">\n",
       "  <thead>\n",
       "    <tr style=\"text-align: right;\">\n",
       "      <th></th>\n",
       "      <th>age</th>\n",
       "      <th>salary</th>\n",
       "      <th>birth_data</th>\n",
       "      <th>have_job</th>\n",
       "      <th>sectors</th>\n",
       "    </tr>\n",
       "  </thead>\n",
       "  <tbody>\n",
       "    <tr>\n",
       "      <th>0</th>\n",
       "      <td>30</td>\n",
       "      <td>1500</td>\n",
       "      <td>1999-01-19</td>\n",
       "      <td>0</td>\n",
       "      <td>&lt;NA&gt;</td>\n",
       "    </tr>\n",
       "    <tr>\n",
       "      <th>1</th>\n",
       "      <td>50</td>\n",
       "      <td>7000</td>\n",
       "      <td>1999-01-19</td>\n",
       "      <td>1</td>\n",
       "      <td>rh</td>\n",
       "    </tr>\n",
       "    <tr>\n",
       "      <th>2</th>\n",
       "      <td>25</td>\n",
       "      <td>1200</td>\n",
       "      <td>1999-01-19</td>\n",
       "      <td>1</td>\n",
       "      <td>ti</td>\n",
       "    </tr>\n",
       "    <tr>\n",
       "      <th>3</th>\n",
       "      <td>40</td>\n",
       "      <td>5000</td>\n",
       "      <td>1999-01-19</td>\n",
       "      <td>1</td>\n",
       "      <td>ml</td>\n",
       "    </tr>\n",
       "    <tr>\n",
       "      <th>4</th>\n",
       "      <td>35</td>\n",
       "      <td>3000</td>\n",
       "      <td>1999-01-19</td>\n",
       "      <td>1</td>\n",
       "      <td>ia</td>\n",
       "    </tr>\n",
       "  </tbody>\n",
       "</table>\n",
       "</div>"
      ],
      "text/plain": [
       "   age  salary birth_data  have_job sectors\n",
       "0   30    1500 1999-01-19         0    <NA>\n",
       "1   50    7000 1999-01-19         1      rh\n",
       "2   25    1200 1999-01-19         1      ti\n",
       "3   40    5000 1999-01-19         1      ml\n",
       "4   35    3000 1999-01-19         1      ia"
      ]
     },
     "execution_count": 430,
     "metadata": {},
     "output_type": "execute_result"
    }
   ],
   "source": [
    "\n",
    "df = df.explode('sectors')\n",
    "df.reset_index(drop=True, inplace=True)\n",
    "\n",
    "df['sectors'] = df['sectors'].astype('string')\n",
    "\n",
    "df.head()"
   ]
  },
  {
   "cell_type": "code",
   "execution_count": 431,
   "id": "67ad5335",
   "metadata": {},
   "outputs": [
    {
     "name": "stdout",
     "output_type": "stream",
     "text": [
      "<class 'pandas.core.frame.DataFrame'>\n",
      "RangeIndex: 12 entries, 0 to 11\n",
      "Data columns (total 5 columns):\n",
      " #   Column      Non-Null Count  Dtype         \n",
      "---  ------      --------------  -----         \n",
      " 0   age         12 non-null     int8          \n",
      " 1   salary      12 non-null     int16         \n",
      " 2   birth_data  12 non-null     datetime64[ns]\n",
      " 3   have_job    12 non-null     int8          \n",
      " 4   sectors     11 non-null     string        \n",
      "dtypes: datetime64[ns](1), int16(1), int8(2), string(1)\n",
      "memory usage: 372.0 bytes\n"
     ]
    }
   ],
   "source": [
    "df.info()"
   ]
  },
  {
   "cell_type": "markdown",
   "id": "5b020e39",
   "metadata": {},
   "source": [
    "# Exercise 5\n"
   ]
  },
  {
   "cell_type": "markdown",
   "id": "a74e744d",
   "metadata": {},
   "source": [
    "The column `code` is float, but values represent integer IDs.\n",
    "\n",
    "\n",
    "- Convert this column to integer type."
   ]
  },
  {
   "cell_type": "code",
   "execution_count": 432,
   "id": "357f9755",
   "metadata": {},
   "outputs": [],
   "source": [
    "df.insert(loc=5, column='code', value=3.9)"
   ]
  },
  {
   "cell_type": "code",
   "execution_count": 433,
   "id": "d6cd8cf2",
   "metadata": {},
   "outputs": [
    {
     "name": "stdout",
     "output_type": "stream",
     "text": [
      "<class 'pandas.core.frame.DataFrame'>\n",
      "RangeIndex: 12 entries, 0 to 11\n",
      "Data columns (total 6 columns):\n",
      " #   Column      Non-Null Count  Dtype         \n",
      "---  ------      --------------  -----         \n",
      " 0   age         12 non-null     int8          \n",
      " 1   salary      12 non-null     int16         \n",
      " 2   birth_data  12 non-null     datetime64[ns]\n",
      " 3   have_job    12 non-null     int8          \n",
      " 4   sectors     11 non-null     string        \n",
      " 5   code        12 non-null     int16         \n",
      "dtypes: datetime64[ns](1), int16(2), int8(2), string(1)\n",
      "memory usage: 396.0 bytes\n"
     ]
    }
   ],
   "source": [
    "df['code'] = df['code'].astype(np.int16)\n",
    "\n",
    "df.info()"
   ]
  },
  {
   "cell_type": "markdown",
   "id": "3b053181",
   "metadata": {},
   "source": [
    "# Exercise 6:\n",
    "\n",
    "The column `active` contains the strings \"yes\" and \"no\".\n",
    "\n",
    "- Convert this column to boolean (True if \"yes\", False for \"no\").\n"
   ]
  },
  {
   "cell_type": "code",
   "execution_count": 434,
   "id": "7278bc17",
   "metadata": {},
   "outputs": [],
   "source": [
    "df.insert(loc=6, column='active', value='No')"
   ]
  },
  {
   "cell_type": "code",
   "execution_count": 435,
   "id": "07431d33",
   "metadata": {},
   "outputs": [],
   "source": [
    "df.loc[df.index[:3], 'active'] = 'Yes'"
   ]
  },
  {
   "cell_type": "code",
   "execution_count": 438,
   "id": "c6590871",
   "metadata": {},
   "outputs": [
    {
     "data": {
      "text/plain": [
       "dtype('bool')"
      ]
     },
     "execution_count": 438,
     "metadata": {},
     "output_type": "execute_result"
    }
   ],
   "source": [
    "df['active'] = df['active'].map(lambda x: True if x == 'Yes' else False)\n",
    "\n",
    "\n",
    "df['active'].dtype"
   ]
  }
 ],
 "metadata": {
  "kernelspec": {
   "display_name": "my-ml-guide",
   "language": "python",
   "name": "python3"
  },
  "language_info": {
   "codemirror_mode": {
    "name": "ipython",
    "version": 3
   },
   "file_extension": ".py",
   "mimetype": "text/x-python",
   "name": "python",
   "nbconvert_exporter": "python",
   "pygments_lexer": "ipython3",
   "version": "3.13.2"
  }
 },
 "nbformat": 4,
 "nbformat_minor": 5
}
