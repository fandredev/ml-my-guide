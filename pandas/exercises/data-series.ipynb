{
 "cells": [
  {
   "cell_type": "markdown",
   "id": "12262703",
   "metadata": {},
   "source": [
    "#### https://www.w3resource.com/python-exercises/pandas/index-data-series.php"
   ]
  },
  {
   "cell_type": "markdown",
   "id": "e9d28f2b",
   "metadata": {},
   "source": [
    "#### 1. Creating a Series\n",
    "\n",
    "Write a Pandas program to create and display a one-dimensional array-like object containing an array of data using Pandas module."
   ]
  },
  {
   "cell_type": "code",
   "execution_count": 20,
   "id": "179428bc",
   "metadata": {},
   "outputs": [],
   "source": [
    "import pandas as pd\n",
    "import numpy as np"
   ]
  },
  {
   "cell_type": "code",
   "execution_count": 21,
   "id": "2639609b",
   "metadata": {},
   "outputs": [
    {
     "data": {
      "text/plain": [
       "0      0\n",
       "1      1\n",
       "2      2\n",
       "3      3\n",
       "4      4\n",
       "5      5\n",
       "6      6\n",
       "7      7\n",
       "8      8\n",
       "9      9\n",
       "10    10\n",
       "Name: Numbers, dtype: int64"
      ]
     },
     "execution_count": 21,
     "metadata": {},
     "output_type": "execute_result"
    }
   ],
   "source": [
    "r = np.arange(0, 11, 1)\n",
    "\n",
    "s = pd.Series(r, name=\"Numbers\")\n",
    "\n",
    "s"
   ]
  },
  {
   "cell_type": "markdown",
   "id": "0cab776c",
   "metadata": {},
   "source": [
    "#### 2. Series to List Conversion\n",
    "\n",
    "Write a Pandas program to convert a Panda module Series to Python list and it's type."
   ]
  },
  {
   "cell_type": "code",
   "execution_count": 22,
   "id": "0d8187d9",
   "metadata": {},
   "outputs": [
    {
     "data": {
      "text/plain": [
       "([0.0028218717594610254,\n",
       "  0.46587749077069907,\n",
       "  0.5065052116345365,\n",
       "  0.3872135264033447,\n",
       "  0.8121645894670301,\n",
       "  0.638162432512655,\n",
       "  0.4486948680351248,\n",
       "  0.2544390971398982,\n",
       "  0.8292793423528484,\n",
       "  0.5005503170112936],\n",
       " list)"
      ]
     },
     "execution_count": 22,
     "metadata": {},
     "output_type": "execute_result"
    }
   ],
   "source": [
    "r = np.random.rand(10)\n",
    "\n",
    "s = pd.Series(r, name='Numbers')\n",
    "\n",
    "to_list = s.tolist()\n",
    "\n",
    "to_list, type(to_list)"
   ]
  },
  {
   "cell_type": "markdown",
   "id": "fd804bae",
   "metadata": {},
   "source": [
    "#### 3. Series Arithmetic\n",
    "\n",
    "Write a Pandas program to add, subtract, multiple and divide two Pandas Series.\n",
    "\n",
    "Sample Series: [2, 4, 6, 8, 10], [1, 3, 5, 7, 9]"
   ]
  },
  {
   "cell_type": "code",
   "execution_count": 23,
   "id": "f13a9913",
   "metadata": {},
   "outputs": [
    {
     "name": "stdout",
     "output_type": "stream",
     "text": [
      "Sum Series:\n",
      "0     3\n",
      "1     7\n",
      "2    11\n",
      "3    15\n",
      "4    19\n",
      "dtype: int64\n",
      "\n",
      "Subtract Series:\n",
      "0    1\n",
      "1    1\n",
      "2    1\n",
      "3    1\n",
      "4    1\n",
      "dtype: int64\n",
      "\n",
      "Multiply Series:\n",
      "0     2\n",
      "1    12\n",
      "2    30\n",
      "3    56\n",
      "4    90\n",
      "dtype: int64\n",
      "\n",
      "Divide Series:\n",
      "0    2.000000\n",
      "1    1.333333\n",
      "2    1.200000\n",
      "3    1.142857\n",
      "4    1.111111\n",
      "dtype: float64\n"
     ]
    }
   ],
   "source": [
    "s1 = [2, 4, 6, 8, 10]\n",
    "s2 = [1, 3, 5, 7, 9]\n",
    "\n",
    "r = pd.Series(s1, name='Series 1')\n",
    "s = pd.Series(s2, name='Series 2')\n",
    "\n",
    "sum_series = r + s\n",
    "subtract_series = r - s\n",
    "multiply_series = r * s\n",
    "divide_series = r / s\n",
    "\n",
    "print(\"Sum Series:\")\n",
    "print(sum_series)\n",
    "\n",
    "print(\"\\nSubtract Series:\")\n",
    "print(subtract_series)\n",
    "\n",
    "print(\"\\nMultiply Series:\")\n",
    "print(multiply_series)\n",
    "\n",
    "print(\"\\nDivide Series:\")\n",
    "print(divide_series)"
   ]
  },
  {
   "cell_type": "markdown",
   "id": "cd5cb383",
   "metadata": {},
   "source": [
    "  #### 4. Series Comparison\n",
    "\n",
    "  Write a Pandas program to compare the elements of the two Pandas Series."
   ]
  },
  {
   "cell_type": "code",
   "execution_count": 24,
   "id": "4d90c134",
   "metadata": {},
   "outputs": [
    {
     "name": "stdout",
     "output_type": "stream",
     "text": [
      "Comparação de Séries: 0    False\n",
      "1    False\n",
      "2    False\n",
      "3    False\n",
      "4     True\n",
      "dtype: bool\n"
     ]
    },
    {
     "data": {
      "text/html": [
       "<div>\n",
       "<style scoped>\n",
       "    .dataframe tbody tr th:only-of-type {\n",
       "        vertical-align: middle;\n",
       "    }\n",
       "\n",
       "    .dataframe tbody tr th {\n",
       "        vertical-align: top;\n",
       "    }\n",
       "\n",
       "    .dataframe thead th {\n",
       "        text-align: right;\n",
       "    }\n",
       "</style>\n",
       "<table border=\"1\" class=\"dataframe\">\n",
       "  <thead>\n",
       "    <tr style=\"text-align: right;\">\n",
       "      <th></th>\n",
       "      <th>self</th>\n",
       "      <th>other</th>\n",
       "    </tr>\n",
       "  </thead>\n",
       "  <tbody>\n",
       "    <tr>\n",
       "      <th>0</th>\n",
       "      <td>2.0</td>\n",
       "      <td>1.0</td>\n",
       "    </tr>\n",
       "    <tr>\n",
       "      <th>1</th>\n",
       "      <td>4.0</td>\n",
       "      <td>3.0</td>\n",
       "    </tr>\n",
       "    <tr>\n",
       "      <th>2</th>\n",
       "      <td>6.0</td>\n",
       "      <td>5.0</td>\n",
       "    </tr>\n",
       "    <tr>\n",
       "      <th>3</th>\n",
       "      <td>8.0</td>\n",
       "      <td>7.0</td>\n",
       "    </tr>\n",
       "  </tbody>\n",
       "</table>\n",
       "</div>"
      ],
      "text/plain": [
       "   self  other\n",
       "0   2.0    1.0\n",
       "1   4.0    3.0\n",
       "2   6.0    5.0\n",
       "3   8.0    7.0"
      ]
     },
     "execution_count": 24,
     "metadata": {},
     "output_type": "execute_result"
    }
   ],
   "source": [
    "s = [2, 4, 6, 8, 10]\n",
    "r = [1, 3, 5, 7, 10]\n",
    "\n",
    "s1 = pd.Series(s, name='Series 1')\n",
    "s2 = pd.Series(r, name='Series 2')\n",
    "\n",
    "\n",
    "print('Comparação de Séries:', s1 == s2)\n",
    "\n",
    "s1.compare(s2)"
   ]
  },
  {
   "cell_type": "markdown",
   "id": "4c0443ae",
   "metadata": {},
   "source": [
    "#### 5. Dict to Series\n",
    "\n",
    "Write a Pandas program to convert a dictionary to a Pandas series."
   ]
  },
  {
   "cell_type": "code",
   "execution_count": 25,
   "id": "22baa0af",
   "metadata": {},
   "outputs": [
    {
     "data": {
      "text/plain": [
       "a    100\n",
       "b    200\n",
       "c    300\n",
       "d    400\n",
       "e    800\n",
       "Name: Series Dict, dtype: int64"
      ]
     },
     "execution_count": 25,
     "metadata": {},
     "output_type": "execute_result"
    }
   ],
   "source": [
    "d = {'a': 100, 'b': 200, 'c': 300, 'd': 400, 'e': 800}\n",
    "\n",
    "pd.Series(d, name='Series Dict')"
   ]
  },
  {
   "cell_type": "markdown",
   "id": "a051be93",
   "metadata": {},
   "source": [
    "#### 6. Array to Series\n",
    "\n",
    "Write a Pandas program to convert a NumPy array to a Pandas series.\n",
    "\n"
   ]
  },
  {
   "cell_type": "code",
   "execution_count": 26,
   "id": "532964be",
   "metadata": {},
   "outputs": [
    {
     "data": {
      "text/plain": [
       "0    89\n",
       "1    46\n",
       "2    13\n",
       "3     4\n",
       "4    67\n",
       "5    60\n",
       "6    35\n",
       "7     2\n",
       "8    47\n",
       "9    73\n",
       "Name: Random Numbers, dtype: int64"
      ]
     },
     "execution_count": 26,
     "metadata": {},
     "output_type": "execute_result"
    }
   ],
   "source": [
    "a = np.random.randint(1, 100, 10)\n",
    "\n",
    "s = pd.Series(a, name='Random Numbers')\n",
    "\n",
    "s"
   ]
  },
  {
   "cell_type": "markdown",
   "id": "4a207838",
   "metadata": {},
   "source": [
    "#### 7. Change Series DataType\n",
    "\n",
    "Write a Pandas program to change the data type of given a column or a Series."
   ]
  },
  {
   "cell_type": "code",
   "execution_count": 27,
   "id": "47726f7c",
   "metadata": {},
   "outputs": [
    {
     "data": {
      "text/plain": [
       "0    100.00\n",
       "1    200.00\n",
       "2       NaN\n",
       "3    300.11\n",
       "4    400.00\n",
       "Name: Original Series, dtype: float64"
      ]
     },
     "execution_count": 27,
     "metadata": {},
     "output_type": "execute_result"
    }
   ],
   "source": [
    "original = ['100', '200', 'python', '300.11', '400']\n",
    "\n",
    "s = pd.Series(original, name='Original Series')\n",
    "\n",
    "s = pd.to_numeric(s, errors='coerce')\n",
    "s"
   ]
  },
  {
   "cell_type": "markdown",
   "id": "dbc28c7d",
   "metadata": {},
   "source": [
    "#### 8. DF Column to Series\n",
    "\n",
    "Write a Pandas program to convert the first column of a DataFrame as a Series."
   ]
  },
  {
   "cell_type": "code",
   "execution_count": 28,
   "id": "e0f68a9e",
   "metadata": {},
   "outputs": [
    {
     "data": {
      "text/plain": [
       "0     1\n",
       "1     2\n",
       "2     3\n",
       "3     4\n",
       "4     7\n",
       "5    11\n",
       "Name: Col-1, dtype: int64"
      ]
     },
     "execution_count": 28,
     "metadata": {},
     "output_type": "execute_result"
    }
   ],
   "source": [
    "df = pd.DataFrame({\n",
    "  'col-1': [1, 2, 3, 4, 7, 11],\n",
    "  'col-2': [4, 5, 6, 9, 5, 0],\n",
    "  'col-3': [7,5,8, 12, 1, 11],\n",
    "})\n",
    "\n",
    "\n",
    "pd.Series(df['col-1'], name='Col-1')"
   ]
  },
  {
   "cell_type": "markdown",
   "id": "e928ec39",
   "metadata": {},
   "source": [
    "#### 9. Series to Array\n",
    "\n",
    "Write a Pandas program to convert a given Series to an array."
   ]
  },
  {
   "cell_type": "code",
   "execution_count": 29,
   "id": "05563c5e",
   "metadata": {},
   "outputs": [
    {
     "data": {
      "text/plain": [
       "(array([100, 200, 'python', 300.11, 400], dtype=object), numpy.ndarray)"
      ]
     },
     "execution_count": 29,
     "metadata": {},
     "output_type": "execute_result"
    }
   ],
   "source": [
    "a = [100, 200, 'python', 300.11, 400]\n",
    "\n",
    "s = pd.Series(a, name='Original Series')\n",
    "\n",
    "s.values, type(s.values)"
   ]
  },
  {
   "cell_type": "markdown",
   "id": "bde577fa",
   "metadata": {},
   "source": [
    "#### 10. Flatten Series of Lists\n",
    "\n",
    "Write a Pandas program to convert Series of lists to one Series."
   ]
  },
  {
   "cell_type": "code",
   "execution_count": 30,
   "id": "19e44c42",
   "metadata": {},
   "outputs": [
    {
     "data": {
      "text/plain": [
       "0       Red\n",
       "1     Green\n",
       "2     White\n",
       "3       Red\n",
       "4     Black\n",
       "5    Yellow\n",
       "dtype: object"
      ]
     },
     "execution_count": 30,
     "metadata": {},
     "output_type": "execute_result"
    }
   ],
   "source": [
    "s = pd.Series([\n",
    "    ['Red', 'Green', 'White'],\n",
    "    ['Red', 'Black'],\n",
    "    ['Yellow']])\n",
    "\n",
    "s = s.apply(pd.Series).stack().reset_index(drop=True)\n",
    "\n",
    "s"
   ]
  },
  {
   "cell_type": "markdown",
   "id": "c18146a3",
   "metadata": {},
   "source": [
    "#### 11. Sort Series\n",
    "\n",
    "Write a Pandas program to sort a given Series."
   ]
  },
  {
   "cell_type": "code",
   "execution_count": 31,
   "id": "863c2453",
   "metadata": {},
   "outputs": [
    {
     "data": {
      "text/plain": [
       "2      0.00\n",
       "0    100.00\n",
       "1    200.00\n",
       "3    300.11\n",
       "4    400.00\n",
       "Name: Original Series, dtype: float64"
      ]
     },
     "execution_count": 31,
     "metadata": {},
     "output_type": "execute_result"
    }
   ],
   "source": [
    "a = [100, 200, 'python', 300.11, 400]\n",
    "\n",
    "s = pd.Series(a, name='Original Series')\n",
    "s = pd.to_numeric(s, errors='coerce')\n",
    "s.fillna(0, inplace=True)\n",
    "\n",
    "s.sort_values(ascending=True, inplace=True)\n",
    "\n",
    "s"
   ]
  },
  {
   "cell_type": "markdown",
   "id": "e8db92b5",
   "metadata": {},
   "source": [
    "#### 12. Append Data to Series\n",
    "\n",
    "Write a Pandas program to add some data to an existing Series."
   ]
  },
  {
   "cell_type": "code",
   "execution_count": 32,
   "id": "3d1f681f",
   "metadata": {},
   "outputs": [
    {
     "data": {
      "text/plain": [
       "(a       100\n",
       " b       200\n",
       " c    python\n",
       " d    300.11\n",
       " e       400\n",
       " f       500\n",
       " h       php\n",
       " Name: Append Data to Series, dtype: object,\n",
       " (7,))"
      ]
     },
     "execution_count": 32,
     "metadata": {},
     "output_type": "execute_result"
    }
   ],
   "source": [
    "a = [100, 200, 'python', 300.11, 400]\n",
    "b = [500, 'php']\n",
    "\n",
    "s = pd.Series(a, name='Append Data to Series', index=['a', 'b', 'c', 'd', 'e'])\n",
    "\n",
    "s['f'] = b[0]\n",
    "s['h'] = b[1] \n",
    "\n",
    "s, s.shape"
   ]
  },
  {
   "cell_type": "markdown",
   "id": "bdae2a1c",
   "metadata": {},
   "source": [
    "\n",
    "#### 13. Subset Series\n",
    "\n",
    "Write a Pandas program to create a subset of a given series based on value and condition."
   ]
  },
  {
   "cell_type": "code",
   "execution_count": 33,
   "id": "68815d95",
   "metadata": {},
   "outputs": [
    {
     "data": {
      "text/plain": [
       "(0    0\n",
       " 1    1\n",
       " 2    2\n",
       " 3    3\n",
       " 4    4\n",
       " 5    5\n",
       " Name: Series, dtype: int64,\n",
       " 0    0\n",
       " 1    1\n",
       " 2    2\n",
       " 3    3\n",
       " 4    4\n",
       " 5    5\n",
       " Name: Series, dtype: int64)"
      ]
     },
     "execution_count": 33,
     "metadata": {},
     "output_type": "execute_result"
    }
   ],
   "source": [
    "a = np.arange(0, 11, 1)\n",
    "\n",
    "s = pd.Series(a, name='Series')\n",
    "\n",
    "s = s[:6]\n",
    "v = s[s < 6]\n",
    "\n",
    "v, s"
   ]
  },
  {
   "cell_type": "markdown",
   "id": "53511403",
   "metadata": {},
   "source": [
    "#### 14. Reorder Series Index\n",
    "\n",
    "Write a Pandas program to change the order of index of a given series."
   ]
  },
  {
   "cell_type": "code",
   "execution_count": 36,
   "id": "fe46abb9",
   "metadata": {},
   "outputs": [
    {
     "data": {
      "text/plain": [
       "B    2\n",
       "A    1\n",
       "C    3\n",
       "D    4\n",
       "E    5\n",
       "Name: 0 a 6 Series, dtype: int64"
      ]
     },
     "execution_count": 36,
     "metadata": {},
     "output_type": "execute_result"
    }
   ],
   "source": [
    "s = np.arange(1, 6, 1)\n",
    "idx = ['A', 'B', 'C', 'D','E']\n",
    "new_idx = ['B','A','C','D','E']\n",
    "\n",
    "s = pd.Series(s, index=idx, name='0 a 6 Series')\n",
    "\n",
    "s = s.reindex(index=new_idx)\n",
    "s"
   ]
  },
  {
   "cell_type": "markdown",
   "id": "7a31338a",
   "metadata": {},
   "source": [
    "#### 15. Series Stats\n",
    "\n",
    "Write a Pandas program to create the mean and standard deviation of the data of a given Series."
   ]
  },
  {
   "cell_type": "code",
   "execution_count": 50,
   "id": "242e397e",
   "metadata": {},
   "outputs": [
    {
     "data": {
      "text/plain": [
       "(np.float64(4.818181818181818), 3.3681633912543947)"
      ]
     },
     "execution_count": 50,
     "metadata": {},
     "output_type": "execute_result"
    }
   ],
   "source": [
    "s = np.array([1,2,3,4,5,6,7,8,9,5,3])\n",
    "\n",
    "ss = pd.Series(s, name='Series')\n",
    "\n",
    "describe = ss.describe()\n",
    "\n",
    "describe['mean'], describe.std()"
   ]
  },
  {
   "cell_type": "markdown",
   "id": "e23e1d5e",
   "metadata": {},
   "source": [
    "#### 16. Series Difference\n",
    "\n",
    "Write a Pandas program to get the items of a given series not present in another given series."
   ]
  },
  {
   "cell_type": "code",
   "execution_count": 58,
   "id": "4077f9ca",
   "metadata": {},
   "outputs": [
    {
     "data": {
      "text/plain": [
       "0    0\n",
       "1    1\n",
       "3    3\n",
       "5    5\n",
       "Name: SR1 Series, dtype: int64"
      ]
     },
     "execution_count": 58,
     "metadata": {},
     "output_type": "execute_result"
    }
   ],
   "source": [
    "sr1 = np.arange(0, 6, 1)\n",
    "sr2 = np.arange(2, 12, 2)\n",
    "\n",
    "s = pd.Series(sr1, name='SR1 Series')\n",
    "c = pd.Series(sr2, name='SR2 Series')\n",
    "\n",
    "s[~s.isin(c)]"
   ]
  },
  {
   "cell_type": "markdown",
   "id": "84c56a83",
   "metadata": {},
   "source": [
    "#### 17. Non-common Series Items\n",
    "\n",
    "Write a Pandas program to get the items which are not common of two given series."
   ]
  },
  {
   "cell_type": "code",
   "execution_count": 59,
   "id": "021f53f0",
   "metadata": {},
   "outputs": [
    {
     "data": {
      "text/plain": [
       "0     0\n",
       "1     1\n",
       "3     3\n",
       "5     5\n",
       "6     6\n",
       "7     8\n",
       "8    10\n",
       "dtype: int64"
      ]
     },
     "execution_count": 59,
     "metadata": {},
     "output_type": "execute_result"
    }
   ],
   "source": [
    "sr1 = np.arange(0, 6, 1)\n",
    "sr2 = np.arange(2, 12, 2)\n",
    "\n",
    "\n",
    "s = pd.Series(sr1, name='SR 1')\n",
    "c = pd.Series(sr2, name='SR 2')\n",
    "\n",
    "sr11 = pd.Series(np.union1d(sr1, sr2))\n",
    "sr22 = pd.Series(np.intersect1d(sr1, sr2))\n",
    "result = sr11[~sr11.isin(sr22)]\n",
    "\n",
    "result"
   ]
  },
  {
   "cell_type": "markdown",
   "id": "5f3ec56e",
   "metadata": {},
   "source": [
    "#### 18. Five-Number Summary\n",
    "\n",
    "Write a Pandas program to compute the minimum, 25th percentile, median, 75th, and maximum of a given series."
   ]
  },
  {
   "cell_type": "code",
   "execution_count": 67,
   "id": "2d22991c",
   "metadata": {},
   "outputs": [
    {
     "data": {
      "text/plain": [
       "'(np.float64(0.11145441037877646), np.float64(0.30241939541975565), np.float64(0.5889418871961005), np.float64(0.9217985621928444), np.float64(0.9912084472376833))'"
      ]
     },
     "execution_count": 67,
     "metadata": {},
     "output_type": "execute_result"
    }
   ],
   "source": [
    "a = np.random.rand(19)\n",
    "\n",
    "p = pd.Series(a, name='Rand')\n",
    "\n",
    "describe = p.describe()\n",
    "describe\n",
    "\n",
    "f'{describe['min'], describe['25%'], describe['mean'], describe['75%'], describe['max']}'"
   ]
  }
 ],
 "metadata": {
  "kernelspec": {
   "display_name": "my-ml-guide",
   "language": "python",
   "name": "python3"
  },
  "language_info": {
   "codemirror_mode": {
    "name": "ipython",
    "version": 3
   },
   "file_extension": ".py",
   "mimetype": "text/x-python",
   "name": "python",
   "nbconvert_exporter": "python",
   "pygments_lexer": "ipython3",
   "version": "3.13.2"
  }
 },
 "nbformat": 4,
 "nbformat_minor": 5
}
